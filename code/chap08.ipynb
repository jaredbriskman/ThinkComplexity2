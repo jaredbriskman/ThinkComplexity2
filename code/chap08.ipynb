{
 "cells": [
  {
   "cell_type": "markdown",
   "metadata": {},
   "source": [
    "# Self-organized criticality\n",
    "\n",
    "Code examples from [Think Complexity, 2nd edition](http://greenteapress.com/wp/complexity2), Chapter 8\n",
    "\n",
    "Copyright 2016 Allen Downey, [MIT License](http://opensource.org/licenses/MIT)"
   ]
  },
  {
   "cell_type": "code",
   "execution_count": 6,
   "metadata": {
    "collapsed": true
   },
   "outputs": [],
   "source": [
    "from __future__ import print_function, division\n",
    "\n",
    "%matplotlib inline\n",
    "%precision 3\n",
    "\n",
    "import warnings\n",
    "warnings.filterwarnings('ignore')\n",
    "\n",
    "import numpy as np\n",
    "import matplotlib.pyplot as plt\n",
    "\n",
    "import thinkplot\n",
    "from thinkstats2 import Hist, Cdf\n",
    "\n",
    "from matplotlib import rc\n",
    "rc('animation', html='html5')"
   ]
  },
  {
   "cell_type": "markdown",
   "metadata": {},
   "source": [
    "## Sand pile"
   ]
  },
  {
   "cell_type": "markdown",
   "metadata": {},
   "source": [
    "`Sand.py` contains an implementation of the sand pile model."
   ]
  },
  {
   "cell_type": "code",
   "execution_count": 7,
   "metadata": {
    "collapsed": false
   },
   "outputs": [],
   "source": [
    "from Sand import SandPile, SandPileViewer"
   ]
  },
  {
   "cell_type": "markdown",
   "metadata": {},
   "source": [
    "Here's a small example starting with two cells ready to topple.  `n` is the number of rows, `m` is the number of columns."
   ]
  },
  {
   "cell_type": "code",
   "execution_count": 8,
   "metadata": {
    "collapsed": false
   },
   "outputs": [
    {
     "name": "stdout",
     "output_type": "stream",
     "text": [
      "[[0 0 0 0 0]\n",
      " [0 4 0 4 0]\n",
      " [0 0 0 0 0]]\n"
     ]
    }
   ],
   "source": [
    "pile = SandPile(n=3, m=5, level=0)\n",
    "pile.array[1, 1] = 4\n",
    "pile.array[1, 3] = 4\n",
    "\n",
    "a = pile.array\n",
    "print(a)"
   ]
  },
  {
   "cell_type": "markdown",
   "metadata": {},
   "source": [
    "To execute one step, first we find cells that are above the toppling threshold, `K`."
   ]
  },
  {
   "cell_type": "code",
   "execution_count": 9,
   "metadata": {
    "collapsed": false
   },
   "outputs": [
    {
     "name": "stdout",
     "output_type": "stream",
     "text": [
      "[[0 0 0 0 0]\n",
      " [0 1 0 1 0]\n",
      " [0 0 0 0 0]]\n"
     ]
    }
   ],
   "source": [
    "K = 3\n",
    "toppling = a > K\n",
    "print(toppling.astype(int))"
   ]
  },
  {
   "cell_type": "markdown",
   "metadata": {},
   "source": [
    "Then we use `correlate2d` to make a copy of the update kernel around each toppling cell."
   ]
  },
  {
   "cell_type": "code",
   "execution_count": 10,
   "metadata": {
    "collapsed": false
   },
   "outputs": [
    {
     "name": "stdout",
     "output_type": "stream",
     "text": [
      "[[ 0  1  0  1  0]\n",
      " [ 1 -4  2 -4  1]\n",
      " [ 0  1  0  1  0]]\n"
     ]
    }
   ],
   "source": [
    "kernel = np.array([[0, 1, 0],\n",
    "                   [1,-4, 1],\n",
    "                   [0, 1, 0]], \n",
    "                  dtype=np.int32)\n",
    "\n",
    "from scipy.signal import correlate2d\n",
    "\n",
    "c = correlate2d(toppling, kernel, mode='same', boundary='fill', fillvalue=0)\n",
    "print(c)"
   ]
  },
  {
   "cell_type": "markdown",
   "metadata": {},
   "source": [
    "Finally, we add the result back into the array:"
   ]
  },
  {
   "cell_type": "code",
   "execution_count": 11,
   "metadata": {
    "collapsed": false
   },
   "outputs": [
    {
     "name": "stdout",
     "output_type": "stream",
     "text": [
      "[[0 1 0 1 0]\n",
      " [1 0 2 0 1]\n",
      " [0 1 0 1 0]]\n"
     ]
    }
   ],
   "source": [
    "a += c\n",
    "print(a)"
   ]
  },
  {
   "cell_type": "markdown",
   "metadata": {},
   "source": [
    "Any grains that topple off the edge disappear."
   ]
  },
  {
   "cell_type": "markdown",
   "metadata": {},
   "source": [
    "## Animation"
   ]
  },
  {
   "cell_type": "markdown",
   "metadata": {},
   "source": [
    "Let's look at a bigger pile, with `n=20`.  All cells are initialized to `level`, which is meant to be substantially bigger than `K`."
   ]
  },
  {
   "cell_type": "code",
   "execution_count": 12,
   "metadata": {
    "collapsed": false
   },
   "outputs": [
    {
     "name": "stdout",
     "output_type": "stream",
     "text": [
      "(332, 53336)\n"
     ]
    }
   ],
   "source": [
    "pile = SandPile(n=20, level=10)\n",
    "print(pile.run())"
   ]
  },
  {
   "cell_type": "markdown",
   "metadata": {},
   "source": [
    "The `run` function invokes `step` until no more cells topple and returns the number of time steps and the number of affected cells."
   ]
  },
  {
   "cell_type": "markdown",
   "metadata": {},
   "source": [
    "Now let's look at an animation, starting from this initialized pile."
   ]
  },
  {
   "cell_type": "code",
   "execution_count": 13,
   "metadata": {
    "collapsed": false
   },
   "outputs": [
    {
     "data": {
      "image/png": "[encoded data removed]",
      "text/plain": [
       "<matplotlib.figure.Figure at 0x7f1eecc737f0>"
      ]
     },
     "metadata": {},
     "output_type": "display_data"
    }
   ],
   "source": [
    "viewer = SandPileViewer(pile, drop_flag=True)\n",
    "anim = viewer.animate(frames=100)"
   ]
  },
  {
   "cell_type": "markdown",
   "metadata": {},
   "source": [
    "Starting with `level>K` produces all kinds of interesting patterns."
   ]
  },
  {
   "cell_type": "markdown",
   "metadata": {},
   "source": [
    "Each step of the animation drops a single grain at a random location and runs until no more cells topple."
   ]
  },
  {
   "cell_type": "markdown",
   "metadata": {},
   "source": [
    "Most avalanches are small, but some are very large."
   ]
  },
  {
   "cell_type": "code",
   "execution_count": 14,
   "metadata": {
    "collapsed": false
   },
   "outputs": [
    {
     "data": {
      "text/html": [
       "<video width=\"432.0\" height=\"288.0\" controls autoplay loop>\n",
       "  <source type=\"video/mp4\" src=\"data:video/mp4;base64,AAAAHGZ0eXBNNFYgAAACAGlzb21pc28yYXZjMQAAAAhmcmVlAADxnG1kYXQAAAKtBgX//6ncRem9\n",
       "5tlIt5Ys2CDZI+7veDI2NCAtIGNvcmUgMTQ4IHIyNjQzIDVjNjU3MDQgLSBILjI2NC9NUEVHLTQg\n",
       "QVZDIGNvZGVjIC0gQ29weWxlZnQgMjAwMy0yMDE1IC0gaHR0cDovL3d3dy52aWRlb2xhbi5vcmcv\n",
       "eDI2NC5odG1sIC0gb3B0aW9uczogY2FiYWM9MSByZWY9MyBkZWJsb2NrPTE6MDowIGFuYWx5c2U9\n",
       "MHgzOjB4MTEzIG1lPWhleCBzdWJtZT03IHBzeT0xIHBzeV9yZD0xLjAwOjAuMDAgbWl4ZWRfcmVm\n",
       "PTEgbWVfcmFuZ2U9MTYgY2hyb21hX21lPTEgdHJlbGxpcz0xIDh4OGRjdD0xIGNxbT0wIGRlYWR6\n",
       "b25lPTIxLDExIGZhc3RfcHNraXA9MSBjaHJvbWFfcXBfb2Zmc2V0PS0yIHRocmVhZHM9NiBsb29r\n",
       "YWhlYWRfdGhyZWFkcz0xIHNsaWNlZF90aHJlYWRzPTAgbnI9MCBkZWNpbWF0ZT0xIGludGVybGFj\n",
       "ZWQ9MCBibHVyYXlfY29tcGF0PTAgY29uc3RyYWluZWRfaW50cmE9MCBiZnJhbWVzPTMgYl9weXJh\n",
       "bWlkPTIgYl9hZGFwdD0xIGJfYmlhcz0wIGRpcmVjdD0xIHdlaWdodGI9MSBvcGVuX2dvcD0wIHdl\n",
       "aWdodHA9MiBrZXlpbnQ9MjUwIGtleWludF9taW49NSBzY2VuZWN1dD00MCBpbnRyYV9yZWZyZXNo\n",
       "PTAgcmNfbG9va2FoZWFkPTQwIHJjPWNyZiBtYnRyZWU9MSBjcmY9MjMuMCBxY29tcD0wLjYwIHFw\n",
       "bWluPTAgcXBtYXg9NjkgcXBzdGVwPTQgaXBfcmF0aW89MS40MCBhcT0xOjEuMDAAgAAAI0JliIQA\n",
       "E//+97GPgU3IAA2XOop6H+EVsfSQUXqx2aBk6gAAAwAAiYGOFkETf+CdkID9MGNoDGXiRp3vaZ7c\n",
       "0f9L4uV5AsZPK5BdxLBXs4AICzu3shjtOMAuP/ajiXi5MSzAAWrdWDwH6XEiCz3ueELjuLmK3gsb\n",
       "/8NtmCV9b4093hxwqggCv9C8JUkL63oty+ro/5I7IIUk+311G75Hy9ZG3tf+e5fYaKh0rach2f1x\n",
       "ZAY3kmz6pXONnYhQRyzmCGr+OisOaCkZEEi98ZaoWHsV2mVUcbHgPYHNTrbQjRxXBIYXUwpayeJs\n",
       "CCxy9xGQWZQ0sEt1aVjL2Qhik0OZ+53HDy22mrnGKHSpiU1Wq/OnHkCaNnuxgZ91YTOZYwSECigv\n",
       "0ATET917kbgf3IIsqY3UQfejZylqMYDX70PzWQsqERefW1uSN0PFHHAEtmZg9swY1tfLuc5cAfi7\n",
       "qL1crKxTK+oMTRAOfKMUtnKSvxykE8umVW4L0Uv+rE0t29BOSSRg7Nf0AyTPz0rgqwFvmpk8V9Jf\n",
       "tvpGPbnf359vpoIINcJmAa/UB0K/6iSJ/gfQkraJM67JavokFchbbHFzI4TYIxngfODshkuHFce+\n",
       "KxFotA5ywbfPz6kOwlazx4zk/hddDvfhtdGBIlNJs8nasKz+wHX3wBXJRSNr13r44JDMJltsn0Ud\n",
       "z9AK6tOZLN8YYbeA5QLQQ1syjoAFug6eLtWtLbZimwkMP/gQbSI2TxrH1R6M91OgKR5tAfeZRGjw\n",
       "Puh8l+CC406tLuegg3iiRH6loJuszbm11vQWSfLtq1j/Knam0ugJxS0Sd1jR1hlvZznQ8vuFnln/\n",
       "PNJyfzd7jZhLkaems0utJDCoy5mOTN+fieP7+ZlbXde2Dfi34BMlqFW5UMGZJEUPSq9O9JbrCu1r\n",
       "lLfenKm6FxGzIbFuGk/FGrN05uOJDdUdB0dH84i1t+X2hscmYejRyawUXh4dA7d67tgnumnvElaa\n",
       "qNs+VfWns9ubJ//AQZzV0h0wmmH4yKj5a8tXBklNtGYbEuNxju7XpFjDVgC8ckKI0dsrE9xfE4iG\n",
       "nIy3gvOnCoSkR5qQkRbIQAWDsghBtebFXQyGB3tmzyixYpDxELIpoCt6Abmg5/VPZUFB6gMCgJ3k\n",
       "rFpb7e0CgjBrDvgsEs1YjErMpZ+qKJT94ztsREdlpTNv9E1oGXGLGtwplhcg3eGBgt/CeSZe7ygw\n",
       "Z+jn24ST7W+HQ0H9hbIPGmjETYzeE8sz5ZSGtY3A3D/gCLKY0Ip9tP+8SQPtEnXiogtc+VC0gOit\n",
       "3NxW/X0olIa79iLsWEAuwV2ORTut9/SralljmoX7cCr2l6luoKW/abOCWp8CT4dB8a2IeDoCAaym\n",
       "XlZsQu6eD7IeW4rE2ygJwAayDvUrO45xiv/mhl5iEO7tWEBkRcvomeScpAx4fqkIE+52ISKMG2er\n",
       "24FXjU0oPUmHXhc6TwhCHodZxJZeJWhMHzmbpICE6h7LWFKQ24U8WXe5lGZpsMgwZ0IVF67f0lbD\n",
       "HZjPluepeIafFyFnXZdh9aX5PrxaSgoYM+RbOLxH/AQWos9d17nzkQRbfwMM45mGxtOvsCppTTbW\n",
       "ibvPg2GaAYlIRxp5duBJ32gtSP7j/+vHtbAQ7E9dsFS4EqLFj95/N/yKjpdjKFTlec2bOxqBy/9j\n",
       "v2dz5VS+2fP+jdhPQR0jeLj7EVNbwKj/UXcDilEUkMIpHtooSGUrFcCbGZt0VL0Le5m+zic0cKwS\n",
       "KNVCTtlKkae4Uj+Zjxs0lW2aK9EgABj50vB2R8QMUDhMKIgbuHkCRfWHim2tKWUa91z2xWfRHJcZ\n",
       "FKEp7hNSm6JARuD4EbLP5lATIZBroKVJ3JfESJklZfdCQVUnU94EkmFoNrW7Zn11vhSYcok9B8cH\n",
       "w+SsRSw5VMzhL2FEMMuOFczdN61hA0rKXOQAuJzR8N5NZuEIytQoC+CsJKOwMeeQB+EhCG+0QM85\n",
       "pByasxW8BuHTsDQQoPkzk96C/gF9OwCm/6hNT6xu3y5fXkI1jYYBUxjuAPggWjuWi2S7SVADnYz/\n",
       "aIumm2FamjZuKqQZzjrX2IFBmitTz8nChJZ7oL5vMvKsBi2ZwQjXVh0gUWKLak6StAvQ/DNJy4uR\n",
       "HyNPTxXB6/u12fw5gAAAEM17YkXmAo7lPae3L+qcKRFoBgdCbrPD4FiqkqNtKws7vYc0r4f8rFyD\n",
       "257fAz878efs8xieqhty6Zrq3oe6q9VFh9Xee4UOirx+RNqyfJfHfh3w7Pq0e6LcID/TOixSmKHW\n",
       "9w54MoxCyyW+kkoIWD9cGyllUYlFwG9U5WK0VgPQIrzIvP2nqFdKM351d1pzovel/7RHJgMGouNT\n",
       "tuAgM3xCm9u/om+dbG7LtryHNHFT3kJ8kTqBJ20YSN6g9iyG7APgtmxBoZIYReeh0/rZwK0R1hL7\n",
       "XvcCTRkHOV5twjymbRor5EeRqgY7bd6vqYQa5aSRI+wj8rWlNH+4aRwO7sPGrJY7GX+iim6ZDHkW\n",
       "ooCx+wjTGbfDbxtMW5ruxYSMOZbh63YabGd8lbH37QsWgDF/8ZVnTJyGJj/kRgqze2MCw1ump8Yh\n",
       "tp3f/RAjUwdxAT/vgEGDtHZnS/djwmeSORWFGnXaGO72O8LEC0Hq2rgrEgcvEook4Frr734M0kRu\n",
       "ydbgkL/rE3vAsiQbcmxFvVfcv+FvPlUvCoj9OpcxLNmt2gSjS2KJstVYoRLkA7Dyol2tTOnS2pAS\n",
       "x1wOE1t9dSUPDQxK/xWU9uKWL1k7bvpVgJ1JvM/R4PLc2L5Q3GBLAVY6bjP51PiFWEJ17qf/foKq\n",
       "BXK33xh4Hb2MosqcOVn7fYWZ7KMr90QtGmSJjJn+e4fnE6uROxsHzLdVrtcef1JEesoEkbXCuu4B\n",
       "Mt0r7imq4YsOAxBlRUhDpNYWvi01uubV5ow+q+OdImCnjYfhAGeRxEZwW0jsbriCadayCfSCQwLe\n",
       "TXZgy0Xv5gqnJBeK1+Qp7Nwq9Oz+tymTMvWa50CXUoJl1ih4wYieAztPzHFWpxRKh0icXpjUS+1P\n",
       "/Vkk1ack+EDmyWP/7XxDqtzd1jmnUDvS5P/MIaeQ3F/0kl0lk8Q7LqThNB7EAsn1VMEg/Ce8U3yC\n",
       "A1D+ARyQBgCWlxKOUJCWKylot5nvprE6KmfLCjvrMeDCL++LsuwanDSLPWM3NfsRXrigW0KySCX/\n",
       "r8k+wlDV+S8a1lwn5e632UVU7bRAPHBOQ4wx6CjXIWJeyPIps4Dz5nF2qRYEVDEr7ljoGISLlRY7\n",
       "mNyk6zxxmrk47XJxmqKTTLiLCbMEMwS6ZEkFS7vxK34dRf7xjjJSS+9EZe7iYVhx7zScYeM4MIlV\n",
       "Tjw208JPr1IW0YJNYeri79JoLFS2EKvUf1sZ+P5TQNTcJCDtKTfJqn6elvSG2Iw23pg9ptFvFJbc\n",
       "K56srwDqtuJHPWNtLZDO95Pb9w9n9KRSRpCbFhWah/M7d55aWuOfSeFSjqHIesO7r/TW8oagh6FY\n",
       "qK88p5x7xWU3JBlt46zqoxP801dxgkPZEre7+O3YQP+k7N93X6/WAw4QGFW6qy9LT1RyHelXGfKC\n",
       "BJLV6axNe0pmTjT6XLTIzPusGzngGonXGlMYZgkDD7xteV6PZf6nCMQlSJyQqw2ARDOYUmQarSpM\n",
       "uvrdQmqpcGWHSrf1IMM/wHJloLq3YW4F+CRhXU9y5tpAOOYIBCDxRQRVtbR+VVNUmPrWEcu7CSL5\n",
       "rej8pYG2nmqobFzDm+pl7PBlno+HBdxtXYtCOc++3U4cKYp7Od7gu2kGYd55SZnEdls0Z0e3wEbA\n",
       "K3hjOWtxNZ95D98ZzJftd9G5ntcrHaE6iTa1jqEPxN2jNq0ICUo0IgAThxVnWRPupnNcXrR5gsLv\n",
       "TAXgpe7I27qs7UjvKDKWloSkkFfXAAkiW3M4zlemQ8FuA1JwL2fAHKGIDRhgVGzvk6u1Jnqwsumc\n",
       "wjUmeedDPx8cW7zXP+7ZUiKvC0MF1922oHO22ZoG7UfMTAR2H2YAnp6UnjI4SCAkUIFxRBckiFQk\n",
       "ZciFNAWggUDvSKA7aG1oGqCdfhpjYR8nRMC4lSouIbOG8refaGYUmap/BPCHdp18i9NwMuAirCl1\n",
       "MByFsN8SWNEb1GwFHV/CRpMgdC4tCHKrZkpRLmJWYOaJm+MTQ4fkfmxBAUfOvX/MGH2dpbWhS6oH\n",
       "knrXAQE/299ULnt4soVKQxoAirJb5kQaAiz123ia+OUz6+9VlYT9yjugHfAdafbwJdPsOfK5yyYH\n",
       "iLljTk9bZ2T2yc1hwJ4/4UEvy80If4aPd15/8yOXwwP/etEpUj0IHmip7lWYiHQiky56Dj8/DTMo\n",
       "8jwFNh88BWmw/OOGQyuJ89Yau58dgHZ2uA/KIO+ZdeTvX7AYxXmfycY2xqpgVQJC22p13QAqz4Ar\n",
       "Ug4lmGAJ5dAcIWcBGkYNM2xTQhc5c2eAlWbf71+wm0ubvzl32AZfKNpJz12Lb031t0JSU0C7y3Su\n",
       "M42tNqC5aq4BF8yVNKpQEbFrDacuoeLIkT/TQpwVtJSNS+ngU9FG5ObmuqueY/ofW7xaznOQxl6y\n",
       "epa3KIejNaZRLU+H+PffwBHpNdHbeVaEOF8pLOa+l9qSEMsgL8bLglQX+SiKd60Oj0w0EOnra2hX\n",
       "jrBw/Ma7P0BFtePNoGgrpb2Q2VetlsdkvW8BzWgUfBBYTFH4vWlegx0yYSbgTJ0ostBFHwFNqSKN\n",
       "FrU0WxydeL7gi8h6P0qx6LPv5iwcNrubl1zzB7NtyqyCUQ825bLWhOzVyqnyHJYS0nmR40I4+d1c\n",
       "HXnKKkuDufPt2x/4VXymEM4HsrbmyIFJb9yMagkDbzjiIMgFTVQRaYIJ9ZJUemfFuQn5Dk/2SCNQ\n",
       "kmuEADo6GXu5DGnUH4ZPjwJmexz/pRxG3DR0biKVAhhhGVT6yhFhPWTO0EruVaqf/nHlXEQvv727\n",
       "5SoKjmkgY2obVnYzlge+OKabGxa4eMik0rte1IF46FSHe37qjabbRoaAaDrkOcZSIqzC5oieTmeO\n",
       "ZjwwMalF3z3FAQvGANywevwiqBe0Dctq+fdHq6vrOsS/wY57aXij7n9hX5qMSclB2UHcOAMvtDK8\n",
       "YIW/EAN9KIsjOZcQxftxo2uooPuofEjwmeVH9QJ6oGlbgNsDUmly5HHUis4b7837FYIriZrRiM1e\n",
       "nF5KgOy5pz/aUhyNlTeXH688qsC1JB+XCAsrPH3NWvnEHrH8G+14PTcopd3/NPQvWhoqesxYJZ/l\n",
       "HwaOqWJC8j5Ev06qU5Dw8LVOqkR/sgIkMMTC7sELfMHQUkKZENgN/nGzYwuy6NcZmSocBmijDkhH\n",
       "mHOb4F5EV1vh5ksHCqjTAzv2ldKhQwgxHwSCdFGwuWi7LNXRbu39faQYB2SYLb+cYgSzii7pGH3m\n",
       "uhI/DJ5gJ9MRvFCtmaKdBsvxmGIWE8M4SaZ9Zl7hlq6Q/FdOGdqg489ZTNUV+dEqlYyOHs8NHX9I\n",
       "FfcdQMEgW5qjM9woqBumfmm7wJjtBcS/+gT225TGn8H8CN5sk2e7OlVmX1Spwse7zM6zYH/rYpUM\n",
       "ukJvPmXWBMhS1KaEMgD20WVvI9ZI9IEcTQHP2v2myBlOayk13DeBjHgDKKSiZXIwuBk0fLjTpaIk\n",
       "Vj1ahvB349E0WsRb4tJC4BS1pcTEudPQAKrm+qZCe2vevw/HjUdfJOQUJ6aPglhsm+ACpmWcQkB6\n",
       "WbBhh8tzlW8JLJxXTsUZ6OY8Rwcpm/m4Ox5DZ2LdPhUrBkqDmou6FqTa071D/NXY/CTmmaxY1iAF\n",
       "6OCNUHTXtBFrqQHP4jaDCCtVMgl4RxL4p5y5QJvVacKicNaevGO/9CGaYoDELOIVmfn4YJ+08Bu+\n",
       "94tts65heOjbTxRaFnN2KcepRAlCGkf1J4meb2o+JcYXFKrA0Arj66XK56djP2N1D5xfJfQEiaN7\n",
       "spg5wyAeudvKIcfcmUa38vOLe51muCkNkQnF6x3svo15GXAI1bNK5ljoccuffMl7SBJrjdPKUZx3\n",
       "lips8PgL1Qsrcry37iIGERHuLfn4F20RzJsGqcXuu1KFtuKI+3jVCYvOx8qZt2uAq+KZ2gQ4U8Aa\n",
       "HhkLTyyfbyVq+myPVpEYEt/svLjamUl45X4PmQj/Wl/V71VeMbfVNvFhG67cuOiWB99n2M4KSt6Q\n",
       "LyLm6Zvu1jpj6CZg7WngOpv70Jgt6pc0sKJrziwbilgPi1Lv/aattmJefHqAgqPdA4QG2NmUX2RU\n",
       "7X1HhPeYq1LkZenEcHa1qitv86M8Oz+vB+cqnP+3d7tIR7oPG8o1TMAXG0TEp2NagiuMpkYBTDan\n",
       "RqUR94FIqa0bE/CoGqKdd4DfQLF+e5NR0mN/ogdV26o2ZPpgCOSV91nHVTRPsWGvixH6HL456QnS\n",
       "lXtC+nKF57KLR7OOqOlDVHQwCMNd5Ck0fg1ZQDqH55lhthyk3QGXfr5mIBEsXMz5dAqSfgSwN+t4\n",
       "/w+6yUk5XdcbX/kKpF8TB1N1EfwhTe7LTU8J5oxpHy81W8QcDInJRN3i/fF+XiLUc+JicoTRosK6\n",
       "Pp9gfJppBMiR+Jh9OldlUnSCNDWSsUKbn2CkCap5PeL9dlyrPG4dtDizHCMOXzjHThxNy+UOH3LJ\n",
       "9Oy2t7OXxympfk5hzsbNaoLpGH/E2fvFAkpSQ2ZUWK1Cl821r1s+xtK3mWHZgzF5GE+5o8FLFU2B\n",
       "+xm/m4P5tka3x48IfiPxQjnZvPMbc+Jdw6BSZsxvrEUDBX6WgTiONmzCG2FVPWe5/s/ncAC2UVgM\n",
       "T6s3jmVHsAkbGTSKvIi0TR06zlXCRnxCqNYsg/K4A4maS8IIyGw2pbgqaPSKRAH59GaQpNjMccJ4\n",
       "bq+FAYZJ2betDI0VCK7A20PF0KGp8vf2QCfgwuNyECvMyd1YjM/8Jf18ma+kz9ZnwESTIFM3UWi2\n",
       "r3mfKOpdA9rAwU7aQacbN1jpRoXhOZR+7nNEtJ5CqJZ3+gPrp6b6CvSLl0uvD/6vvCdY4k84jmAN\n",
       "1SstlzXSpIVBYJYRC1nML1BT40BPNCyW83bWFNdy97rPiVtdogEXhU4ogwVj6UKE9pH/tIfGaTHT\n",
       "SFNAsrvioRC1t2MtBuRjK/S3+5ED2SCxGG1wttK5bE3Yijytu1orCxJXeRNoz3GRV3TNQBZOnJxs\n",
       "LFM9/kbhY3PAqpEaH/EjfP8UsXOzvklDX5BZDa2vFn3TWquT4mhlm2SJrms6HXo3zm2xPhjkS43S\n",
       "b0bx0sjC2M3ztM1l2dR4lVU8z/oBYsFmcapn+jUAzgyLWuT+q+D5djyLnSl1D1K2eEphUs/V0hHe\n",
       "RH+Q+mINoEjdQySRJhvwGIcwKaaIeffepdE5ZiskH4NSD/JtE5ZS9ZzKk4dyHXtCaIzjZjLjWTBb\n",
       "i6WFKq92y8WRikWIxbjD5keRYF5a2olx40X1dm6AnWhr78FDwXNEUaPKz3QBMVf6pqp1/WFWpDbn\n",
       "WUfwF8xoBFSjDBM1DXAbDSMU7WyM6+dUdgcHJHKGUlpJQXSK0EGWZkxE0XkvdVjspvIO0mIBG+Md\n",
       "f8UgNNcep5pK8eBcf5r/lfFTO/f+4q2bM7YNtwgGceGVpiywVoqHLsx/NHQ2KsjijDanikWsy2+v\n",
       "LWrt/jAUZexT6ZSBIeqiW6FdJeVw8+RPorkdiA5vlQpJZRRxUEINacqsFmyeJ3HQHy0paF4CP3t3\n",
       "+mK/o/1Q/Pph04WllIQB3JHIp1HaN/qQJ3KZ6PbI6vYnZYMBUEQQdxNsAVDcanbPZJojRk1WYxju\n",
       "lo9TxgaylkcvKrj5zDZ3C9h6DNDkJYjZZgju6HN279YrbDoUL6pdVPz2Fs9gNbZgCp0gIh6+wgpA\n",
       "J3Z6ArgAbKS6ebxSpe1EZMMc4JinAnPZ8H711cPrqny+3c8K/oeefCagcHG8xSfVpYCFRtYr/Lf7\n",
       "p+/k4MChbs3+nZjiGiO7Ij6LP/tPBPc4YRsp6/WSnjYDCPQf+n13phAvWS8jzCk23xBq0uSvXhqU\n",
       "acaTzOdyGYBkRiVsvJ5hkjWEPIfFKnH98DZeNECEl8fB5yPGloPq4YUFCRz1JTbf3lKc8rpgIIm/\n",
       "PRTi+CQaRgCAluk2Dg88qnizPaQNKVc56mw7G9ltsDeTg6ox/udXf3YQCNawWjubiQAVxgCuJ95s\n",
       "ybZYvaSMqBt290YnWBfQ45KEjyoIYed0tfxjWYQc0gJAjnZfQ1lBxoTT3xoq9vJ7ntnH0fyuuf7N\n",
       "3n6L/N5yO7/APPaQa1KSW4Dx2oXR09uBHGzy4OVWlBw4kAWD/m3Er3L+tujZS3z7T42ld9dIFMMq\n",
       "uUkgaqty5Z+G+eHaILtWGZr2IU6teCinL4077DzyYZ3JcU318JJsRExTDt2V6Izl0/UA2+WoFA/T\n",
       "FNIJ+lZFO3d8scZNCmHGXXDaI1IM8QdYaq8uNOvsBnAqJ1nnahnbgvpe9o19Tde5ipYipur1aUGa\n",
       "bQDkgvmAYixApjeWDZqFfEhJvxrP2e060pPnsKh7QjVHkxw9u0G3iMOzuCLw2Q5AfxL601G7Vl/r\n",
       "SCfSNEAqNxxi/BTZojl5vgBtWxQmV5q7B3UASYeXYTpDwFYHW02VE53X8Djw//AE3qCT8jlmtCBl\n",
       "59rvBhkCyloe02aD83mSduzgl+kX1VlfsUSmZ4y8vSUlZ+hx+zzQ/cAblMTIuubtiHZvmzjkBIrT\n",
       "kypnKmxv30E+OpTcMQVU2eMpLuvDJlAZk8diJt60Orce4JI2CO5H58QJFJo4DFKvAimLAWbqBo0I\n",
       "KUYZslvZ5hWxuGjlgZCATVjQfVx4hn1xTzZuoDv3OJyv4ck1oU8txyEJ1Nmm08PKIIrfB7BXzJbp\n",
       "AXv14d9jI7K61lRVwWvKm9LEdf5wFPHyyNdkIa/G/TF+JMxVJ/smWIiUSJBeuipnWMQpgp0FUbLP\n",
       "FLIYUdXO72DC1/Q9boOkpfkQy8rv+tW+OrdbRUHV28+zR5EKvLjQa9zR5Ve8uV+WZMBF7gLm3e9o\n",
       "FudmaynkWHGi4PJmSbLIlqd9YL1r+vakGSiZKGPFOi9YBzwnEpCoqhrcsXKNjvVKlWRrfa22JJPE\n",
       "Sc5j/Da/UalNfZPzK+qKPWxeF/SwosKa86BEwMHZnsN67jsvN/tpiVD5Aa4a0O0cdheHnADXzNYR\n",
       "QSFkxm6h4uSqSVQhB35loqf41kDu7dpFVcOTDQa1Mb7P7je0+Fc0MuBWI+lpObZolyjEeuE0oP3o\n",
       "XWbbufvrtJFner1UtKNFevZog489boAGYHfUjreO/C0YAN0jm2eilBA/SIC16Lhfl6/2KrkKtGv2\n",
       "msZcMhkZP4f6iy+p84rvcPsx1rxwYfLmMylOSR8cclA4bTIBU6vhJKveFqlZJHiKVn2nsMYuWM3C\n",
       "Oz0pFmUTE2TSgr+GzWQVU0emBGmWliZVRIkIgvpqSvJjTtyYQMC2Bilf8waQqMcWwYoVTGLBAQbf\n",
       "wSTbafGayx+YqDJFbTRuQ8v0RotcXmFicMYPkdY+IFqyqC8+3oUgOal8fYhJK/b0PgtUcTbmCoMb\n",
       "j5uJRSPI+OLNobvg5q+93dmiZOIJpt0f3zuhO/UK8RlJpakzzD21aF2DnGJWaIVDlLCPdLJPIQIJ\n",
       "ZWyu4lD/fNP9Ou/iKdO7hcyrEgZDiYq/CJEObEPRFZ0/81pWg0CYqTWFxkM5OVc4fZbOUMAnczJv\n",
       "LOlVzWaSUbodmnvP9g9LmPdgBG3dD5ANyYwnS7kBp7QQT+faVrult4tX+80JF+tq9qmBJEZFG8LF\n",
       "gx3t+1syHhJipALQleb8gXwwHr3rdu4SK0Ag1u3xdFYdWAKjbYRrCgDFryBUxddxQtRoLMK0W4n6\n",
       "G+4rGi5i7keZrU2jnqgR2cWaQN4xyLLdXtgPdbzpw6pHrDC3IZp/ybpVSKYH5Wfq9eMBlDMTERv4\n",
       "GqlQtuTudc1tGumZgiQMBwRD6oO90qRrQXoHqomkNseFtwTtAn64obvQCbreitwCoJSPtGluHeXN\n",
       "a6P1S51vrBdv0lCt0rtoTP60qAMePOywNZrkwuzxHNTuiL+Pg2hDLX32OQLmem7vUnNVsUTu952f\n",
       "MW4Xl4wU/SGUn4i6nLPXn5fqe26f+ZTJ1Bar2s5rgcjCTQYK1dtrHgqMurMnBNlooYT18aMjsTpZ\n",
       "h+GsJm3XlZ8xstn7PiW7n1/lQZlRDBDX35d2Wt3lAf4No7gNwzBk2iyvhz+h7vW42t8svDH67LdO\n",
       "AJKkFU7CwHVyKBxncioNMzCC5O6GcUIWg5NGaU0jj5gU+m3uRIPaI1Qwjz2ChplmO19cX7zJCyRC\n",
       "71wXvfCMyrA092oBWTUHdtvO+AjUKH1snzjmEmst9uU3q0ox32cuIdM9xi5KIxQtwc4p569knFrW\n",
       "7J6alaV6Vd62BZDdmt1EyJhvHiY3kibw2E9BXyLmhdgsYz86Ga2ZZrRKoIUl1b0SPiucQmeiNgIe\n",
       "i1T/pLlPXUR9xtSPDH2hMb5NY5tnrsAH3b0h2BM+SHesEJQmvVu5zx01p/89V+xRppdLdKwLa7Re\n",
       "nlwT4/yj96H0TjhrMEAIILqKmAicS3xXsQkwb/2bhumMYDVHFAhaXkkMa6S/JLgDE2gzOHAkrCu+\n",
       "MKZqEnG1Vu8wmK4QtNubY4zFOSbzphO/xDWog//oK/s3zRa86k+MnJQVasmk43tXdsxlOzUJq9fI\n",
       "GqEhLJvjhzieh8G8WOsAT6GSpZ02OXMITLPhNJsVy4enrBN+c5CbdLmf6X8z1pK9V2lvwmay9Pca\n",
       "W1t5iAx/PKSnkh9UZVpgmgUvX3iihF7ix4YhNpnnWdy2smwzzr40lDvtYrwBRo+ntZIFfIy3BqkQ\n",
       "VAVuY9yQWfyzIXaHHQOC9lBhNQa2eK0dmBxA4kFbCTn2/HX1m9fAK3NcOs321TdlKImULRpHLTPG\n",
       "BbeFwZqGPtD215esJExS1PAnAtQP/UcESHwgIkxCcnfgu50FHppOoR+dRX48DoJH32mRO5zmbpHy\n",
       "Np6DAlKoUETbpWxKRQABljWSaTu3AQfOiSaLOJTarqNiNQRXJGJebGtL1BZ8XWziQ/9K0uwKWV9H\n",
       "3NjUnYoZDUKHl+yHLwGUkQdAP2PDZJ5Z6tNwYIE8UAEtob7v3YDqhlGqnZaDPn/d8zfkfkn0hfLk\n",
       "PdOd1B40riAtnQrdAMI//QEL5km88reM3bZtUdvIG2KHL2eFR4eZmnZbm38wWAXkVIbLl7EyXmCj\n",
       "Ffh+aGSWgQJmo2Uenj5EvPrngkXWXQeBMtUB67M0T/LLlkl0OyED3yKTzI4JMSWACGFA0VeNO4Kk\n",
       "06aM1Lt+5/7Sc27SG2iIMZZ4vnfnj8f4dLkz/FXVf/uJqtdySk/UgDtogkjoJrHPGpdTj4PVlRVo\n",
       "gfZzKnNhrI49wKd7omwVlAvz6UrhDwe1SWfAmrqXNQnQN0OQhWSCZcee7RPEhI+zHcWVAIf8QLJa\n",
       "qz14WXCCKieMAYiqwRt8hmwPo3oUD8LFvdhvOezUdEsI/G2r8wtDbqgJAdxDwEfozA43iYGZzYpF\n",
       "9bv0nYvk+nc+iCmSo0BBToCcbFIa9U9nqD84hHV5XhUQZEoQUOZ0Bh4c2kd+7yav9HEOcsplgfY4\n",
       "8r8d8+FwPMnNaxX27MzitW9E/gClr1q2VSjlnkbl4sTiFvsoMtXI5Q1YOl+lAOnbj7SayoUpAy3n\n",
       "bdhDSHe/CZy/uJkrao9DbmxPpMxgl+woNq8xB/unLzveUZt8OJO4vf12qWB98IIPZx6QHqqcaJcR\n",
       "pLCQbzCrdF6uKtxYktg59p8++mMb7mJvKhZKkGZrXaR4mY7SW32RMiHlyLrI7vVeWGe0i3HewhtH\n",
       "NZdw4K2JfKpbJyDQMwy28dJqoUcDnQiz8eTuLeezbbo7WmCDfXfVQyjECrTsfLGotrZLsKEfpe69\n",
       "U+PwG9qU/oqtC72ocd532LJXv77+hBOalXlaO+su+wf+5wtctG0Qy52PD6rNbDgxbKIibYEYSqmu\n",
       "mRjw1+bPNfM/eRyXZKAzVJOVa/siA7YOZ5Xrv+hRi4cU6lldOqY8wA8kShQz/xwyYCdlS0VEjweG\n",
       "qOcj+bHCAAADAHWnErCGxQAABe9BmiRsQT/+tSqBoENYAoe87E5fmGhwUepbSv3cfhsj4Gx3s13V\n",
       "O6E1DCilo1UjStr9I+QpinXk0tLUirvjxLBb410qz4evY931dbRQ7UoDEuWjS4aiDQmq8yKAuy96\n",
       "FaLLcvW7EECpuG0jhCFw9d5h30muMJbIvrUyUsz99Sn8BP92m4fFXuKxmlt3BRS/Pxwsv6U4Y5Ru\n",
       "4mYOxZAFrc7nPS5MvC2Z5YaYyEKGtw1eXJouSkzG+V5zf3BLimdLrEe9l3QAgFgmms8jWnmEbO+/\n",
       "iO86vLORdlqV8iGZzJvJWMCe2CslUdw2sC+YbX0QdB/A1h3XASg/Q2Dj1eUVj3S1MAtW4+W0B3ie\n",
       "uy3jJ+xL3L710I207WHYLZ0Q9hcsoUmAGHWXIPBv7DsPZIUjYA8xVVL0kR6MW075taLecI8o4BT/\n",
       "aHus1OINj5gxQ9T3sVlgE3dBsTDr4IvI+rvdZRExEQFyPieU44noLXxdbQOaMnJhUmX/4tAZ/3Bt\n",
       "WVNwR9R5wViF2lfOSX3N19SvQ88NK40/f3suybdv4kVs01dFwl7CCu2nKHQwqL+r87yL7gsmOT0P\n",
       "QGk2+vplyv9TlQ2wXakzUO+suELOQ8MnBZ3BCETFyvnp+XM+ekudO/jsqGNfho+SHhhcsXoC/Jki\n",
       "NRdpHJGqroGDsu6hAUov8ktkBkvVLlfrxAJpf/piVGf32uz4eiPGqphZV0hhcyUzvY/BHpkfu2OW\n",
       "BtqoI/SqoZR5uEtdWGKua9t+lvNjg5bfNC3Fx5ee8eqib7NTP7RgHZr86RBqMQNHfFbcW1QeX1wD\n",
       "FLpVdK8zVjd8ioMjIU+GbJqBSdO8cLgWl4zzOJx3AfgXyHV39dyDWUdp8TdvhY/MtYweGuX2Xzyl\n",
       "T30T400LbJ3pNzvR5Otw82rp1OM9jLwaA9hPikKByWF0mh8GHQptq7HrrEkmjm4OFfSHg9m8cEs1\n",
       "ouFPs040Q7pjFJ1ntyqYi+fZACrHkK/pZc1hDL+pOtBS5EIjHltQX7wcISzl7W4LN2vEfj4B0Oh3\n",
       "fhoP/ZomSFoAjg8kr4DSFl/Rte2xxtG5kae88/k2fCOupH0yDOp3jkbnujjofckn93DzciC7cfV3\n",
       "PCi2GJ+6WezpIn0T5fDKtpubfsyqfmzUhGubqdBOvDZ3HLA8eJQqQRKp6Ju/agv9NyBHpGl9NN9B\n",
       "OG2deJ54Fs+DwhmiB5FgBOsYnnXiiCh6v1hih1HMqiKiP/rWqAbM6obbVcysUA8csr7suIFPfPHe\n",
       "PDTXiW3tN+lvOKVwliAX2XW91XmyWH8YBxBH9c2X3BTMsnqs35sullzu+9oj6YQ+Yjauzx48nIqU\n",
       "dJZxONIUi/MccBmBZX+MruOBRT9Yr6mzuLrrpck/hv3U9/Z8hB+ciYZAvg8asktzxq/rSwgm3o4C\n",
       "abtMcpbgpOY+O50X388X/8z+AaXFqeIBB/MH5mJXGwVPduJa2nbxH1/67g+xEY3QltcZfPreavhh\n",
       "utyY7KjqFBfE2Qo6ERo13/fAw75dkNr5zYBY4/L8PjDJLCwMQQt99mkJidI8fdIuTljo5cqJzVKr\n",
       "h6O+NIpThi4Bms59UrfYId04qRyFjvmHNP9iTChqrCQOf+n/3w/DjrO2OQ0oZCXY0nLvzXgw7m+2\n",
       "lUEvwkz0vbVSZoZ1wbqWEbnDScqwigklR8/fbzv1+B2ewrPbtW0SVhZPoaPhoQDpWBn5W7CbjMBL\n",
       "/9QiqKeMNA47HHwgyJRhpBtsry7iVk2xXSztcGTl2QcVIck+G0oO5d+0MDCC63I53kJX3hHwJlf3\n",
       "BvWV2po8aSKnNYdi1UM23kOvtO2bW4y4qGuOCVnJrdGEuUCYACAuIhepK4fdD5i5QI9KZlDmKt3V\n",
       "rb8eHcr+RkFhBYnXq4XsWRBDTBcUrSJKMCMhgA1yI+DiomPKSnLiocCK7ae18v/J1uebovvLERqw\n",
       "ypDF3T0dFV/PiXzgLF6CKwNOGQlQpuGMjDnrxanmf6sulgh4R4uo2xGaGJNR6H5FvfcbBxEpzsqA\n",
       "AAAAPUGeQniCHwBjA9X3bSzhHpgClXds6O+0ltn5TOryyTZKF0ME9JojOe+iMBOyjex3S3gXQbIO\n",
       "CfUSUAvNJRsAAAAjAZ5hdEP/AMkpTUi/zq5/xtZpwqTLCtvrATSJCmbYADOK/JUAAAAgAZ5jakP/\n",
       "AB++xkUotcrp38DzmeR13VUUHaMPKK3MgssAAAYdQZpoSahBaJlMCCf//rUqgMB0nrdABEekEhMX\n",
       "boSrUbbwY7cuDkQapiVOs5kM+ZcjdS72iV9h4AeOmvj9akriRipJX/e5e0SBWdUxcA1215UbEJkx\n",
       "VoRAhSmJihLWHxJa1KyoWEblStlsjyqQ6pxT0zhh/2gMeX93NncNY8HfhDbUnqfXqOnkWbdimrS0\n",
       "CYvvXdAngfJhwTk9Gy/gHW14zrjD/4HLekaNPDxVSp5NRr84ZaGT2y7c0oLrjEtRGvuwyFo+SMd8\n",
       "KEzcIGwUF4M5VMt1U6gPU9WCZTjzR7PzUP/BCAF8StnhLCKlhHk7FGqOIwRxaxRj4EAooV7O6182\n",
       "Z1BaqpOFKsoaZ2aMUYWpLFR0WEcfgTBNedlrIVD/YtMVTS6lmb8HAMvPzcaqohdGq5aSerJVoUAv\n",
       "X18Qpg22Gllm5jg/4M/cFr1Mxvwv48A40vcHJOYMDMrxKbLTBfpIyHsof5LhO2kc9CMDTbbIb/bs\n",
       "KwqbiYmmmQmooMBf78V+sAcKDmWPwxpxkuuQavrcXNSzWNVxbsKvIye78CvEbu2KUV0/Uys8/wX+\n",
       "SQO1XVG8RyLb4QBy93orILPDri/5cwXcNmRnfs9x2Y546tJ2tuN8KWXbM0i/ytFYzJOgjHNnmYfA\n",
       "sN6XxPSBuZxKdTf9aIt7Rds+1O5Yrve7Az0Yd0mMi+Nl08ZyzP3//TZugHZzL1BjIe3Aa9Hgx1ln\n",
       "8H2gOB6T3zAG1Byvvy41XsYWTQQXit7tdLxShFJtMotCP7DJ4wNh+nXwZspjcwhAO3e4SQRLs5xT\n",
       "ribjQADNzkMRyvkUCzWBMB0JG8kq+Nj/zKRfvx+fzbtOTM1D7fUJakAjni/nsj17gS364zRnUPRC\n",
       "NZF40m8eXOvRfeLCDFN+SfIgFzPvxhr4NwRPhs4yldH+Smb+UOQrMEL8qvIaGm2hvp7ipKe8j9Jq\n",
       "QP+vIHBDk6Qqqtb62Rl5UnVJWLSPd015deMknkQNrtSS55e1H1C+BnGbCGmJ4aJ86rznAir4Sln4\n",
       "hHfiAw1G5heQWazqnuYXa9xCXqzij1JTKl/7oU65v6ZcSO7OfrwoPtsvW54xIyuskhqjpnvoDqxS\n",
       "tOcy+ycXM+CR4JMhKjnHUkF/kEsX3woQLENJMsuhKL6VKAggjS8AMK3xRpYmPwzagtnZm4JBJszG\n",
       "cIpjEYmJv+ynJGAV6+HS4hSY+LYMxWlijpdcciOTgjgU2TE/TEzYiE6YzNfrd0PStehQ0qpupiQ9\n",
       "1N+XFJDRW0LMvWRP8bdo9wJs1SjjhX0fottOt5z2qyzEsvMCV33DJyA0RHHAmndS3x3j9NGlWwMs\n",
       "BbBBIAplVlRwzyCcFM9ev6PmJ4dfPxe1SU9FEzDT86oXcct70rvZvbOqGqR245UKZpz7+V0qgynK\n",
       "ycSGETA/gSYb6J7cZIH6K8g/J0lozpdx58P/PmNIvFNetYVDTaqAD/RCYIVJked05PvOHpYLWnk5\n",
       "VZzbrm6RWBmPJ5Y/3nFpCGtHvDFV6HkTeg7+nd9PiGXrpJXN3YZZJgkQhbkhk4CAz5fbxZ2ves8j\n",
       "jweSnuom9tilu2m8gtauXdp1pTkBY06m1XbgQsYbnOZnCIn4PlnHDgGxqASQfMd/CZDcsQkg0Fl6\n",
       "un2ZEgG2yyy5w7wQaZMbpWpRHzX/D8guT9dnrX176VTgeY881O/TfpZqz/Aveensf85689JfY4cx\n",
       "phBKlWNfPL6Hup2p0f3wy1R2BCd1vw7MHVc17aeBW8d2jq9xtqPSyYk3zTNOO6iWe2qCKXwfhiQ7\n",
       "Mq3sH3XiiS7uaxyED3ACvwoh8Zi2QwtkA4LzJIoIRGZbbCwR3KdDcqI5VWz0EGkJDnd0RsBTIzSB\n",
       "FQnaYKQ/c7PdslHLDmvX59/JMi/Ai9nF2Kw85AcFynfgJYx+Ao/JG+RKThDmFq7lTAe34Loxy4Kv\n",
       "IzbDK1DLJfr1vpWutUPoRk2oJUDY4fXkD7aiL0YEQ1fMHyj2sYAdhfqirkGOeeE87sstoi9U9g3t\n",
       "lS4p4kjC5RsgXHgg/JDtBr9/z1FwwFGDmU3e04+HcG4PsrH8yqPI/0cNkgzYtwgju6SoHe8hGAkA\n",
       "AADPQZ6GRREsEP8ASDzpk8t532p7aKNMdrGehe3dO/vAAWCo0n7V/LF188XrdpFzG+cYVlqVt5jQ\n",
       "VhdBWD7kPiA2jJxGZeLbzdZqnhzamIkldHSZHP+l3vy9dTp0JRl98IRoPkdoYLcHj//lkj5qQBW3\n",
       "bOl+MMuTHwUpdDGQ/2IsLnZsDpfD8ebVODVBoVOGWHbwf5vGwVXN69ScA184rcP1RmtSqs4vPyP4\n",
       "drgjBSoG/vPJodcSMlYHkc6EZSHCp7vA46UsYohHoGGbjfdfQKaBAAAAJwGepXRD/wCXDLkBnJ3M\n",
       "ZnbTNXOoYmiHU4PuVIUsLkDPp3dOQRxV8QAAACYBnqdqQ/8ASODW5wOiZcYFwCtEB1OwIefRkks3\n",
       "X7gy4ebt9CiBgAAABgFBmqxJqEFsmUwIJ//+tSqAC3GN9QAZG5M/l1IwDtf6nxDZFXTwxUq9v40H\n",
       "JCx8wazrMz+MLdv5FilewWYNwtHPYWa3BmyrV2OWnJkf/+Cuc17c5i5Oic1DzQSa/U45MVy96oBk\n",
       "7eDcJ6uQRtJHZOOmotSzYnasy9PIIvSeG/fEnkpSZZMOGij3wyk9/0o3kWNvysSuZkn/6OBEUSBv\n",
       "YyyplqkzZed73qxRIswbH9IiIBJ316VNkxngxSBykQV+CLJcKbufqK3ASiswPtaH1UIy7Cc0cYc9\n",
       "3BNHPwWLWsdlXFKzXxgg4dgTXHqpJYuGkmcjF8Q3rX1N7wZwGpjj6NN/AuELOvZ1Z/8Rl++duJft\n",
       "r8jercdv7/Kn3ISV1+1MNf2eXFs9qiHg+gnB0MkOghxH+MphfrCizFMSVi2TIfe7uwlvp1BwEnLg\n",
       "ccFylPuBWPIpCKXBPhv4IDc927hwEpbXE5mgzABLC4hVmdC3FmnJsYcjWWq/3tAt4eftVt4w+B2j\n",
       "+fvDcyDHjV3zV/7lCX+uY2wS3l5KGJXL1EZveLLgz1Ub3bi+gt2ulCkz/W2sOt/ol26OZ96j24P3\n",
       "ehxgc+z4VFgKb2DSgJMssofqo4+0IL5EYJ7Xmf2JVk61wGezw0lbx/IkhxP82XXeAL94/n5E0RTZ\n",
       "fDviEPI2YA3r2GFMxnvTlz49vyXNh9NJIkPnAyIBdxVtbU6bNP4iL6BmtGXud76SpB1SniUR/CFm\n",
       "7sLh0QpX41KHEqVBQLwa4aQcRwEWa/M+9GkFIXDEMruSzjzM69WkSfew53BFPHufS0cHJLqagMe6\n",
       "2Wywc9N9B/fXXswHtGmigv5sQrWtE6rkOwf9APzDtOQHV2xFybQdaxrXHdz6OEoRmp7UzXjk4daJ\n",
       "jUtFhsiRsMg4TCASPzdoj+bZxdoIZR/5URmzQfP6YXcgr6PGXqpgoYTfjbxDBLWFT/0eCHx/Dw1k\n",
       "2rA3Nfv/AFTlxmiuz60+gHrySUW6ekSzjOQYF2W9q7Bi5BRu/A7QRlmnRZGTayqDe/LVJ2PHjjkL\n",
       "nZ/j8NsP9jtvwO8ljgzZlh/n34bTJAXCu5TkC3akfUJLLaTXyyD5kuQaNCW2vXxiqGjL1VR1AXZz\n",
       "6tUBtfHGYVyjctUadhgeSt+q8I/qmbSneHGqXwu45/8ppgbf//zdc+sVKyLHL+ggCRtg+MliEb8g\n",
       "bjW73JKFLGAHRC96dt/otFp/RhTpraNy5l+0uwD/CCueVegTlGMh3sqEwslhscN5yxBDSTOiBWrV\n",
       "d9BmyjxHXy77cB8zW7t+MYBPsVj6XDh4dGki6pWU0g9mj2BBG9etVoTwLCTlhIPbHWD8Sh/1iiUW\n",
       "DvbQacKF2i+pOqcyFlrTpb2lGnuNy7yeQz7UH7Ns4xPzkiC/4ObIxRPnLH6L7gPwZlpIq6zOoLMF\n",
       "WFH8oKDahnILDdyhpMkRnLGTfrrNjJCn+A/JSTyuUrUdvABB0SnKiyowEm+DQCnAuF4w8Ch8fLmK\n",
       "BD2LP5EdVJJPN0YLU7XEMs2363tfxB20+7/tLDo/sHr0rr3c6zo/FywLgO5U/qiLNWHrEkHJZ7h6\n",
       "8nlkLSiONPj6e29ZQJuWApqILS1W2VSyonCW3QuwXDOba+DEkKacpBC+WN0S0jkRPCYY28wdBbOr\n",
       "LIDGRyFjlB+wsREWzAs3zZPhh6G9Xjskmm3o9eRIBsjArx+seYN0Sq17n8fWKXXj41K/v74RYEYQ\n",
       "PjC27lIxbjd/kNjVMlGphYTftCEGePM7fYspfVEKKeaPDgsv0FhwtlB4jXXRwIruu45ohah3Gjdn\n",
       "GCgh1r6KmsSIa+nTYHmGaEZ5qvL42I0L8ennMrZ24/l1ojFxmkd8A0BYAAMqo4N/l05HvHKOXaC/\n",
       "0rhw97c1g/yhg3ZfdZzYVYGFgbcEUqNXnsZQo5MMbbrUAFczIC76GrPXGfeUjd72lVUs/ooOnA1p\n",
       "4jWFJzRPLY05zgx9BRwtuWbXDhJn7NTZYbjVK0vCdQs6p98V/4g0JQwp9otOL+Ojc1kHTVw7aNdz\n",
       "2wNLGHZuPT9CcpsGAAAAYUGeykUVLBD/AA4k+RwdgsIVG7PKtG/0RuywzgB5bcxxmoXdgu+c7IAB\n",
       "18Bx6zImgCN4M6eyLETiRrjFAdWnIbRTQN3Sb/sF7e2Yn4qcGwbMBP2gb0XTr5FjjdBbtcTQMqEA\n",
       "AAAaAZ7pdEP/AB8K+SoSNZPpDUDCXqqMhuk//8AAAAAiAZ7rakP/AADy4QoTg9oKvDsY3ibOKLvf\n",
       "VLECSkfl/4/h4AAAALdBmu1JqEFsmUwIJ//+tSqACcnGvnODQCbx2JtD/FDbvNJRFKbvrkq7a42O\n",
       "iwTIIbLyMJhnbVwL6XlNumggRmLKdw20RIVVm7pVZhMohK9jOoT/+Jm/iAY/Ei+N8dj80KVwHPDs\n",
       "FFOF82f5Cmp86yafGjouEzIKRsiMkGZNnszZonP+uYrhDEpzg2TRoO9bYDWE6SFGtAwwLCf1gTqz\n",
       "SK9rJdMQ7HyQ6AKSKqpo2prm9+0AZfotNGEAABEnQZsPSeEKUmUwUVLBT/7WjLAFWgiIABvigHa9\n",
       "JhOLp0x3X/3AmbcvnBq+fykAIMzQ9FEOTIn+cv5YreUYVy3Tqb0O5TvaUIIzjds5Uw/xsN7D6H9R\n",
       "e0hMd3OOYmJ46SOhmutZ8Q1B22Hhq/r3XJLwgJDT+/Prjo7ntCq4iEKWMs6mE5fEEztiHUm4Snlr\n",
       "YSXvLhs8ouCJaWzIcfWjzBoyP46Y7+XMotFevfhVwKO1g5iQz0RKNilQ9e+BXOwdKnGuSmy2cxbp\n",
       "WOAYQjtO7sg2O9YMgn+UPbxdsY77k4LeuOZ5rUYEy0BhcUbPxtixpy5ilUiodr0gsg14z6JazwPH\n",
       "kojvunI6As1B1rWAhgGshB+9ZUzPMK1IA05aN1ZzgNiKHNHbrzrPSxU9VDtjPGPjYfS1JG8mlMB3\n",
       "6n1elvgwmNNsH3e3nS/MqmfSD8yt6WaKw210/0fO7XG9JPfahfrJJUvi2FeqpSCVinpjvmZdd2CQ\n",
       "emPXlWaDwkfvOxu6YNmxtV+gYMokxugcrr9dteHyJSAWgwEZoFiX8uwS4Rews6Grq8qN11gWow3U\n",
       "BcWpEZaHe0nbLe32miR6xT2jXgWkGhXbDg5O1EfFzKuOYirI3vzMLosNolSQzfcfjsAbbPBHReR3\n",
       "QRpRSOjLVfwpGtJiSgwm1dVjA3jt1DvER1vqAbRPVQm2gN0bwUGoW5lxsgfHremXD/EXaPoBkEOy\n",
       "JV+diumoP+VHZdbAvusfJ0h+4gXeYUZB8xetkkWQhHT09KRFA+FbjLUf2RyYiGUDLwELuZZ4JgBn\n",
       "hbsMcMARlnzsiucVU+NxN3/uM68/kAnIULR2rHK64DtRagtSUOuA7HX7fMsn9Ii9dhN3qELimA+/\n",
       "/ktI5xLQkA1lp9fyFPGhDllIIVo7SqJFYUBDIsC9cH4FgXkhStIgEKUhltmSSsNWbvs1HbGmCAdF\n",
       "A29IN6f+oQHjKbTbtTG24+1m+4uRjg8Z8hqchy9QqY6OFkqhdZ3fZEv97pYBIDrxaCfHuJs1t5wr\n",
       "8zjv+30qkhbtO28aYplYHy30oCgH92HlBfXbn5+tKoJzE+XRBNJ6TYf9/CbyEXxEa+onCYdkUdZB\n",
       "Go5kPpIc4aLLdFByQZz+V20OjC4e5NUwjT6PgamWuTaGXWpEoUcYhB0LpLsuw3Fk3WSCyFikA1rF\n",
       "QcUybdduM3iYdHhfcwcggsizf65kFhA0eKFbC2sbcWwY1vRKOnSYscApc4wyc1sxuNyYvlpYvlaU\n",
       "xNmUnrQ9AQMNLE0T49PxWu0D0MzAuvaGQs6vZrSGaRRq7bWf6c19WS6lLJRLX7qfWIzrlP3uZLjL\n",
       "LbeJyrU+sKrhzOSXkD2chpWZpvz0hRkpG84PECCK+3L461b+x2uZ8lf+f5Fut/ta/8ImYoLtDh0r\n",
       "NWAYTwVrcLUMh2SJufIewufiZw83mBzZ8MrfB54gtJ9WeL6jL9F5m/tlQ7K5Y7xOIyfGOyMSZCOr\n",
       "uYa1982hlopqWgCiDYa56qjQVHuSYUENvdNwd8hiu3fEp2vdp6okcZ2sFArG1uFp3WYX3PGn1zFT\n",
       "o8z7uZz18k+3+t51794nwM2Zf/7H4ntey7FS6HMEpNU/vgWvPErCOvrAo92cnLKj9r2mAJ1eRBm1\n",
       "Ah7F43LzDLgL59HgbSeXlrAizlR5EUH/oFplFceoF7RujWlGoS3BEkVEG6BUfF+qpL5/qAYB2Icm\n",
       "9BREByMh3NBfQPlPylw11RyLAgPgipSKuZTscg1N5wugeDgA2unq9je/WmCRSF2ek1viNa+zjY8d\n",
       "yQlTY0GTHSpXFhG7V8l673u9dhHKVx33dDqNUcqb+qI5iOSyGeS3YT8ZcuVtza/7vVYbyvRo6b7Y\n",
       "qPDqAoCdJiegqyzaZISZ85Ohe3IzJd91JjESN0AXdSX1L+Mn/JKmM7rPOUrieCegmrNvO1CSl831\n",
       "2YyjHe7njK0FKTifWZe6iN71ths7Ivwa2ZDIqpLb5pYykYtw7MSoBtC3zxf3nYORfxNgvHqWTveW\n",
       "rznTGSQ4QBXbqVDJQjJnXaf2doXvqadCgtK3xQuv8q0YJ5UKI5syzBADi6BBfdVbZd0rkBae5Q17\n",
       "lgqnwuEsgC6bZ/5pm0LDMKKkepedY8v01Vk95uTlRxEc3z6MTg/1Ah0Ka/PReWY1D5YfQvU+cscX\n",
       "VNRF66HoPA47F2uhTykD1kUwUVmnLb24GVdmwDBfH3x5HSgDc4rU/k4dZGwvrU5qXmAdQZuS3pEl\n",
       "fs9o+yMXYMrWz9VOTQxisvUlDN5/UO0aVklYLWGT/bVgekx+0DBYZKO0lGLO0365YLc9rST0mAa4\n",
       "2m9RFPTTucayvy6JuDrlxCePnqcW6JbwoQkwBEPan7Xpu3uirmC7IYjrK8L/RL9iYKLFOH8aFl51\n",
       "gCcDZkRsXQ8LTSgo1s3voM2DTzD6OKlOz03h68J25rfg0jThBwgL+1RekPKQ4fVcHyIIDsSXruRw\n",
       "osHBXn0gsPocBbPsex8P1vpJMn9ckuTyUUpZhkRchUpE3g9etsPiT8E/TKLMr/r00LMn546fOM0/\n",
       "wpaIucv9IsBDvpJ+DaX0P2qRa2VbP8B2ucWkP/pKNAf0yTTz3ybhgGabc1e5cB2PtOt6QOcj/LFX\n",
       "g38tI9cXVy6WyzER/2pVbn9VUdy0DQAUM26KqXBN+/1AvdjX+MCR+FA1AG/70GQpzuFO2RMatqVj\n",
       "D1fv9JCKDgYkmal4awCN1R3SOlZht7qtaOnCrgI5VryBrKvvXy2xNRyrGuvbSoRgNgtOtcRZW2tQ\n",
       "HV2mXz3bUw7Kal89AJfOjn02XeHQq7mQCPYIplNOqhtCW1eoDJQQ83LV1xJ2UYYpvEE+JKPpIohg\n",
       "1qR5x40Y6g31QMSvKEkbEQLfv/LmzDq11QsCYmxBfbpP+DfSlXr/QJhuABM+x9HDR+f8YpXzI840\n",
       "QZcRuHqEbLo+mgeL/CuWAkNqoGnkvt+gC5t4QiU33ClAfIPlDJWrcSGMilvOr17fsMwTeEoDXe6h\n",
       "Ddx6AkxqaiZF553Vxpl8Z73Lf/SBqsipxDOtRl12TSN2mADlUUBjd2kbvj/Os6PfT1YiVnQkB65L\n",
       "DYVM62c7e4qd4XPPKLnP587OY9+jVETUnkANK2kkztdv46ySB62ySEUEHd8btWW4q0qRWW8ccpxA\n",
       "odgBIYPdzLTq7AtAPKEbMe1I3wqevrASLCTh4gXqp79WIB0ed0fockdOcZNPz5LJ7P3ZN0PSRNfO\n",
       "TJ51B2pDANvg1xGF58ZS/otyOJJ2Ga75yHZzS4S6WMsWPnAPf/amAEbbpsnv5VaVrRNnbt38/u5t\n",
       "Qk/rQfNkQHi036o7mgAvL4O4gFmHB43Arl9agW76JBKbTesAaxpl/R1fGofV0nfPqnqL9Wb81t8T\n",
       "7B4cLwP8iFgnvV1l0JuD+iXo5vIx0hmKblSqOAvx7OT2IudnrdC8LL6aTew7Q8Z/nKsmHKef9rIS\n",
       "oH/Auw9C+ph4SlqZBWrijhIxGKlV6EJw85DePbV/7O0xxffETwTn35a1w7Jh3wFcH6a+v6OchgfX\n",
       "9gQXhkaox9zQFW7W+IykkHIyeqNEuc57T5DVivTHqX9TV7cK/16p01CaejViujaD7PtsNHs65Os9\n",
       "a8dDBFMCk3DMKMcq/n+bL90cIYq9BglgRPKwWvETuM+UhKY1hz57b0HVI3L+IdMfdzxmy97B4Ms7\n",
       "6s6gx6QTnq3qT+h8j7oecRQl0d3vies2TATU7JPFHC5MI+uL1CWnreIr79u82be+GTSzwdFip6No\n",
       "G2p7OMSIfLcsVvuL4TCiPSVPKsNavHanCjSwmrMgj06GCBIpnOqcDWoMfCqyXuKi7iSEWovClaa2\n",
       "3gHIZ6TVU+ANJDGoeZ4nPpjTK0j6CZ8yGABHanm131cSAzbRdFyBSUCZAvTDEHf4Xmcy6dCQMnnj\n",
       "Zzhjtt8EY56ubq1VVcIpM2gIUqthzwzI0697aUJ+lbnd/6n8GtCfCnqyqw5WDSYFjzMdNRNbLIa9\n",
       "YTqZrHfa+o38uH+ZfC+tYpBXj4dcnovPxrrog25nuUrMpuXauLk79rCfFurZRdHnccdSC7QuWtM6\n",
       "FId53OEmGKtO8PzhpsgGWZmXCDhRCEI3UaktibT08uX6FXPxMzUw9mFZz+ECdPwH5jYKHQElcdHn\n",
       "2gRcP5dILShkjn21aACDl878RAOTg0y6Hqlpb/exgr5wXfron0sMOD83tvseyRnwbPheOYr6Utvd\n",
       "yhDifRzo+l4iCQaxndyNYiqX1iTc9rdsI6QqG9kzvIwWJC2sLH+OJofi10DoYseMuId+x/ngFxy4\n",
       "4ao+p0JB9IRZn5rrqSGdfqzMgqpYQOrie2OAtfnymg5FcpDgVuff4B8AReEghoOQxuDcVMLji4hD\n",
       "SwdsU9ljMwnTy41cFdOnX8nlBvPHVGPASIjq/XKoS9g6AqZoavaLjYJNN2dvz81pXECzWPxh8Aog\n",
       "25wqhEgp1BcyrYyzn9LhWeyaEGoELiNLsvKVY4pbUQKcSDJleeq2eK9HtaoB+sXrMsqK1KpjgTxX\n",
       "RgKwNZvDX5OGmkAzQeZDcFczv83kWAtHk/2dcYwiYAtFfb5xnJDQPociorsc4fbGBXaoFd7f4hsB\n",
       "Yc8vCmehXg1vnemneNKZON1Uj4E0xsu3wxCfRGsttykm1z5gz3sGfkQoAOYoixMhiR2IKC8NjGno\n",
       "b9G5FTF8v5gHznhgWcqUnYwzRhwNsFZfRR0ScV3UNsptX/9wjismh8qJpcsueDVKICcONceDAMvA\n",
       "x2nVRi85ylEaH68wmc2ERu5meyRbLxOCLyCfdYE1tJADrW0DUVaDQDua6yxXIytjBJ4MPzYouuh+\n",
       "o5K65nN4thajOx8kz0CrZfbpg80VPx893DDeRmSe1ZLRbivzF/x5WyalwAusCaAc5BkmX8zgeLy8\n",
       "7b4XU026r0geKFdZx/Zj5ZSpiyqUS6rcVKyI+JjygHRBmu+SdZE2rdi+5lH7VuwLYuKA+qM8GvJu\n",
       "/f4Q91bbPh96cyF/LNw+1G2SOrF0NhDV1akUUdQK2z8HDG6RKD05RIJtJ7idNT/k7MCiiHxkTWqN\n",
       "Om4LjkR0lLk3dlmrK0DCuSiZ1lPXAOmJLb92HIMqVqm1uG5HJnrI4IxXOg95ppdlVZPVymmcNR4Y\n",
       "D/VMdwPOz1/CcuiIwvu6XlypYl5lhFebreunSaJ50idHIgoqcGnx2iPG9bbYkY1muUtYS0LcyLb9\n",
       "g2CBxPpxEdyXerBPAz20BWMGx/AoqXm829xuOKgldlZmB8j1EKRNh1zJ9ZaI3bdqFaKObtgCU9le\n",
       "IzakXY1Wl410Ta/dwkiZaoKKW9F7OoBVJK9oKHsRFw/yX4pk/Z+mRpwaatBHH8/zYsgVhctLrdIc\n",
       "lB4p6dYufaHHz+SOcdLUH+XiuoF/OeM0Mm6crUdoZrsXYuk4YgCxu29Uo0zg9CbaWnXDpB5UrGHk\n",
       "3tnEBrb9UASZBPMeQXqpD2Rb/S0IbT0J93c6voKmv2i9C84BJwlRyC3R3L5sVegKBNqD+I+fWYzr\n",
       "U12VcwQV65n+2oMJ/RX+G+rSK6p0imF6yo3GF4KhpURTLZ7/EWCh311xglMSPu6ZBVB5zxjeoBvQ\n",
       "wVDsDNxRG3JXZkjfQ7/hVPPs2LWIgBF0yOSa2EJzQODIeArmMR0/bCDj2EcfIQ7zL1UqRqLVA6V4\n",
       "QvtsfhZ09LS8mN1Jcl4VjSI8nJIJUKUGjGQSSIxPWi6QD6hNdjEaaRhRER0g9XqvFdHtrzxY5g4V\n",
       "1f8XmGe4/iSjHBwsuCcuU2V9t4Q7/WaTouYHrfQPf0XTKuDX/NyhjrCDRK0tP/b0Hcy+Fj/pWZeM\n",
       "hqtr9Ax+ora5m1fVtPTwIhkI8kl6RClvJti7vp4U5UEAAALEAZ8uakP/ABkald1RbHFjHvniZCR6\n",
       "eYLenRdoaqLVFBaE3b1l2UizDubgA3L//vfGcXNUutR+ccLjXKNpQd3BCZ9OZDLfIRdR6IiQgTBq\n",
       "G1lv/+OowEQyl2Wllk7hBthAMXoSUOrgJQov6/GHXs8Ts+xOQ0EiKB2KMs6Qkklny3d9lYiFZwHZ\n",
       "D8WKDPnj1sEbJon0a0S11TjtbTN9/qPxAEiH2o4lREgL5rVzwewRBk7xX8Iw480PDSmj14kJZQz9\n",
       "o5iy7GmgyU9uReqXOrzkAhriHQqJWNj8pBUeUuOmtOXL+C84mI93aXogcukReYReBnTVQ9DB7nyz\n",
       "5f0t1nTli1LesbVH+7kfDj9T+yRZG94DYQH/OroZ3ICIL4NwWPpJ6gSurDHPmHS3UYbQbAGOM3Tn\n",
       "Bct9Q0n04c7V4cVTza5tbDcaBldobDm0z9qYy58mkqAvITzkWyAM8eyPm7S87UDkdHgLKfvh4jMo\n",
       "Xky6fzsgVNdsOl29ST9i0w+PH89vGXQs9zsXLYnLMi/imEKj2JpqCaRlfS+Won9u54zT40jxiQSh\n",
       "TVyoZfZGbfWtvu3otMJdM+gDzl9kQGuR5DEG4aCUB3A1Gfvx493Gh+VTC4WtOcxVaRIDlMrGbjO0\n",
       "BmzuOeXHmoGLArsFVWogrtNcsQkJctJZtRM4+SQLM/W5KWU8RMIGzkC6a9jqlfvIa//4hDwGG5Uo\n",
       "7Ygn0tAzge6sn8NKOMeWfPTwUQGuOMzkt6Q3VXXdSgsLcHw9VK8BvwtHdNAeoiXEWgbT9mg7Kuwn\n",
       "DOeMufDIL9U0X2SY/iS+1fcjvhgs/kC+ZP6Onjc8c/KxYN93Vi9F94AOQEcnlWInaHPAA2d+rcZU\n",
       "XtWh39Mo0lMovH1jGC+lUf6yghZP3zdpXP4ahCuC+Kw1TVk7W+TYsO2AUyfPpCg50qyqsTTRm+w0\n",
       "B16ZAAAB7EGbM0nhDomUwIKf/taMsAZRrrAAHMTLeNnY/PWoMCZcZrflh+fqPDQkUhn5Vu5Liwej\n",
       "xwlFRNx/wDFBZyJohFqFIML+dbnVobeo9peMOviuQ6R/vkjpG5pNKBRaFyUDARghwonztoAUSh6s\n",
       "0ElJpmJgDV/8GwweVTdqKvTnaiClQxqfPNQ8cuEEtP4scJr063M+XkzphDkoHLD7Zk+i9cymEOkB\n",
       "H4BSnkB08axQ8LPgnI0y6ZlRu9yX1NtvqxADzGS55RmRpSBK8ME+4g0PFwjOHZLy2Jz6djQddHLE\n",
       "WQxwvnPs24Cb4KIBiCljqFqWdo5X2wa40bseGlJWwqPuQthh5H9JXqH7CjWQ2tY36TXu5De6y2rV\n",
       "vBOIJuy7UnKgUoly6hz5r1nhQmLCxhEjnLn4oPOutln+quu9FNOVem+EK81TIdNhCOR1IZTGOrze\n",
       "2CaeHQG68SvDKBojUgpmKh4IeobDDCdX70d6tbhpDAF0IIPsYUhAm0UYiFN0Oz1vpGvidg+hOS2+\n",
       "8SqW+9u99mWzTvaUdVBP6FS8mQcnKqoUJjoFT5ze8Lmj5yZLKVkKRZW23FeMNoZ5g+H+trRKQpz2\n",
       "xg5ZJak9eIiE5/nUlAB8I+S8GpwvdtDr3ZQFkxK0qnz2wMq54RenifkGZAAAACpBn1FFFTwQ/wAO\n",
       "1f1jY0Rym7yym8juN959LHk3VGXeb9nPDMl3wVbUSpgAAAAeAZ9wdEP/AA3N0nMNNqV7Wz/CEY3f\n",
       "0n8TUpBVZJvZAAAAFwGfcmpD/wAgrRpFMW/sasf6nr3qHmFwAAACSEGbd0moQWiZTAgp//7WjLAG\n",
       "Ua6wABWEfRhc8H6+x2f7hCN53IAZd9VJXLbG0eBtzvLy9Ie1vV+7f8FCtlJAaXljSVVsI8VAmKeC\n",
       "HDgEE3E1oUZYxoB0pDUDwqCHgtibDN9XD6xk8QI7pelfzA/M4H+HZ/9OythqK1ntBkoiJzwcHTIu\n",
       "SdTtK/r5Iy/oB8m+QsgozeFFsp+UXMSUa/8au72LWUWKYxEOcArXTPfPzvPQflvkxg3ZwSO08deE\n",
       "dCdosqZ/U+eDGSDHpmlc+7++YrOQ7dVndLZeLnA0WbZ21JbmXaA20x1HlGxRvynB+phxLwQR8QWP\n",
       "azJYjBL37FsNpVwIEwS61Oc63amYkIljFn4U4fUbyYgw8HJtDFSWUR8yjlOoV2ldRUz5QdE1yWQj\n",
       "Np2kbHgFC7w1whm8uK5x3d/87Wr77R1B48D2LBh2xKy8KU3aJsU5+4OYOdoI3Ltf0AJLfRpD3tZo\n",
       "fjlM3dC9iY/bmPZSfY8UxLVSC3y0OtS1BlLi47HbROErij7z40jzzKvdYwEh5m5FAkJ7/jgfj+QB\n",
       "PM2/7iskCq+TGuZMSSVWniVzSbFUryQxEoI5sRVuc+Eu/lcwGMJGe+6sTG5Q/t1+ix0gWNIekQD2\n",
       "xJzbQzIwEieuD5Tjbezj7dcQCzKf4AMAWqFv6rnPn29pYd16KpQye+aMq3bkQ9kgpZe/GzUogIAr\n",
       "tCYkksBATvnGlE0YHkxVElwUCyPF3G7TLtRchDllOls0fDPpGZu7ubFFq2yfndYYkDPrAzxgAAAA\n",
       "KUGflUURLBD/ABt7+sayEFUa+XQ0yMgM/2lDgLWPOCNSi/XXNaF6dGfBAAAAFgGftHRD/wADn17M\n",
       "gpMWP1jVJMVGXS4AAAAdAZ+2akP/ADx4QoQMf9jJaj5UA/+V6YK70jq+/80AAAL6QZu7SahBbJlM\n",
       "CCn//taMsAMVuKYgCk2ccskGMO5gvdijlA46iZqDbZRUDA7dCh95nSiAk0BGjYNXOEZTEAdtw+Xb\n",
       "hxojzOn/4I1m9fvTfsXuRfHQ0QyhXD3QHPremLr64lK+2olnfIvVZS3RC1zyM78NaR9D+hFLOYze\n",
       "4sZzKOHmkLZJ7kbXxoJ6ML9bTWwBJxqurjh4Cw0MJsFiPy0Ad6Vh4GufhqqkquahgDGAdaGJ5zWK\n",
       "Fg1R6OFUu3mBeS4QckFHVtl9HhhkF9W+bYWBYZLuTcitEYzvTQ7bibw4YZwp1bk7G/RX8nIiXqhc\n",
       "oSFrAcQ4oNIfZx3WIqwpDWipm6Yn9IWspQjUTKiFBdy+pjrMlDaABik2z5gKc72YT/5zl85y+2Mv\n",
       "g07MnwYnRGd9YG4vHnwZVSrKrbOpI9/+0Ojb53BQX5hJiBIgcclTAOvKHA2j6+GT+IryR4dLk4ad\n",
       "8jt1ujqAXqExti7gI4wD5XcA6234HtzjosWrrTpQs0u3vR7rysQJPRayY9WRXAqIeXs31DR/6kHr\n",
       "A2jSKawEvPi2oh9MugczYdbZbWRmmLsuh+UziELTEiy8X44wGCCQkq4iSUsJ0f50UEdhFdK+dHe6\n",
       "1krQGBl8jFByFQIZCvN20s4zED6ST3amh5St0vWtuLD5HuNPKheGGCo/YDwlyPdWw1fsCR+Zt8ii\n",
       "5MydawTuN8cQ+wjISjX9zYDrHJGZiJXC81Zp8a3G3CQcVg31N5+q1uS3bLn25h4ofL7FROKRgOpi\n",
       "fann9lSryep2JL4YhrYBsVBCuA0XexcYLZ1X0jYNIMoqLPcRpuVYRQu4G91mGnLx9LIyzSHBSzQ4\n",
       "0/OX6DbVRRS0DH1LUVlj2GUkmGfaTjnxK7N4yqwf8pNk6TuPbo/XwyiDUqE2DQBqkAPuqcFEErAf\n",
       "wNYHyv5oHnobuSw961c7UbRc4P4ZPVtW+aAGRvbM5Bg4DMk4mxY7NT+Guf+KOofL2lNJnw7dxx/W\n",
       "gnfhDaQwbam6nCIhAAAAKkGf2UUVLBD/AAw9EKfSnPI/5+Ht8KJLUt3VH0HnjrIbZgL/b28JSvYI\n",
       "gAAAABwBn/h0Q/8AGvuk5hhmjqU7yF04vxUGV8wQZEHxAAAAKwGf+mpD/wAADn9jIpR61V8zmmK8\n",
       "uK4sYAV0ysAfsB6rDp8Swt9sQlIUtaIAAAUrQZv/SahBbJlMCCn//taMsAThy5RACUNlFB7miSDg\n",
       "RB/8IzkydtlxjgjRymDRhXwX8UzaMOqiZN+0ykS42s+NqIiFIZhOKsaUj11qk6dqOdVlvFVEMSRi\n",
       "tFvFWC3s36cu2yUhZ8YyLAcW5Y8GND0jdJmWQJO3J8ace8msDZEDMuZoph2EfPN0bTyT2yO3pAly\n",
       "Y/ILRQgsUPqeDH/qGA016OUrtWdf4I9qNNuoKS6JMgXPTgOOaFuvwEus+4+choBtU6jb4+Bb4jrb\n",
       "jbFh7KZuwssCZ+qVAsWrqvvT7KNGXw+ED/VE0LBw+EmbFSZef9sddkc5Su7f7M7PS1PRJxjbMb53\n",
       "JH2bDlN7uFFSZ+fCGYZbtkfbdpGAa4a2SEq5Sx5SX4gXDIz9zTixS8jN0S8+tSBwFMEFY+PTmkIv\n",
       "xkCCeN4VGPLd/zMgnogQ9IMAAHDj4YlqW0QIvO6Py7djj0ck01bl+vJD/ClSY/Gk/x7bXGneyN42\n",
       "pd6otfVFSdGyHnRN0kmbsfVUP2LICQ7w7dzFaCl75KBcb+WJOTusT8LxPVreGD+essbqc+RxWC0p\n",
       "JjUQjtH0eKZgP+Y2myPwEgslGIweX/4yFUl0Ss4b1l/z+79f3iwQBRW0i/NOWspuL0ND5t72tKq5\n",
       "3jXaGhF5FrepNWse6LHB6ZjRAy5V652tXafJarMKL/+aC3VIP9PI2u5OcmRddhelgtQDfD1FXS61\n",
       "wZLCRA1uUfNl2HVUPg2K9ZmS2Ggc9WorOr+BSvTavVRF61OfFKVQyrTYi1ITkiDKZ3qJ1YXx+n+u\n",
       "9ZnKV6VsbsdqRRUVIRkNO3TWjOb4E6usmE5UaxQefN21Vb1dFYWq3m2BX8WitSnkmfgSKbMrzVP/\n",
       "qFlpr2JEFbqvZB+t7EBOS+NtNHXP94yX1AakIHcbHWZrnNNFNV8EklGq4Xl/XQzndyRMsL7+5pHm\n",
       "yShv3qpTTdrdLVSoYJ9edPuKpYQGUh3DLMRvnDRt8hf/57WK8LAt3i2la84I0CyDQ5yvH4axSIvS\n",
       "IJMAOQIPBfK1R5jLA9yfkQzrMBD/5YCX+3nvHKj1NnhoFBlH1SebwrLI49YRhXe5jybr08MV3JWx\n",
       "tYR8LFBCn3LsH03EEiwKRRcwkLg6YmUldpBVmrcQoAVLDChxXHd+gGH2Z0jWd9pqLKddFa/hhWWs\n",
       "Ai9DJG75z7JWQ0WIrPImeEgRLknzQTsKg+xQsYBA5uZ+oMZaaVLBfNdeDU7O9CkG9mmTm7+EH9Cd\n",
       "5/pxPRSzvBC15QmzumYVj8H4e+UUcO9up/2QdghPTUSU/m1wOdh9xItfZBNJjHC2r6qyAq1Sa9F3\n",
       "AMYWHXNcVfyXBHqRLihc9J9/Dd1NWIiY1r5EPnoNA+W3K00Woy/cFKkulTPgobNNt0zRFf5wwIBS\n",
       "lW9FwpmlVRQcDZvJY0rQ/sy1MpH4VlB8/cH857gPW3B2JqsmronnLc2sgAl50CBtWv4ExehOGg+P\n",
       "43hW33S+zQEQiwpMxRgJeEM7yV+FPmVXzr7mvInZTAKPTFnAXN4x0ZscRQD+cCAWIN8qRt2zxBxS\n",
       "05I4OxjA80wPyoybqj4j/YKoB49WuQPmenVMdIzrNQ6gQSJbfz7JjGHziR4OeK8ApwQEOtok4SOB\n",
       "WUropKKWCXTKoQiE1lduY2yrbnfTFyMMMUfY6PA2qaOFzGf/BzzFSedTtQWrXzfrKOQ+4lmLlIps\n",
       "ryLJyagvJplAW0meqw7rZU98wBbH5qtxlM74we+XlyiFPzISDtgDAAABwUGeHUUVLBD/ABe/nTOH\n",
       "IxA5fOM32ZlgxV7yQt4gAU5yjw55FBcISuJdNIwgLEajlIAvc73LDenI2ZLFPEoYDy4hkqEYOFl3\n",
       "D5/70+X50iEDFkIM/GH5CprNTN5sRQ0BBaSapqlyZmdd0fIFaXIYd35ZRvJb0G9JzwdEc2cLLojp\n",
       "NE7tfyY0CvcCzGgdtIDFiErvB3jPEqcjk+YjeH2Fu9YdPfGbdrywiHxkWeViyj520i5d68q+wbzY\n",
       "fT3oiVFBspReLRVBwBJaQoOawPSggpyhy8shrXpyHqDH/VGhbOHTEHTpKz/kPesNZj2qbLBy+xAk\n",
       "ttjKqxlXjPuKngb3qYMLtX6VbidS+43r5fDjqfquHF3tyjnn3JMI/n/AQkFY4DSKMnKG12a4et5B\n",
       "Uz6Vwxv6Brbz/Sx9azhTXGdVZx/7hv0KJ38crwVqfw0vNetjnwYqpX/KqeQPV+dT+FJyklN4bYbp\n",
       "Q39DMcmcgSwtx2fOq2oKjsjKRzqkwJ+qkIAoucZWIF2Vs3xzo9N59QMgmPQA8y2Du0+LzWhzrn8p\n",
       "zSvY2iWTn4CQbhWOhz5Am3UM/V/IM6ME9BDoFGlUj8m3sKnBAAAAIQGePHRD/wA0f/Ol/7CrTlX1\n",
       "SMXHONE+CtCivBq7EFuTgAAAABwBnj5qQ/8AAEdg2l74WswmaFoVHe5/SwXaQgM9AAAI/kGaI0mo\n",
       "QWyZTAgn//61KoExvwgZHsiQAiOysHcY/+0lEfYhjv2f/ERqQlOyrZH9i907t1Syq0oqPRrFrgug\n",
       "ZGqUA4Ix6r448ZKSxWPzF3jZtb6ASN9PPjPRVe+c8ibf2cuQCRB4TS8kLlN9gEjm3Qj2MoKGyMPe\n",
       "l6K4wAQG7pjAywuytcMSzNTsth+A9/pgG35ERGtGNaLsmbGSVx4A8sh+THrxSKVhlUIAyH0X+VEi\n",
       "O/DjkvbCQ+jCJeKkYnn2x5rzZgQ0ueTaWNinJoJ49b1Frju6cEi5ezBJppowlVVheTk8S2b0K4LQ\n",
       "+gtxvmZO0WWe2nP5Db4Be1ZOQxcCLFYTnuRNwj6r9tgqiMd7sw/B5Vtk9c1/8FkvGRz35tVlMT/6\n",
       "J+wuHmIYAJ+7wl/XdFk6M38L2xnu46FkWBWmis65CPIAHaq+mt5FECSfHZnu/ngJJ+6TyUFOS/W/\n",
       "r/JczaP8UKUJSzdKVS8s8fVyfh+ecDPW8JowyeXz1ezeLwsnuOJlzNP6RM3LIxoqORV0rtuepAkW\n",
       "K9s2V/3rWWf3UdMnexbh7kJrWX1k+xD6oMiJhT2+BgDrZHpXK6FoJQRZYKz8whX6gcy87G1D5xkS\n",
       "HtR5lMX+xR6gHk+1R/GczQa55U5Ak+PBAob+crCOSmyVpDBLywcyx/dMkFnIjCA7sws+jIgiZ8GS\n",
       "Y+Gse761M9LQkCcQB5SwwtYkDmHzyNaizrg9m7UF5VmB47sEp/og/j/rcTMGKyEvzQvP7uU0DlOH\n",
       "zke51YmXbGC/YHdhwAHYcSKeAbIGY4ABMysQ52G3rphdTA1hOZRHLYwF6MZO8y0F1QHS/jQXa/8D\n",
       "iSbdT6u05nxm3V8TFO2z5BQAMIsWvRfYf0XyNvrPbWlZdEGLy4cg1PobsUwoQ0T1UoITgZvdstr+\n",
       "y1LJwNIfddBg/867RhQAq3uwprnS0ElkExdtl4B36LiOLSbdDdYeHe3iLwoAqaDm7A0kzSl/yoT2\n",
       "Kn9EUJ8TQzwfGDLGGRxeUgX1UXFlVnBUUokFMjc55O9xD6d45Kn8P2kFJgB35UpXW/6Cd2Ln2PDI\n",
       "4QbTmurTyKHy9PAIMs24RwFznEFo8esCHGMyPagAwfrJJOgd2VHAvAFhRZNEeQzFtQfflsrsihGe\n",
       "QsFUeNlEk0E2soa6y4w6rK+UiGZH1DT+s97cDe4GtVdbYX8t4yM+zchnA1lkumYs+CFeiQay7g2f\n",
       "tFW+HW0VG9UCgL453mwvlU3sVAIK2mt+5kVt0ZRa3FIduS+KFJYDOZCJPrPa1ovolU6jFbyyROOp\n",
       "jwJILGxMOwnLmM/hzyR2o02kl/Hie87W3/MgmLVPjV6+/4+MrmpxXDiV/d1lRT+Tr9K3ua7fgFZ0\n",
       "zE5x3lBpVBsM9q7g+3d4HTFLyHlxDqrn0FN1GcIm3O05MyjN1pY4kK/02Y8WeN73DOkdr2P7Uu3u\n",
       "uyHJEnzo5px/B4RDp8+NsLwikw1+vVA0xUa1XhSicB57SSHyMps5GDHkI8YRUwfIRRzkQvAD843S\n",
       "PpzpJz7aYmxwn7U6poI50Hgts4MH2bXQKWPUHUxKWvAsom8cMGB0MYKcVcHXdeSpVIg8+KlkrzgL\n",
       "aLeNvw4jo6z+b7s7+estmxLU+0OVoBeLJ4nOC8AxoLNak52YqODg04CEkGwhgr2hiXz9YjjaE4Mr\n",
       "VFq7e+1mC43fsbbqjsPlU88BsK2hhTJunrsVdeg6D+/WrOC4fvzz2yVM6iZo1X7Ki9EheZUTRRD1\n",
       "f/Ydvxx3Y4ZuRjP+EWglcdGhIC7La1vof8RInUtMt1ZMMsJnTUhJOQLKbW2Ncpsp8NgBwhKrfuLh\n",
       "DVIq7nf1a3hEugb6P6kMYo692UacmWQLpQhcJc/UQETXf0inTXuLrRbQXC4mtA4Wo4tExFgMolX7\n",
       "xucm1cwCKUoSTvZ2nIxpJ9PpIFNVOcSRkV29U/4Rh32AZh+6L69y7ti+8xS5jZJgMy66YqL0+ZSK\n",
       "tTZSXCRtKXi43DqejdcpFOuperr+vQVbUVtotIAhINPPaYr+JENjjRN5rEMTI/suoMH2GTx0sb3x\n",
       "kmMp3sJ6dkP1o5RlaTbUaOxEGlos76NXhKje3SvPVjAFzw/zt9rHBOvPFJAe8f87P4GRhVVfLJID\n",
       "vh+DDRK3+d1/mrscEtGO0Q5LemqkFZf2BLCP0eHVi1RAhw8z9aDoXTgbpRGWIPTjDNVTwfQExEAB\n",
       "+saro+xcLam40m1lqIiTAACDYVGtK1mR2V5JWf6ORr4xCLNS9xyzx6ra/fEENqBl+iHISXs0QHeq\n",
       "9ijmMoVNuYaX31NuvgIja9sWebIGxzYj3rqTlgYHRwyC80UJVFChpUtdYv6649hog6MR8Vuwd1JH\n",
       "j/cwqx17cERKivgSvL1qR94rIQI4b41FcjMAIWOa3B8+g62e2TlPoin8QSB+T3iDI9pPuwFrpoIB\n",
       "eo+S7/dOIzFKRXExH8vAbXSI74sZDX1WEMzZlRjR17l1js7iTA9ZbpWwfBCk4b62cuiO1aS5HZfH\n",
       "aGg2VeVKoWJc0uvGr73gwF80LUjZWn1Y9qkyLAOb6nYyL3EfDYDgkxkq4O1TCDFK1S6PRQd1Nrqw\n",
       "Ojm2fvsiVngQP42qmtQlxC8JTh/zRkEk0HhrR9gFVlo3kgKW7oNg0LWkfDg2RWY3oWlHQqlIZHp8\n",
       "PkKfkcb9sG4yLe3BU6uLkQJhchBizcil0oFzt1F9r14/dLcxffx2Tfej58Khqn2umkA9YY3TkF+T\n",
       "TZu2Zx4J7z6NQ9pgEjSCVs8yThakA0OPlA5Bkwj+3GTMmotd7HgcBSktiJ4U+PiL7QJvmLqLzCj4\n",
       "mEdX5Nf6mjLc0g8RWmQL0wsSMf4zurDpERo3n5ZNWAMBeUHAoxyhPHOWtPzZ/0j4LbCD0RJ3PCD/\n",
       "uyC+0+84/3S1Y5dr/4TUU96TipmfNYP4UswSxbRtaLPz3HOEZI5//r/wnEBfJS8Wvy4jafcHAVJU\n",
       "5f21uc3dw2mLXXBALI+SNL7BGJg/xyAMLzb7m+hAbXnrRrOv3KNWqXrGOY1/ouy9IF2Dzq+mR/cT\n",
       "3sAZ+Qe9P9Qi9uhCRrUBGmEAAACAQZ5BRRUsEP8AVpzWND+u6ClKmMgsVAz7VGcAxpjG6BvYW4XI\n",
       "ABO3z/wcm6T/GzSf0t5yX+T30lg5alVq7Q3gLDDcvK4Fvj0G+n2WtWM78Z3ri9/DT52o7w5Qz4X5\n",
       "c4cg23fiuAAiYKkA/+wLbSYgHGmVzGsFFZLtH8BG42IRWYAAAAAeAZ5gdEP/AAgsZcf5jpoHuIek\n",
       "HUTq497Pbu/WoaPVAAAANAGeYmpD/wCywhP0Gy3mgfc6HsvvaqF2pTL86OGlMOL1fQkKAFfza1Sc\n",
       "w2WhhE3UO6HkI+AAAAYtQZpnSahBbJlMCCf//rUqgI+4PsClzlhYyxE7v8D195C1HAH1QDjlCcO/\n",
       "sX4GJn7lIgaiyBTdr5NHrBqF0jJQDDii9jjvNvlBYRsIg7YS0iGqxKiXz3BRt55ZKT3JiX0ktrKH\n",
       "XJYD5N9dTMHUTqxC7RLXyNp9YFvCZum+fjAj83B/8C/jlP6fRYhvMJQ1qdeJh72XI4dHIDly6hqz\n",
       "fiYQLTqleX8QGH5/urNZVMazhTBVpXzyYyoREHeZ/5T/ApDqhLVE7Pq3CjPHwfNLf9dCF194Ld3V\n",
       "PWJ4Wp41tQyBLVsbGaDrg//fy1PJMCK5fQZASCQLqd/TSybjZWPSDj7NlCn8dGgAYxsbebO/wmqn\n",
       "mSk/u6h63eDdCXNCSuhvlqMvA05nB7BBih2Q/8BPAVR/cusTOAXdRLsGcA8XQt06HYGWNvr8dgGs\n",
       "EjxeMQgFWMEF04c7YDKEfQB9CV3XIID+X1Af//BklR+wKYt70ik96oaySleGBzDxCRABHcr6Ymqk\n",
       "JtLZZh+vKbnaxrPMHp8S9Ovpl4C8Qa30gJCx7zWW1LbcbNPIOhdekBkbqb1MxEdg92Q0NsCXWdH+\n",
       "87uzBh77V2FOsWw/I18WYgJg0vfD/POLzftDtUpY2hHE8KE4mA+KR6JGuQZojz3Bs8N0gOuYRmqE\n",
       "EvBN832fZxfMvRixF/7v5Zbouk75LltEKjWr8/pxt7QdjIUXLO3pyMCDhtL6cHNqqAgu95y3GIiT\n",
       "NcsXeOcr5M1/wC0FLt2LTpR45tzsXAlWHPeZ0JZKUFtGBlTioBh/9bFEjYt8EX8iZMA6lPvJUJ44\n",
       "NuOPaN86N+Y52LKiej/FOnZ0h8/67LzzHzNDqVHQhlduPS2z82CG2FYw47zQUY9GqfUdg1e3VreJ\n",
       "74m3fhJCopv9wMj/HVAQgJbzvd2YTqFzjhB2bis+a73/aizbtlxriKTPTdX0SNkW+UJH8lf6Q8xa\n",
       "N/2+rZBcMaI5oc6X3upjYF0pohJcUuQ4sZjmpDYWHqIGd+YRv53NsHe7PaMDYDwpfANycYntkpoe\n",
       "Fhv+eEyPzrHyYNzTtjpc6JC11OegA1YLB8aDNO9j/ZZm3DyzmHwa5s5bpQMyS0XBFzntD0XJH8dW\n",
       "RDFqDJAdS6c2Odu2vZIXustZEZ+CQn9GV/ni5lc+zoarv3PaTeMu+qadGvffmOIp8PJTAyebesgr\n",
       "REIbmIRGdGW/q51wIYeG8t8Z3v9wyHV+Ocm+pBjjEMxQEFSmd9YM4yp24Cdw8UiT0/mVkAcaNZpv\n",
       "uWXfpJRMPkj7r+p0KCTMq4ZO8dyMF4EvJWI5w5M9iw0idr4iN5Oo+oZ2Hsm7scA9ZVUUYRYUhrZY\n",
       "7qx+vb6zYwZ6YmydqKuRDizobkU2ZlLm8b6FYHwWrCDAU9SQRWnb6JZ61p8b0G0FT3cuHPezPrAX\n",
       "mcfBLMPL1eEVxMAcNUjQVxADA9qtK6YZHAKxDSdvBoxZGKUypsrn3RPvgeE5hSzCKqYH7aKTWOf/\n",
       "13eVnS/x/v5SW0Q5u/FQMuzbUwzYzsNUnFMbvhyNHA+68QAzpa5LrjCXb8FB/GLTPxG+lLt1j5zW\n",
       "hI8FPXj6zm2gOKeKKuLfqP+87ZJ6KEWaa8a5Pi9my3awoAiKWPFC7SEgMj7ELV3pa6f3VmSXpAAd\n",
       "NCXqE7wwxaICSAKwo0rWsctIsZZLR0Hbgs1y0mnpMy+s8BWUcLGVORxKRhhSsBgrLtp0CrgnBuGD\n",
       "UbPn+T2eXqC9b+hfDxYjnSZ3etQZ+oDX6J7ehpCT9bCpDVaWxAttPzWbwlJbL8ACBbmpCqmyT2qj\n",
       "b5xfv8t9QxQjxD6VP2jg2VVKl174WE/2HRG+nxyOhLo8GN07GtZ5ZYz9YQJcbYT70XzT+NXTuT/O\n",
       "DPqkLPyHJEQi6OA5JFo0U8Wx8SV/o9Frgsy0QZGgaEoDGSVK5IAd8vgVWezXntYQKxfNx8+Ma7b6\n",
       "DBHLlIG7XnFW51RkOMfQZmVhWfR+Ua7olLgNwAjTk2T6LW2LAs9zA2H6JGX7oukQSnPtYUnyFyyU\n",
       "F2PBHlGnFSlgAM49tCKdaC4D8poje+yg9oyGEzuHCTy5/PH/2Ore80vxwl6NDwt28TimNupt7w0J\n",
       "AAAAZkGehUUVLBD/AA4k+aOoSeCAAqzcfMmpPerRJPhcVKW0gOm3y9zEJz+fotyEobrLsd39Yu6M\n",
       "GU93+uLoR780PDib9oLpRSXwK3LjWDoFVw4TvdwSsaCbpjs9uLWocVLhHfljC3QPiQAAACsBnqR0\n",
       "Q/8AHwr7QcQKWDjViDHkLrp+0hIIazVeBZ5JxlGex5Qy7EPwAFvBAAAAHwGepmpD/wAQVo0imLf2\n",
       "UqYSHDOrPhvvhTGGG41hNREAAAeEQZqrSahBbJlMCCf//rUqgaC+ZAKTtVOWAnzDtnYHRyXqsar3\n",
       "rcrZvPMv0ioyjbCbfc4+ylWIcsH7VNCEUo8owv4I2rO2124B/2Ls7+tFlPjwpiipaY4DhzrpwXBc\n",
       "/1N91+mC4irVNaclufhr1SbqU9577/QiVM65f9y4AFigc/Wnitw7n92E0Njebgjn1EpuX52kSIUQ\n",
       "X4/28DRinwcmTegFCTgKDZCL8Sr38s0QjuOLU8t0vOX1bu8dmZc9+3yTScGTBIMe8LF02j//R4yj\n",
       "Dmfr1hjtaWd5jym7PuFYWpFm1HVHP838mdR3s3R+tRBlFtFrPf+jdehulp5x89//F2/bXcCYSTAU\n",
       "pHPUISpZs/WaU+bXv4vaa69cANXfCoqBZK/gk/itg9XmYvfo6V2b9OvkkfCMweBLfPNtaOwoRsEL\n",
       "D4dcyBk6cPx9KCPr8RjRus7XM789w6+pi/s3Ix+CsIrDXNwlHgeFN7l1EUt90fcV2W83IIyGdG65\n",
       "ieeawjo0tFuGxg9SxeilOVcUo7B1qLqDcophliVlQ35wAS866jpY3eDzVoL+n1NDWHOp8kD1v37/\n",
       "ffe0jQBLKQm8erR3i5SOKF97dy4Tp6qHF4jMHS8y/e/VABUfqvHpyVg750qpUuyfib2WETQ9kJrP\n",
       "0wg3oop9acpN0tpjwDoIFVYdm0BjVMUa4Rg4MsSEgyBK4ndlZx+p5QfJ9Rg9tQHKlSPjvlfiojo4\n",
       "AV7Hm5zJx3chww4gW4mhvNtyLwKXRATg57+p9VY1TQ0eHyfzsCh2jnLp0EPfciLBa3V6RcCTgGR2\n",
       "LrybhU8hHjI4qFE2pjIT+9I0RliG8AgjDNj/rKs5x03h8O5cTNf3tGP/lAmogSgSlQxQKSBUXhGZ\n",
       "z1shGTEbfrEZ2jrOH32ZYGdjOp/URnDychkxb1NlV0R7Utj+4mMf/XkStuIGZ0ba6VZXNfM+Njto\n",
       "XGHuqqXBCRCfZaBjjlZr1q3SAZkbkCkiQvnTbKpWvsx/hlF2VcJj4fQacCVhyftbVdrxXuCCi45n\n",
       "ZsBL4kMnuejdKbXUigrUixwngdB1SKYGFTkSy44Hswi9/vM1GVG8jHJkNanGaqNCXUyJTU3V74W1\n",
       "2GWLA5h/rK4xuy7kaoUGwdThBl1AoqfZbPof4X6bi94txnD/ASIpAh4746gW48ANSovu7Xx0ylMp\n",
       "x/rBRRmYrayPYNEbihqlH9t4X+3bRGNKeAMvWSdUD8VWoqkBlxTCHz2qnxiSeaI1Vf8IKoOt9foS\n",
       "MQjOpQPO7+DEu5OQRbefFueACief5MeYA8/xBp/lBA+PEgrPudcPvJT+N72Mfm8gAfD0MTS+6cgi\n",
       "kMoyo5KgF9BaC2MHFaUTJqCSfDdcIllgP71Y/+QaMESduI0UsnnUux3X/AW3ygx5ehWmQ6JDUZUX\n",
       "UTmRZObq6kmDiFGuE/AhNKS29g/wp9hdQu4tjyz+yAhcmeviwOtL6DeV+FQwEd7LxLooSFQZCj+t\n",
       "Ch4bFBfaTGU7i2fSNmRJslm6JnTsjOWWl2ygRgnq1Ts0HOQS6Hn71fGcHmS10VmUBSSm2/p8c3Je\n",
       "4uolTzShmKN4aHIC56IpcW+GtsqXehKlnrjguDS9R4S7L+XR5YpVI4ofX7ypK63bSuQ8d3pjO2fY\n",
       "6ZLmOYyqKbbbWkLpx8YVTS7sVpAkEGlIGHZIeCeeqQQimW2mfXntQr3yznDZrfvUU5YFpQyPIPg9\n",
       "wLJiPPnXZTv4oWXfEAhXGuPZtT8rF5LNPoAn/duR0dVCyC8aq1vRu9zsl4gko+Abe3gE5x/EtoMW\n",
       "1pJtvjImYIDHATfeUN25x6h/co8dTwcPGX4Bnc4vJ/j+c+QRJ6C0tnawLcYWip7Yb0i/9Und3RyT\n",
       "/z3wwP11JR+yUl0/UEqkcG46GQxxKpFsBKz+kFvCvrWwG1aDPcP2jyQIi25lLdJ7Hsa3yvaVC1bR\n",
       "TGfaCa/Tk+fobS/LBu3tIUNLVYglg4T6ngKk7EyXwszW8UbM+q0qZJQdA4TXDNfN4C+ol7yd/zPA\n",
       "3ueKEruPndSy2X6WV9BC/02qwpTsAOp4MuHfTbDuoDSL1UUwIMMPPuq3pjiETKbNrdyrFA7u1LWb\n",
       "5e9jafiVlgnpcGUNlBeumuDbz0h9D+gZNcvALvFMgfIXmNQKZQl+rl/vfOO+jjO9YOHE5DueHN0x\n",
       "H6WP/7Lp+yNBAGr2KuUxh3HcIvTAtq+7ibg34MCJuehdZEkEGsbb91/ak/0AYZOHqVW6u24gAl/V\n",
       "sIZvngKGCd3YSvIEV5rYI6/jSGDdFBXM4jBHt8hjdXdJSSFv0J6xfwEGCckSmX11jFdOLYRZhZWv\n",
       "o6VZvnhGfi0B7e64r+nUvloO737xV81rmwhjFsEAslh/PC7alxMeu1nPpFDA7n+joz7+o0KdPcbZ\n",
       "lPtmCFKXhLanGF5pCyPReugCPLvyz94ltUnMRI1cMiO0XFwWP+N24K5nWJiJrx+7U0ynvn3mxwch\n",
       "moDNJte+hFAAlIzPGXq8UiZ1Px5+hYDqRAjQiFtHAhK571rRU9/HIW6qJvW6B8nET2vUfv+6/H9F\n",
       "5aeHcrAVbQAAAFJBnslFFSwQ/wBjA7UnlvNOZFWI+fLqea9n2cvgClXaf11JOWs8ddZ0U4lqRNvN\n",
       "hc9DbkewqlrjoiItCiwEWqr+P/PWdXW+RW9oR6YYpOGJxCTgAAAAMQGe6HRD/wDJKSYz0KVENkol\n",
       "86DsB8lqgoXi8jyg2yA0paIfryv41njSsbcg5LYIMKEAAAAcAZ7qakP/ACOwbP9axOkwPNMncWip\n",
       "IdQj2a/PRgAAD4BBmu5JqEFsmUwIJ//+tSqBLgkcnDAIAQlPn7sVcF8qlyXDN37aMTqS2FIXmt+B\n",
       "nJqP9Zhv0k9uTpEO9JM1wGnnXzXD5kALzaghs/DWz0mn0yuPcKJqMVVVsoVeHBThqigZr80adr1x\n",
       "nXNGnpLH47zOMHZDjMexiS/rUj+Kj+bAP/3u4LtIH4cR7L8BQ27upD0gwEW+BDb6j/Tpz+pkXRH1\n",
       "oh/KlIAAPMpNy/83Tqu7ZOxd9J1/5taq8jnvzWPWTAl2stjUW9L+1MDigOeyXvpty4uSLNi0KJi/\n",
       "njFXqK32AlM+q/Ez7ltsB+zFt7zvbtSkhyDr1493EC7QYwiTNZ5rXunOv877Pkzp/l4SzJ+2v0AQ\n",
       "unK46Yo8A06Tc1P9HDxwHKa3w9sqK+QcFpLeNvjEOWcIlAjAJ33kJd1efn85kHYKbaEUhXDNKuuT\n",
       "WZOISDzUJG+sHFwunItRaYAyFXMrta3PrhMlstPyLLRNksenfblDTuRX8tiud6QGhC/6CVDFi0ks\n",
       "EfwZiXi2CjVD8VqCgew8viIWPEhVisdqLqnUcgGGa7u0jK5rzTsG2roBoKlnyuxXz4gpxsJwlyRV\n",
       "XVjqOZ81xi2+6eFMb47IH1Fkjp2GkrwY05WN28Taqoy+Q3zFcbjn2wcDx1jwWKwG30zORYatMoFL\n",
       "mh+uP8yiL6+s5jTsxI/7klCrBRHc+4bZHTa9Nq5GNmDXQFeACfWiVcoX9i7jd180iHBBbkZwF3ZI\n",
       "GGZp2ljf3MbuxksNKrtQ0OGm2czx1LWvS7xJKtZrFqhMQR81WB3ehzHkwsAS4hOd6g5RC4fSct+5\n",
       "12wKO0PzVKVzZINaVp+ncN1bsCWsHQWKoMhQ5ajV9w3Gf9yIxGjP6xjuLTDPGEwuYEJdKzw39Mxg\n",
       "R6iW7KPtW+BbEterARbW5q834pR2ISAQRbm9261LpAna7fCMrTjOxfNctGSZqHe+USoTMy17TUMm\n",
       "W1Js23RSqg394bL619g+PPSZa7rS4tFGVXtsBqfSUuf8i13mPnQc/G/UNmG6fdB3TKkLbL6qPXre\n",
       "jTihpd5BoT0mL2LSEabhOY4/TOD2EVKcYMl0SblN+aNZYzxHmpGgz1M/yxq8blnWmTQnrLWsB1s5\n",
       "BdxUTefhMjqy67BKfVbAZeIh6LiSAusuUlwahRtppliAZjToxepR3/4kBoKTWfc17/GZFKHG61Ei\n",
       "rnBuLBdOz7a0dkSHfvCLAjvAXef6wYqtgr2T4W5FsbotJmAvOtaLeAS0gtnuxUdAU491uI/8SEVs\n",
       "dVqOSCfhJoqs0EM3cK/TDmBsH9u8vVjtPCh2OI2taWOkBq/+XZFj0W0JXLxzFXrCcrnxbVRD7CuV\n",
       "Zfu9/f2v9BRDoHjbEcNQtNv7Mq5Wr+WcGg3NdoX62KT9BF93Ea7Fj3KRQngap+57FHBHUQWw2VhE\n",
       "zth/wjOKhngT792mrQUvfTAGvqUbFGVQ2CJkBUQsnpLl+dy47wPsXbJclhKcxF6W/SQv9DEsQg3R\n",
       "V/N8FihAjnW3ZGSlUdTelFVNXiuaC7mMHXY0BWUanY2OPKcsIRD/qu9EkSjLHkEnDHnzjn2JEEMk\n",
       "6BU1aNW+veCQh+HEZ3N9DX2I0O5cSdoMs0EFxrumSYQ6dbwHWuYwX4/Of+vAnpU67MttJFpP4J4G\n",
       "CitpJhoe2XjliBoCHBSJ0JyNy9HDtR944jam4XGp4A2ktTgJ+O3Fncl4I0DviVoHUBjBvOTYICdM\n",
       "6z5OxOZXmfbklexUXkxPsSWDaD1jsBDFzi96CKHDXUg8wjxbFlh2trhPEwlE1K2z7NQu6EJv13SR\n",
       "Vjr383+EGcChgSrJLEmK4QndHoO57an4w/RKz9NlUDik35pOqs+sqZ8I5zhzwsiDCA59cnyNdBX/\n",
       "4jjEN4zkuaNmRN6ho2WbRIwbLKp8QR7fk/CXPszyddIRnaak+SRIeEGnJgPEsbC2PeYqt0tCeWZg\n",
       "BNYJE3cKi8RMk2xMW5OZpOpkzeu+Q20SlR1abTwAx6vcFKwyyUOVzrKHRuVm0ZQX2l0eB8omcDWO\n",
       "GKG3uTknEAaBLoFQl/p+P9FoYVt0D41WsXg8Tp8udQhbBEXdQtSVLKOgXuB7sdki6atwxo4OEmsB\n",
       "5Vkt9emXDd9rSMxNO9pK0qy923AT6AWRgnKpLZNjtNMd6j7z4yXJXexuwy5eNEspnHpXluxWcul8\n",
       "JFRCvCwss9MJ/uIOiX/Unx1VImsrieGjcxucTTyJIEzhHgAKTM/LFKudwYq7UJRFbVLTVuabxAkx\n",
       "l6vjTqspO6dMsahI2kybg5/JUYyu8ZfYl7tJMVAlfLhE997ti0Cd6iHCXTDPjXp0ZBIdddIi2ZWp\n",
       "yBV9N+HoH0ghkKU792AZ1B0PZQk2Vhw05rijEUhl8Zm2TZorXd2a/gZxXmHmL3ZR1XHfy5rlbQgQ\n",
       "KUs5MqnRCZi8i368utYH2hAKEeupW8ph7MkJRPOVRZ0M+wJUw18lDY1JzvphPybFRDbg/Q6vIvxn\n",
       "3RQrXKWMjLrkYj8N81cOjqrE28Off2WuH129YGU12stdYoV5ISKsSOJ7EHEFX2v8oRfknXqY262s\n",
       "wzXpkMuRTpX/VY7Z0GLUimaWH65rRXTwcdGtj8pI7cZW4cj6QKqk/ealbc1g6RohUb2xJHjLRabq\n",
       "7PEYjHXyCJF/6+mglpfk9o7iiM2DUjr55K1b6cnHEcitdyvVZiQGwRikfqjsOaA1yQSpoBJNgWNP\n",
       "zH1fHDY0avgKO8f2fnOa0C4FHbKYQ/uPzwcNb2i7JAhLhy7iMnXPe/Mn3W2HT3SBarNgpFyqfyqu\n",
       "Hr1KdA2XjHG6kfrTU9zFUDkk2Iw86oSXUKnare7K8EswU/Zi+x0elA8nRB8cp9c8bsNsEP83tnEV\n",
       "VTmRajGJv/e/KZD/VI8Db9VMv8m/p/3weH37EDt5Loj+8a+1Y+7my18uJkMR0B+gdh9swkSGjyIE\n",
       "v+liV4Ry6vI1RBs3EQVURJ3XsN89+VTIM9J1TzGzIOsPR/JKE0zeM2Ic45Dd4vjXWUH5lCtatrMM\n",
       "dZWpYTBb8sgThyT2k44pC/edVlZCklyIIfByU38d8YLYkJZY0+w59pdVIgPbDy0v5koCxvMrcq3v\n",
       "ss6mE4RrhG3TCMQw8Cb+og7bQKJ83x9y0oAt/Iv16opwtsFlRAEdYP3zqnbkKRUOooat2Cskz07V\n",
       "9Cq3nw8IQHWG36at9Nyo/322NVfZ4Qz0WgidjtMU0Feno+VCA42wWZKPVgW99HHs8GnhqJMjC675\n",
       "6FACpEUXdWu8DtA8N5Raa0Wrt5USKGH3b/cYAqrDC7kN6V+V1bfoo+AgDxpgMghubEBDxIU4uaqg\n",
       "ixzCFIJEtxo7cZvgo/mPHJeIhnMX9isf31bN8KWaSf1duaLJbjQJTzjkFHOUlnXU1p4GN94J6rTj\n",
       "EhpFRmJG93bBsrstoEPu29KpBqrHYkSGE4uPgb6Kgt1khPmoEdpy6BMjuYJAA6CkzoYqbh8a4Onm\n",
       "evDQYCvP4VMRWLhjk60/bFIs/vilbLoAmr21ZOVFUu+QfQPc24rPJoTfrKfkPncBc9QZVemcIkT7\n",
       "anf070Gt8ItOL9N7/GC6EJqYsWNi/BGGehV/e9DHDiRGMm/3vlC7gMCZeNv7DfwzqdBrkFDN2R8W\n",
       "Dv8NMhdBtnwhSLlXdLFgj71Gk6savOVYqOWK+XzuHleVgNIci0yZRCvUkg99ngqfI2NZRiule0l2\n",
       "FwlDK8n39IEj38JoQZCXAFJF32GCVMo/2PqN7FdGha0CCZu/g1LsoRYIGC2GF2p2QhQL+s4FbU+x\n",
       "FOREEbULzYco6823SedX1jnWRa60PZrH1f2OhGqAWztjab0xcr2BA6V94wu8Sn5rJzxF6WO3oAsK\n",
       "+UOiCo/Uy5cbVO3M0FYeYx2zYK3H0j8pw9KwVteQrVPJzBIt1S6gis/pBmCYhK3rT7nGlk//6Vsa\n",
       "JfsMmWimcOejkdViWawIIes5Mnp2bTZ7z+oPUGl0qhyRvOG4Hbi8xULTQ1oLKrzf6HlY5Ue95eQ+\n",
       "19xIOLpJnyEjuogLkbBT0Bj6e5YG1Dhz+Q3grdjlv5AMC9Kcp2zGzAK8RSyVoJDW5nMMBx9/Xp+z\n",
       "jAzGMS1dquUO0Ir8JK3yQB0XDCh/4kem/qzRdmFdfCEgrL7WHSKonrB6AJ1rTphnLhZH4fwmogV/\n",
       "GE/S/5ZBpQ8VO3RnOkmCcw1GXZztXxrHOD8RCzYOXZ+AFjPd+6gRHILUWBUE3Op5qe5MWwFpbVhD\n",
       "N+nD8+93BoGQYBCIzj/cOrpfjHXgv9O3JL7nS3SqS1vicDaki/bqYItTlKd77rIwYJxa50oUcmSn\n",
       "FOvaK4GGvxxP/MI951z3gAAS+Of2E3RcVyUUG3hqC+0COBHwIVyrvrE9h/2oLajE25voqhKAUQbo\n",
       "2LohCPZjFwgNUci4RAJi8YnbffvPIuxNoHUpsMqc+/SgZQox7LiCJLW8ydKG3Cit60aTYirSWBIN\n",
       "YoZ6//mwS8I345WabTrSWdsdyuDhWVCfusJ4dMogV0TQJP9g/CjOfj4K+q5MYDxSlNiqAPF53Bag\n",
       "CBFgD4WU+Ico+RAEE6SissOGWQ59MOfJAiNmmnzcZ6dVw7ILKQsCoCpqgpCq3La8ptIUujn8vP8i\n",
       "q5wp7fkY9hf8ei55L+3OIo7tchUJGrLUnuVe8YbXUoRPz3p8F5LUYb9vYuu1Mpkx5ZctanMPcb5e\n",
       "apoItE4F3M7RxQavwatlQb6BjAQ4+qDYeAeOVaHMEXzMkcNsWpqZ8pm0IBeHWnIia3Sj8BI5LeZU\n",
       "QjZTkC/kAsIwKzg5ghP3WEml8XDHFj4rgpdASTE1Z1bNSz7laM9xGmlFsWHt41oZs9TZcWANT9rN\n",
       "TytsSabLM/ykRVQvPp6duEbPkvUcz5gg+yzKdLPHkRqCalI/ctR0dU+bNkd2mr3ztk/UywdzEv+2\n",
       "6RJe1y2Lbf3giGW5TSMfKkgyKPIwcg5shXbKhPAIqYwoyLoy+sKj944JQtoP+DjPZajpmfGrhE1b\n",
       "Q8RU+O+2xA2eFqDnm70xpP7L46z6C8X5sJ1XOOGaK/YMGygl0vSo2MHOpXt/JqKAablUpBEIExeb\n",
       "QCLdt2DSjnchUnBss4lGFpH09lxofPWfVaLywTGf93FqTGtykn4YGk+8qDV564tp/LzSEs3FPv+t\n",
       "CrUdUgOw6r/BKMl0BVjcTunVW2zm11x7vlk5EiXI1vGgRmTGUp4Q5FFNSgJOp0maDOpLgBI0eiJu\n",
       "o/3/vDi1vq1tirLXKj2jekY6WMXF0SQU+R6a158gdnlj6ibv0srL/NwPEJlbwAAAAm5Bnw1CH/8A\n",
       "suxkUotcsgTB2DnoCABsRCjrvmirTZAVxPT+cOZKpErdx31j7AAD2v7HodPc6rzXKaEsEabkvG94\n",
       "urSulfdxydxA2MfRSRXmYzb/+xF4dQNxtU1Pu/48NJ3THeLa8F48s84139IuURqdh8R1VfI/aYxg\n",
       "b7rBDFgUsJ2oiW/ymLZrimtaxLaXTw581mvqTu23H60X8wWjq7ufuuOaUdM/clzEEa7ASsFvAosS\n",
       "I+92+Q5rUFCEF4ya9uyNsZRpYH6dyKgRIL6p3wrYe7GJtv2ncKzl4BexN4bzVuZDWkC5tHsXlSci\n",
       "H7cCsqlftaMM0Q0KjfmeobQpr+rePUnwpVQQgYYRKStADaUubb9nasJL0DZOHe1vhwj/QfOSxNbY\n",
       "EtFOBWY08rPAa8ixpcaiEn0xBvAhiSepCTbR8eWuoptNOUtAyGLlJDG06fNntr58nurm6YvQrBeu\n",
       "0q3JN0OICQ/hcZFHdxJWlHCGD/PSVaCTG3QcyiZTmwevUmv291OlYMgNN6EClqfdn6EEUGieWqC8\n",
       "AKTHdIZs5cjp5pIRaV58u4cka1Uf9ZUUigRCp6jTpOTt7VCuWMGffHPWTnUbIaxCsjQPSSIVnQIz\n",
       "uq/OJxbcrboUFLPi37d2s02W4LuffOt1lL7WLXogLjbs55d81T8sdFLkO2sPdwOLF7kKUXlDd86N\n",
       "QhoaqQXCYkhTLYyKyShVRQquK7uiaCYesuTF8hPuACqPc/jVQ2m8hb+2b/V0PAD/Jucd8LbYe+Qg\n",
       "lXzle6UMLMOJynF9fEr4vlWXdfBj9bnZd2MLOpqn2BvGE93HqFjNyegHITprAAAANAGfLGkQ/wBA\n",
       "1yMqF6wkXVYw2133Y/vDIkMWRVNSfQTlV4H9EVSVsm903PoJZiDU3ZUxOiEAAAF6QZswSahBbJlM\n",
       "FNEwT//+tSqAG04mFAO+JAiyEWrKS1W7uvigmBjEXTjzkHNcJvbKtdMqCDsKWnFQ2R4IKxZP0q1w\n",
       "ftxvI4tUoyRtlqt2jKT+oFXtmPDTlC6SdcoZDe7lbDKLjYnluMcTcSwkWd/gfeHyvWC45FyNhwAo\n",
       "8C8u0kGviITrMNsYKZmcx0Rr+H2nI43ZZLYGd/N8pNqIJSkir3A2dygL4pOYw4OUd8ywtIo4S+cF\n",
       "L27Ff+ufxSFDPosbWroukwZHLWKnZWutx/eIKJYAZjRt7Sa6a0RNhp4gScQ3YxsY52uECzaYWKNx\n",
       "toKYFAUAYrtR0hFfJQNP1YF3NWHoT1VeNCP3ovP0kS1gZYhqt2LovBCM7fZE8QqeJGfQbJl/+4os\n",
       "qXmp3kY1jLhIkviOTiAtOgjry0tYN2OMWGRA01c3s8nkLhRgAA+a4hWXYrMW3RKcbKTPUD7w18ao\n",
       "I87H6myTD5ADbbNv3yKkX+vRHdJCnQE3XRK3AAAALQGfT2pD/wAhrRpHbjavvyHzvFUpi2dyfX/F\n",
       "el3Q3NdM7CHtccnS1q8zRIKYsAAAFeZBm1FJ4QpSZTAgp//+1oywOAKrBg05kA9QBf9u5VFXUtvg\n",
       "z1NtH3/eVj2LPq3OAR2tUxFXlF+v2+cpbAu1xuUwBbgrML05lZtIVEfDOsEc1g793k38N0yZqCP/\n",
       "+/TgtL9VHiwoLABA8urz/0xGJVXOcTYQYCEeu3hOAgfbV2JTscK2/J4yQClxwNZaDePLgHI5/bqu\n",
       "5srZ4SZqGoMAuDwUIxFdkrLavce+sE0IUUVnt//lKzinmVUpDC+m4M9jH8d65lyxV3av+h969pSs\n",
       "4Mmo9WwSKXyytu7ic7ZZey7P1oUMTw0MjxZOflomVUegvoGyVWTjXCP3tZtlg8PTfXshuvHnYAW7\n",
       "Tj7dSki2QVR1EuBoQhV5Ad9BgKE7ZfJp/fqmxQFTkArL61h+gjyMJy8VZOCYFRDv+rywMzM30gHr\n",
       "U6PPQqCHhEkVQPq5XyVjMrBdN0rIrkGcoUciZscZ6/3SloIbbW17xflvIXw0qOdJb9MVj1XOJpIO\n",
       "J7gwoS02YbFPVSvO6u79OUyrDClkFxR7NxTEmEbYUTSsUiT68iz4ymtHpoiDZHbXKF3AunSzdTcc\n",
       "GVrnEuFv8wsVeVk5VQl3etzZ+tL9x5B1LJzBNcVe/SXZiw4Z85X5cx15zfCKVJnS5ivG9JHQJHIB\n",
       "SoSCGLB9LFEWKDkI4IjE3Fy04FGgopdPACv3HmhcWNySHY4/OgHWWQYD4vTJ12CoJm7YeLdMHF6w\n",
       "VKVRGXO+DZ3MdWMIuGP14zX7Hj9D2S3TFjkCdMxP+q8kK53QZRfF1PA7mrF6VR7vtMLVtCyYaNb4\n",
       "ydEq6Pisne/A/U8qlmhk6TM+lbyAp9+a9vd9+aQOwZ47+zIOZb6FIkwq2wbaaVyL+w+SbAg7lcsg\n",
       "/Lkv7SAI8DnXIxiHmwSxbM7pCylXMMbFQ7yGpdS3SxuU7mUJiNu641dwKxn17EZETIKJ4LMveq2K\n",
       "6Je0wYwNTURv/GvhH+Djda0RWzkgMjGhghc/EUj5lBuOow0xPdUONFoVsnvZ1oOAMLgJJ6XSohTc\n",
       "eqaCkQ2k8pAp6RRHeI/CiATkuz3UPSy80VOCUsrvIXaA0HwUqcyd5v7gHPq4yxA6boyi0Iy1bhZa\n",
       "yuCVTji+HlwLUa3O13tNNqGGQ/HLmtWKpNYl8X/++ym7ppevmCu37RMoOwiITpbsdZwpowesDih6\n",
       "yqiTbIAxIs7oKZYqX+bnMGslFAbXbc3gihv16CkeWekUV4UdZIqb3BJmfqYr70l60qvRQ8veTbLc\n",
       "Zx2vpTBcQ09Bag97zoAZvwLNic14kqAyqM9fg5wOxCNdFroEhbTaaLgtekJwcDYcV7CHVVpBIPZX\n",
       "d9jWYAhAsSEUdg478BE1BPA43owI3QfGBuzwkOQ/3cThRimq5JTj+F8DvrlDpNHmox1G/431plZK\n",
       "4Su2EwhZUYuY3SYv9B6Vzil8R/rdUqHxTpI1sbrEEJrJAYLPDNjloFkNo8+KEeoG/SZXRnA/H8d1\n",
       "gDkPfSvBCkfcpQX1yV7MZA6nZ+GoVUsNsQIwcw7/ZWbjlA1CAlEUGReWhHirhxUkbmfFcVj4BkZd\n",
       "3c9ex91oBiNqOoaxSJDirNGzbyQVPtRvIPgDntGYXH2pKpBbAMUxfrfLVrja2foaKe9nKTHdVXmh\n",
       "c29Q8gI/4D1rcmQgwqNh04nDWkCLjkHGMeA3eNm0t3h370ATsNUsaW+ZT3GXh3vOtBluq+tnli2O\n",
       "T5GI4bCFth3JnoCPVHt6/1Mz2h+6QYyj2cM2OeaHa3Y9rK+6I7ysjWY3RvxjluJr6ArrIqHcS51T\n",
       "ARGebmr4MEB468rYUrkm0ndXu8Gp9T5BJdG7aa97IuWzqe81UiNwilK3wxld3N5KN2RLx1bg3EhQ\n",
       "KRw40/gK2l65xjszURT7XoQNwcmF6EQFNhVNl0/BNQ70ZWPmyEcVqV/GVB+MUSbWH5oRYTNY2ELb\n",
       "2KPmnoPaZ4KyoRdsjHfFRQAovlGHc3svRlh+rEj0nTd4K9SVUTJHAtIwyylHQsW06hY70+umbzWX\n",
       "ccLr2RJdC3lzbOguHT9tsyTixtG2U0be+H1zwRcR8LMWfpcxQG/h4btIBb3GZzAd/kRr2JnWTaWm\n",
       "DDA5UBl/mYktSnYln61DDUqO3fF63cdAYCTKcwNFB6whht48rKvGkoOUOcPCBbrqKIX4nUc4TNL2\n",
       "JhqNgHkkDiDv5M8K7wQ0ZbKUO8p1zWfnLq3S0ycXnijdz3l5qxoBKYY4IQiMHCrHqh3QYJy6Kfpt\n",
       "YQXK5JRpdrJOUqH950BwJg0dr1OZNf/aIf+CgyRX1HyAQshdcoto5CAm/5p5/TdXq2Q+xUdyZ4g/\n",
       "k7SuXCchzqGfXGybCO3Obp3WsCErDr5SSaosrvo5iztn9WtRz+7P/Xmo4b20OlDF59cPl0MDg6vC\n",
       "mRbc7DPm6IBj32ooi235LdHlJg5IZ45QgP3PhCjd5WSPK/GfhvRh4XT6FKlxViH73MPzkXvkfVVD\n",
       "yvU9gC+Z+75MaxjKeuE3+p9wC+EDDDEsscE66DH4Cun6gor56NJvFWAEAki8lKNJ4Rm0avNQPqjn\n",
       "tU3AyzuhYS2iMRQzKkUh0quspzuPmdj9oDVZVD2D3re/a59tQUYgJGLxl3xCkws0DIxPQV5k75TT\n",
       "h4kJIZNPEctYGRHKsuf/DgXKxjPt8KGVatlzEKqZkjGZ3vnoRUfbqCeiorx/r1VK8seUgl/sTZcY\n",
       "aodA84oGJ44RqQPNMoqMAfacE/N4Z8if1FPN3Xf90mvIeWDgmrS6E+a3kczomeWa2aCsnpbkaG1N\n",
       "I6ZbhY+dD74bF0ZJKWg7gtqWiBBrwB9aORinzYP2WLk8On2tdNHfzsnd9MXPpspCuJj5+wRx7om+\n",
       "NWFrx0lKDycphuJe1xXQ2geBjNEHs9g/x++dsdR1xKZG5z5LAxTTt8uMNtRUZqgL2ffVqdWgtngO\n",
       "RTViKwtTqPcfMlCL1WumW+PtXaOebGPM0rdFd/mhTTIn+tzSWhxpkY3ZfeQpFpYfTb0B5EAdOP4N\n",
       "HX74mgWrWcWFMPQSQ/ksd5ovLQJ9/htah78ABKOa89/5JcTASqAcdWZMYtncsL4ETyE36igapH/x\n",
       "ATkqGfDjvUHaJP0gtds3MuT+CtJe7hRYOcfs6+Bfsr0nOPmTzgeqeVYH686nGcN5ljcB0L6tn6mF\n",
       "HohPBH3EqsN6MQQVSr9pA6SupCu5GqgZsUQg/0Ubq8eX2IysJLqqKe5qLzTV9fUm7TsZ9JH19K/a\n",
       "3bvovVkJoByW5YGwnU1Re3up70j9qym4lQSd9yJE28LWwmTCRFV2QEa3Pdo56M7h9c2Rsc0tnpYI\n",
       "+XUIiZxi0j6pIH1ElRjtws/SZjjh/PgEaCIU7/dYeKVKCgwSPxv/DEeOL1+zosAqFykcG7nnRZ64\n",
       "VgeDUqgrD/svyGFYQWgnQy9PFDUZ3rdeXSzmKu/37TxVMeqdITnJaonPucs7LbxkcMFtTufhjNbj\n",
       "q3KEm7PgGsW3OmlHbTUa68l8GgGdRkLNHnvs5znoCl/yp2B+a2YNo6CT4iYRkzp/bVe9iVZxodyc\n",
       "yeb/Qnsoq5IiPt26upm8juSD6guhvNQ6O6M8zJZfuLFZ5DnxHe7oIW+9UCs2PgyZzvX/eQ+B0HN4\n",
       "Ck7V7ndtNhTXiJCzE7qBGegpMMSGTN9Y5rKLgUAVkaFTnBsiGtGcZ+5fk0y4WeGSd4s/YAmOM12A\n",
       "mdwCmJgu5oZgA9rnLVx7ZPzsrCnbNRfjQlH8Bmd7NlZj83OH2zC3oDYnzWROkWiCV7BX8C4ANesM\n",
       "tuPVkYHSgpEHsHvpIGAGJ26io0r3qx6C4Dq1Sh2a/qv4QqURGOQ8jZ0VhzMoGzKp/oqE1HAojeUG\n",
       "bnCJRzznBScImPX/OD7g45pa3+AZzhXaoncAAZfH8klu8Nwb2j2k0IkJRwD48WE+E4BC+nGEp+n2\n",
       "O145KsG3b8sLqWjsFTBmOc2IZCw5JGboQpb4lb6riQNBpJ4jKAjtYlCW06jeRnT2CgbmzBejZ9UW\n",
       "yxb5tNOKWoHo202YusEiNAIJ0IHb8Y7ZMi/+abqH8dJqoQUNyFF8WPW/0QlRuLYp1cYiswWC29RL\n",
       "PQWn8kM68rhxKXYzWz+0lPx3EN+xLg6vz4LdrC/+ldJg2TpuCT3q0e32IYx49FupZtahv0M7IhVL\n",
       "g8gYaa8an2+PpB6Nbdp2WdSDISIVYbRwAMp91yQxoeH2/kIXCPfb3d15n3JekpKAfnOM+goEt621\n",
       "AsW1YmkTQTXlZm72NzmjJkN4nCoBj8+3q/fiZGdiHt4LBo0gXteWHwjsCJ6fqSnv6UitQEOxiXbA\n",
       "JPDh/1h16KmhToAKGzgkxSpnKon0kDmVbIkWIIdZZncc5vMQkbsjdLystFLxqIjmV5vJ+LuPgqa5\n",
       "dus+eZIpg5bg65aye2YnPeJIVmL69dPac4BiEwuwH4p3Qa7JIK/IZjcXiqaMC48XUyoOFm8HCtex\n",
       "7EXyIQqdszvmTyw4OYU7yHQQnxbPBbdipHmrv3sx5edjIHbat1unJScKWqjkXA7qq+ZLYobuax56\n",
       "VMkvnm7DXTqa5zRX+XK45uLr9afTeenpBF0wddklQOPAkvEodinVa+63lc4le9Jju3cOld4CmsjD\n",
       "4EgllXNx6m5Bo2O8QxHIrTkNdIIDnZPb0d82SCspKV10FWXv/bfr77G+64CyzFaFBdZMSG+IoCJP\n",
       "008JpLSZdB0f5ZT8YkCTugDaW6IbBW8nvtvRcllC+ipN22v0CSt5v/sExe2qLnE7mQdQ741t97CV\n",
       "6TNqFF9jxlfKJH9b4JkOW0P+McGtOy40fxRn9DPtk/cAx2tF0j3ldiL2gpNyt8sX3f4hgDEr75yh\n",
       "3/hF1hpmc6RWHMNUjS4i/kOIJ3vpgaEeydB2ew23Xl9pet2BoV39mMMBHJN2TLujWsUHvEUxRr0r\n",
       "BxUohFb+WbVSjaKnN0O6GiKERD0F5Civ+H6t8Ja9d9khgUU5z0QfSOBN44KFkvy82FOkbOYG7bpj\n",
       "GNJ00ylrgHnz62RRsnZMeML7NAiupdv7CAjnHRp8rl5JESNsqVakvBcI74L/CMNxikgVwUgEdqOp\n",
       "3EkDf7nBjG+cMjxB3Gj2dbkLntmzYysWIOOtSvi9+GV+rd11U5qPUbwiAuh3GzdMl86mc1tW/VmT\n",
       "9BBkvZWbw8EsIFXA/KWFn4EYEbvIz4KivNcG5ekXUKBf2V8nFBhqLNQluVJrD4vtAyhTydC7cDi3\n",
       "KZwwpYrr3QlZHJ5kMXc2Wqc9LoH0eFTETQiBIpvb7hKmAbFjjMxgukmXqIYyZvtWgIpdjY40YS/r\n",
       "/SjaodlInbYzPceYjb/jWEVeLDtrB8BbA8WI7QRbgZ4hOcR2v1/OJUvHJCwcVAm24seclm4vv8c3\n",
       "a0BOMbmnPVO69HRRHsgIFNAHdjWE68s8LaUF/gcZwF0dCh1xloUJO/+ua80aqd+dL5C9pYDswAsb\n",
       "hi9Io//OfqctCZNpJmJ4BQsDVXTo16uEKqzQhhH/tDKODGBwCqQ8d3c5D7zjqBoclvRx0mW7qY+H\n",
       "+iYAuRxTLnl2DooGGGoZU/uyp8n4CVXsGoFS/KyCi9j2NXqsY4kwipX5HMD7JfxUwSlURSlmUcDD\n",
       "N78iwfLDJZNladVwoAAkPmLDtSy7lbMSo82fispdPVC3OwldI80h3mc/7a5ZAJ3SVLhX62J7Ju/a\n",
       "NEEmPmLM5UeBNWeDUV9+0jjwEmc8EeTMMse/qteRABJ1xei3AvQ6A4rAzCPDk5ild2g2P5XC1/kA\n",
       "7MEDcAsh8hQ6vHRn0yVWvjfJEin4VDce6rKa4KCAwrolCAr6sgsZaeFPdI1M803f7JAwI2mc0+kl\n",
       "t3glhpVBS7APrfQxc/zddbpQq+FZogmx+mzb09lg8tP/9UdkCjW1KbIsUgkI3ehYaIWJo+QLCURt\n",
       "KfIR2FDc7+G9prt7HOfGtfPPFzHLkLkJsUhtKp9KVdqFNfWTArlNmohtSxxLdiM+YAR8wS0GKnIx\n",
       "kpVMuSnRz/HE9pvvglWqzasadJEJ5idH4mWQmb2CKfR2ddlwQSTOiTWSKo8TZySM385JVIKmMxDV\n",
       "iFMboL3wUMfeCPvqWA28JtPiYbwCIK0/1gfn7rQDaDnO3mnHGewSuV2w/ZuXUnHOZV994EZBwEMF\n",
       "16LMbMxIqANmRXjGy3tlejJKTLioIr9yh5Hjxx4MM0Y2I/6NJh3dxU85Xa19ZT1SH9cPy0vb8+1g\n",
       "c8SrM9bvvn5Hn6gr3KxGlVRn4wvGoJmMnIIPy6Fv8lcPB3xI1pSnJJ4qYFUQMbdr+2kmegN7uIJ+\n",
       "o4CGRFKQq5eFbbHMsR/JghA6Lfc/jO+eOy9/sycfoXdewU45EDfdSsGhcrg/YDh3BTci9gwmSKLO\n",
       "SDXA38YpNH+ZHt/06d54XexQYR1kCV1UFWcyT/+Mg/4fqgrFssoBeyZv9FsaXY7eKA/Tmro9ADPh\n",
       "JtcLX41WHNb/q1j3MwnSi1hBoPEnRx4gPzZahtBzvnqY9lT7ZykxF2eENc0jqkBVxOFp/8uFrUS7\n",
       "gtO7hmqFl+54iKrnsG5YXVlj39fzF0ZI0R+BG4k+w9DwHFkUxclYkx7jq4m/URNp3j8d+5FwLuKs\n",
       "Xur2AudTves/f9QGVESS+je4QlnSigd2gOKkUbqLO0eBs9xbr1XqD+oMapYTHFwJ//ZLKtFKppvi\n",
       "ipEHPMvu2ycyiBHpnUJnYpL7ymEdSpNCziXE0xvIkh7f2ttV8XMeCUpOdXtkA3UiMSWwg3Io98Q0\n",
       "i7rBrsTLaeMv/uDmGpCfrp761lZq78/V4gCP2Ow9phQYQB4d6Z3n4St45jcajS3c/K5fsjSFm59v\n",
       "dSNeNyM2JromfnCl3eb7d0UzFL0MUb8P0dd+2SseBuNJ+9YYa41tMoHuVpWWjSF2GPI/uzzDK/4O\n",
       "J8eECxwzf8Mpkw5b8Ci56ueQ65+OK6msOL8Zwo5QOi4sQt0zL5p6xepqHkKa7wturmINmvx4v6Qi\n",
       "HRv/xEjhtw0NkntvBMtVUwUMPrDReXVG9xArImFkEiX268aouhxRp6leZFqosbuHX/VS4P9HdaSn\n",
       "9i9cNxzvsHtZ28/Si9sJ4T3HxMMFUqtkRYb7PiYqApq2Qm/ZqXy7ypS2RzusR05mFYcgpdit9w22\n",
       "P0eS8N+cDEMoBz2N0PTLwRskI8SP8weMeLKolIUzOxTXY2V8DfxjDJzkGYFJLLXMeSqM+nX9pGCz\n",
       "Vcb9f9SswRYornYBIqGJwPAU934NpMfiW4RmFmGiZFgtRYHCn45eNbimMqLaplQTHgVoMt8FgvBs\n",
       "wOLTEb3r/xc7rDG3v5584OLCK68901aqkut79xizORJ1xr5uLsnADMcFPs2PKIX4kj3SYTIMMBqr\n",
       "NSAcKVn05vmsfrIRLPGDi8jVsSf1PriSlIiuq/hDQ0r/nwTNnNVW5fUOoYXyP7Y4di4ZcOCDu4dp\n",
       "coWSLgwFuGOeSPcYGllWRf8CkQL2T0taHvVxWpdrU74UvyU7IO+DwZ2r2AAAAqpBm3VJ4Q6JlMCC\n",
       "f/61KoAWyANYAnzvdHAv+Q6lf/g5h8KSf2fdIAcC013kEeNE+9L9kk45xD5fB14WwXG7cLePGF6R\n",
       "YT4y+kiotYFQzbJEP4wuQa/Qg/y65+66a9C3IPO/8wmECl2sIcctJPuxgW2Tf1LoKaBD38IAjddp\n",
       "xWskMYHVfqkrTjF+AoJPR0SXXO7tR+ysFTYmEYz/SirEhv0weadoPv9ytC2cP6hnfGCQPlI8wccG\n",
       "dvenG8p0Nj5qNk46VsVYVjpIRuFWrAz3cJb9Yuj2689T+SszHFJV7djHxj93PRszgetsI6pbzXsq\n",
       "XRfOQWcskOnzCUSeOxtojkNd/hmle3VpLqUUTWtMMCiKvo/NpvYFnDBhdPlLfk5XKB5GRYXKXLH7\n",
       "r61hOQ5XybPY5vIlFtl7g0aFzzYMh6w8SvllcbIVccpga7oQIxIdLvYyG8u8f3ETxyYxrbVZwmNf\n",
       "+46dalTByhDIH+V8fX0r+GMFZXnf4OUq6fYjoC80MG5mARcI1BbiOHUyj0em7zwVgL1Ztyqzi9Jc\n",
       "rVRU7y1UEKXlIbkRLyfhSFJP/f3vEsDmP6H/fQAlxkkJjjKlwNsUNh4pIuErf1BtXLkWafgrGaAu\n",
       "fD7/l38el/3Sc1u3Lf4KOjvYA0aLRVdRhPQUy6jktyD3CFbWrnujicAb8HMPw4XuY3PXsEODll1g\n",
       "bNgVfruwI8et0WxJ9oNLzfl8E1rRHH2VbSLVy6rekRRYEQgcqGUZTtOMRULBc2X5gfdbA1V+MzeK\n",
       "wRUJl7QYgzQHkCA//BAZAGOtGfTHC7PIvEalkgCxel4CJ+5prTEcdGgCA1gwkw1KLQ5N1wzEy2aJ\n",
       "RWuTA4XFvH5O7BbGANags2QdecO42PQI4SoX67IvTkAzxAZRIbewtshdpTk3AAAAL0Gfk0URPBD/\n",
       "AA19EL7j2oLhzHrMaKMIDq+6Qd6jYDxs6MdSJhKGf+bzRMkuHri9AAAAJgGfsnRD/wA8euUrBPF8\n",
       "Buka9Wo3LshWDqT80I+VBOpUlWNsQOmAAAAAFgGftGpD/wAa/M5fniu8nxyuknYRUOEAAALtQZu5\n",
       "SahBaJlMCCf//rUqgAyvTa5oA2RNLCA0+I2Y/VCK2FzEafh8JkoHGKmcG1HdXYmSK2tYpholzTQO\n",
       "sfJmBCwUNBY4oaht87UWiEqAcjz6iSCi5Gnw3bPBr0Zfbk0PYzff4RhOnGX1Qt5Yqep63+5GP2lc\n",
       "3L6yDDi91almw2HO/JgW8G7IdjWlc+s11wFNNIB2KE3fPbod5jIfdPPlqZpxo5mzlJkzTqoB3Zxf\n",
       "980WOOHqmq5RkV6sW9MnUXRo241iuMMCqYyjquA/IoGUQ0zKAVzo8H4vcQgN8cqvFLBCJFbucYrJ\n",
       "G5aH8eakr/+PV095s35sNsn7WNOpqg/qnsHi4xzwOuhE/fnWWZnSuRAx0w9dHgUDwcmMCosWXwss\n",
       "4GzD8pjpVKdkao7Q+ls5XuCZk8IxZ08woE5SVACp7Q2UXzrBCxTbAgkpWSK3Oz1CqQYUuxKJojZF\n",
       "i3zs5Q4vmgMCWK/zSlDyAuttjIecg6b3UZlMtpyJv6Gmi7W2i+qB+XWgqjRtr/BrVjB/DQ2zvkDl\n",
       "kbWWOMxgrutqRn8YDUX1xU8LN62jTX+ALFlHsQg4oafBn4nVtMvKtS3bmQvVf8rmqwRDdF3vzvu4\n",
       "Auj2SIWMWrW5o69/DyhbQuYErcfH4YKcwTcyJAdYjXO+TMBSFVYzELVR6XEyyxEfv0ptdiD/qc/H\n",
       "7Dn15j4rgW6r0pfRUcouAm/VLgK0VI0O/Zcm/YTDIUWAecMskuUM2Durcnm6limOSGl0wu3f3tL0\n",
       "HqiFEpKdOkuT5tM9XWBeIw1d/Vs3k8NhOiTOBsWndZpeuBrRMCLrqvPRROtE7d8Ty9nHWLcT+lxu\n",
       "XG1h7AnFq3JeQ0LtJVk8p6T47Q1G+PHzPmVTeqPTgVFY1cnQuIgpj5h5VZAUIGsQhE5mjnGIbgez\n",
       "8Zuz+U0GEqwRjcsgEdBr5nhrjbn5AxD6bgVoMlrAgCw1IYjPLmeE5HX474BlyyL8vdzZ9981Clxx\n",
       "bs2RrLQAAAAvQZ/XRREsEP8AD4T3CjOlj8dBorQ2TssOCXsJmRtCnxvJpWP+WlOn24hCHGEh/6UA\n",
       "AAAYAZ/2dEP/ACKrkmQUhNrDnZqcOoFkW8nBAAAAKgGf+GpD/wAfDsZFKLXt7FZ62e6tbsZYAA2M\n",
       "50/zlE2W29TplkLvedDUgAAABMFBm/1JqEFsmUwIJ//+tSqACplR8AF6/1Bfj1fDBiZXSFWPW6Ts\n",
       "Tiw9m1CIpJXwmPxRez0Zmcr+MEnCP8xuc97b27ouuZfLiPUsgCo4f4AWz7PgHCdtoHHf3tWAy4in\n",
       "G76SvzLyAiLwxsc29IpIIpP4WJCEJyg+pRUb9o5lW85ctv8XLH4ax7BApvmdCHO4OdhE5fpqSOtP\n",
       "P96psCGxVADkTE/odWAkhrnFBG7cfEuTuhQRFaoqjm+Gy9Twrb9xyyTWgAI3Uzce4b9zYBy8B/WL\n",
       "lq3nk0eGZuQFT9LiRZ1LMC+FhHoUn8YbFvWWsLAG36XND4kqoagCwb2HWXO4Fy7KYoWqMjLZJpYV\n",
       "MGlT6BvP4aNJhIf8TN1HMMab7p5RzYceQ6xxjY3m14wsb7kiiDSWCy1ZiZqEMqChbgu714//9c8t\n",
       "4NE1UxV0FFSJwcwSTKoOL8JFuAHdjTNOMUFSqG7/RjaNZbcOzrHa8bvOJs0ykYaLg+jUNLTf/9IF\n",
       "oFML51iM3XQ1KP5VpzdHpkCbgRlv3an6xa0LwWImMz+ZrO8bFP7FyA2ZbnjtFTP/O1RJNcGMhKaU\n",
       "J9xcwWfvlam+gtvdHQSyPFoiLVKLndf6Q9iR5KkUgEpNsqqs14YJRfYEmVITaTALA47zNyf62vLU\n",
       "utCdCrMLrTQA3JXTnQb3P+r1AApBqNFLtfTCiHHjqKFWdkQUc0AfsYozYP7XoiMg6KuR7tJnliY3\n",
       "ibxInXiAwYMMNvyjkr8zP7tB2ICOWI5itHdkeXBnsLUx39CnqUvlMDlIyYLaZVbErfYFig4ei5xH\n",
       "elpQDe6J6yLnRQIxbXtbcVYFX03z3clRo0ykU2ascow0yztBOVTxG8PmQzh7FY363zd9921Fy17Q\n",
       "zvqvuZw8nEO9gSImpU6o3Dc6YJgoDBAiNuV1d7A0UNsd1jR06ljVVyqYfbF9esgWnRbWAL1S/KJ+\n",
       "iu6RPiEAsTHUTFMik/G5qHWIvVmympkNRwfRrgVPZW6u2npg1EygOYibpwi6xJV4lsTv/DF3AaZh\n",
       "M+mEpZZqPttRt62OUuPsfg6sYaLvdZf6vdaYmfNzMnS28+vbvsmzNtWWszB4ZvAcfb0cSz07rVTW\n",
       "zgLkvyKDu3EqFWxw3KsXp4+DU+xa1JhlVRfRcnTZn2iiojI9swN69jRXgYgMWxPw9Gj89LWVKyvb\n",
       "rvhiL2F/f+QcpREPlfG4kcXpb2kmv5DMEEgLY6D4Dstv7eP5DJUZG9/LwAJ3oMXACoMjPQV6x2Mk\n",
       "G/7UA5tEUKWY8iequI8yS5nKmr+RaWyPKUiY4iP54eu9iKGhj/1u30843mnqGEbLqkIlvgEjhRMp\n",
       "l6HibSDGt49qasNAdJkTZ0iiy1Pq/IBQasx1lLEC401hnjVp+828EtVmnzLNYWFK373zBv+flKrw\n",
       "CKcmWY5jkkgL4Ji3aiuPObqNAT4CtNJw9gLsWmSUgBHeJsV8NI4fVP0lnMZ15IjNwWeegSh0Rjgi\n",
       "T5JLCxPcXsYWj3aB2H/2T5rZgjfF8ELFefjRbwHn6FLo2uxRzIRbtv1IcfB9JCLxDgZ0utPfFPVU\n",
       "YxkZQy+g0lw8uHrvzzVduVFljsaMSrt8xXdmmnP2amzPNvjkv/5ipwAAAHFBnhtFFSwQ/wALWWmm\n",
       "a+b29MXWE7adYEM4CdZpvlMyCXQkjY9Ku1nwYtLV4wAEYhesRO9f//4wfj0dLix6ahxoXZMbSygy\n",
       "4UPmJaiSHVQl7eGaAiVsN3OcsUIZQ64Rgd3aQts5vJNcaJmIjnhDwxnHnAAAACEBnjp0Q/8AA5/5\n",
       "mr/2FX+nxTnQt6Vkyj+299oli0iQeOEAAAApAZ48akP/AAB5ex+7RT2NwAn01Dn6uvItH4Rds0dY\n",
       "ETNi7cZP3Ah0XikAAARwQZohSahBbJlMCCX//rUqgAaqDhiQASJ2UF+RvpNnpsg4xnihXHtqOoKq\n",
       "07n/4hJukn430XGaMrOqbj3Av5AtaKkFA19bQhj83yjzf/PE/FcTqJ5U5Ks9+ngm+igEKNzNtQFJ\n",
       "DesV6h8VG/+IIJMdBwEQB9qJbTXQ/4X5Tk579HEp8AxT4QV0kCp+dpfg0gPQZwHRLwJW/PvAqWZJ\n",
       "sOBq6d7nHt1d+7+B0J8u0xCMJxy56XeivkCkaL+0vD+NBatF6GYK04lUA557XSnPbpqP5JdDQ1ks\n",
       "asmyAInV5vyY3f4i0YMPfMqQKcy1Z1wB2jiu4tFMkhRM2Z2A5kHwFnrBxQn7kUqaFGC8rirWflSU\n",
       "YFy4pawwef01exrBooRvS71BP3BMbsPG8r+9a25Men9YoTQ8WhWzld6c9Un030Tlwg4NvwfOfLrn\n",
       "deZ7ob6y5rqNBc/rbl6aYVOjuuZ3Wwgmiuu5L7O6W/+ubNiQOhnr/cAnuJ52c8PCHtMeshNOKI1i\n",
       "J8asG0OiJ9t3mpUqrTrxub75HNnZpRmIn+15AAnCW99hfntkfOrTmO8TyCyb04gC3kK2MWbBOXiG\n",
       "fYMPbO4R1O9ChMrFqnyrsZyH87VYXmKcg4DCKKDsqzZmKPEe6oDjNTPuJeDmRKACyUTEdjpPioXh\n",
       "co2n+ZvGutA2H54hVyDae+tQONGUnN9MBj6TE9JjiSN+by4W7CMd1mG80eomcu/nATL+aAuQhEYG\n",
       "317Uv8RP2JpAYfb4fDqIBnJgzGDZejBLVm+mUv9fMS5y/TZfkSeuz5T6W2RPTAbfDzZ9VsHgTzRi\n",
       "ATQWyCB9eptl2En6emVbt5yV/XSZcltea+dXmWzpW1hQ2pbA+r4/UXhE5TsK5Ftace8RcoQP3P2c\n",
       "/mUYpQNmWjZ1Rn+/SwIUPcOLYIZJxBYd9uzgPhqhD9AEDPYcR6lpxzqIB5/aU/Hvu21xY4yHQU3p\n",
       "bkPaPJyWlWY0jZA0G49OtWHm0v+496PnEqH04XG2cafLptq6PPh9egAFFs86u9YPbe/K29vJ8UHH\n",
       "W+D4rOyoAuIADRmmp4y5sFVJlGabxN+xy+uSeUWD9WavKe7UEPJFmlSjCja5tyaMBSyewhwjZMjg\n",
       "NNuXDqxqq6090lErOLwsqwFNWn2yO0BI+3znU4csDiYj+maO9UKzoUG1xRymRtIjVWfV7Bgf25jf\n",
       "g6c1rKCH4F3fGybzrQyKTpoLBl2cdHqly9odP6U4DpQZF94AJiwZTdfpExEMBg86R43Pbb1xNxU8\n",
       "RTPbzCvKPjNSS5piPG4z7lV6RBUodmNI6CZNwz94XguR3/mvtPpQOTSGmuf6AQaNxy8p9gET6gyo\n",
       "mXJbSCxTiD5TSAKGzTIAXquLoR42CKYipRrto2gs79dDT0aHMAvSanp2vhqNTpr1s6cfUPdyAXw0\n",
       "yoYnugcXQUKg2Ds0QJty8YVOXjF7V5tm5XPta1aH57hw1RxoK2u4MLiCeyE6IPVeV8w7FHnT/bdj\n",
       "veqrS9vXuUwJdAwAAAA1QZ5fRRUsEP8AC1lpth9xLv0rHgkFYlCekfOJzMhWkYgcZNOKDhLie1sQ\n",
       "xTOPjbsfnEbuwyYAAAAhAZ5+dEP/ABJVyTIAKpAwpf8RxFLiliUlNiXq3kadgFlBAAAAIwGeYGpD\n",
       "/wACKtGkUxb0g8GNcGQ09Q3MzCFTdcKHzhxwLld0AAAAnUGaYkmoQWyZTAgn//61KoAE4QWvaALQ\n",
       "F5neCfRfOVh1mAu6m7/GBMaLy5yzt9/Oqzg/dPyX7Vk2kpEkINGRqrfoCp1Ym/v7IPwZq4ElyOH7\n",
       "Mq6QsZrChp5DXsG1s0ZUupVASgR+sjvOMua+yO17Su2fwoyktAQ+5ELHubqI7RzMPuH+3p/VYwDb\n",
       "WM0hYJWB3w7WAXwPNHaj1yfZFVkAAAavQZqDSeEKUmUwIKf//taMsAAz24piAKkhi34jtk8Cg90f\n",
       "O4jLqalRLf50iZzhcUNvy6k0XYrFUXkTwH/gswh0PDrNHQMtjwB8Lc/R/FzNN7BOOIfJP/Eh3aEL\n",
       "+aBxRw4pvaZqwfEcPFbiozWgbnNqhXWXM2nID74+AfpNUqBDrMGosc/LikBenpTwR3GaeKquStm7\n",
       "saTtEA5+8SipxX0/THL66AF5bVCgvgQdIRmwT8iThO8hjvDlY+S2y501sTCx/Zjs8pcTdDuwj04A\n",
       "bk10VEeYC1KQSWby+lPVg0lduKB4314YhC4jVWljKPWmb13CRN+tu7BOIcE+074/OtJeeNl+SukX\n",
       "jUQQAYtLpg8s8eIx5d71uqQ9Vv955u3GMEGDPepm35eGMJrCadr5xMsE2AHvAQfv3bCVtIKuTbAb\n",
       "PfUdCltLwqkx8zWBawrg4j1JgW3edNSPy/5UiH6BN7E/r6q2pBILUCc+EEObGERFMBY6pBRFRM85\n",
       "YGu9jC4lTZ8xL6Dl1u+v3J1GOEtZJVceK52PxfSSwMo2kF7EqgBPUmwnmk0InY3dkC2ezGJeP9kY\n",
       "5B4WaNXCl0HY8YuzsQcFmIRzk/6eYu6YiXycAVgD8FSvq6bfzu2rG47x08edx2jDhjMSzpHiY02J\n",
       "J87l2PEZfCyu8cBe/7yKcL0+XApzhvXF/kKPUaPbQHmmyJQ7e2W3zWa8zZETnKtksBLDzmgbE0FN\n",
       "Tf67Fc1iWTguNZ1W1OQqmPRkoy0GW5NGLmRUF5n7o5jfjPYzjeavTuL/snLID6GA+bcJNKW5kxNA\n",
       "4ZyabUBVseTrYe1HYFLXbAkIJhoFMCIdGBu4q6Y6432ygl/3Uf+4qDjI1JvBHyMRfBo0e5izE+Qp\n",
       "VepKH62KitaTz1xJYgLGKkGGBc3I2LRwET3j+ZereB4wTRaps+4ZxEoHckR97UfCX/f5UEzvEyCT\n",
       "clI7dwJvBMJISXXQ0FaZhnqDkaWPK6nqPUgnHgLj2Wnvkl1+FxrnVyVMrbb2ib0aSvOfPE/MueQ6\n",
       "2DeEb5cPIQcaMyGCkbw7DL08cygY7p1HsnBeT10hzcLmvccQpYzG/YdO3Ga1KkIhF5KBjr13Midz\n",
       "8/EYzryVZo06oXLSB26LJQUjDwJVDbRBWKttINZFKRwu8ZsjxZtQeWcmtK4MD3y9HIoL3xgzMHkO\n",
       "GZYJlJRWMHKEfxJ8LWWOiXHKNNvSTo8Gdtu8g2IkwXxMy1t9LILt2cVm4xQw23073tAPElOTy3lL\n",
       "dE+E+HvPDudDLlJbdPRjn53ksHSQ5JqOtS7ozXjfo7IXeTkOlYcKWyNu+UC9wG5SSUQ+C79gzAAV\n",
       "VDMB7eYxUiJn1+xe6TsLafcflu8VFKo2aoB/Yf0NlBANMgAO4LWv+/WRpH5GPKYWWPeGCq8AIlXE\n",
       "CJhKX5cy/wEtQPlsSmxPO4J1nvWnMFtBzF6JZlyahvPX16is8nhji7lNA8RkXdxFidsXzENUfqqO\n",
       "jOHkuQd6YOqtwvVdq5EcN2izSMBnHsricSItMIJLTX1lUhLD15bz4iZ2ATa+hBvZ4gODx1hOmMor\n",
       "nyCByP0FgPHVt6+Vjqvc/F3s+MXGxsNMwRIRIhhXDgdAPo0Jeh5OfB34uztUIL9vTIIU6j5qF7YQ\n",
       "TRAtLN28kThdt68VBwQFeiUGhKvPMuWXMgs0vDpqyGxsqeWO9IiA5vpHINVHgo43m+A7uHYW7zH/\n",
       "0wtuoMJSPsUzP1Y+ccXf974dDd8qUhsP69vY39kp2XiuI+Xh6utkQRsBY00oXF218fClzZwKg82p\n",
       "GEDIe/7x0NnOkKbg8pDT0RuCcEpAZvBCt2RtNII26Qw2xFy0mySORYQiMSoQxkW3vjhS+n0nHVi7\n",
       "sf4lT7ImS7OFSJah5Jzzl9nV+uGg9r9tsmZ8MonXKBM6ySWbAKdgAdne2wACyXH5cbmK0ntYzXyV\n",
       "Ppwo6D3kU4Nvwqm5/CFf4VAEeoKzT6fDECl/ofKONErbBF2HLSUJ9qDCzWup/84DcK7HRfZxN8dA\n",
       "NK5wzN2UUzpK3dn4qV/Nmj/TvF+zXr7vbHO0lN3LGpeQW/+piJFYsWBZnkL4et2AWwPdyL+leSap\n",
       "d3VpurEfI5v/311AjYa58h/zJtlEkJ+SlH8oeigcg7qR/bksqLYdiu4Ofg+h2aN565xp+3STVDSx\n",
       "jFi7s5S7cpmrsmL6k3kv41t2Bwf5ckLAOFZ6RECtHysmgxwdCDmGe6CuDtO5vgirJvb0q59SjJZ5\n",
       "GnfpFVz5eA0j40kJxMGqggXzKGTq7dKVwAAAAxpBmqdJ4Q6JlMCCf/61KoAbRaPs3oppsctEAgDY\n",
       "EQeW3IrGWmw3ljldTmzcQUPSljf3FiIRtmTzzUA/IHBqXJ0zMNU7qZV5WgrmX2ZfupxWuZHC+5ry\n",
       "A5pb8uk+Z+aTYjn75lBfNb935d8CvCbraTu3kIxWpXBKOtbrOJ2kLEQeMIB/hgIxfDr3hXOvXalz\n",
       "+j4wxtcyeKD/9LRB06cTSF/OD03gZ9Y1oMvZINo0A99lZbGx0lTqvXFJOy98sVmKAZLDBDT1d1XJ\n",
       "GTarjw9TvVxYXqPM27dQ+widaG0LhOxmGy9vt+bSIZzUMNjO7FR+LBJ/7bhha3lXdMLWq1EUP5Fy\n",
       "0VAYMvFTH4LEqElfP/bIpdPP0E1xSPJf0totV9NDJT+1Ch2M9dWSrmsZIrp7JOOLDiEnTYIKKhPy\n",
       "fVEB+TiXYTT9sxYf2EVe2aV/q9maOpMTJScWv/XbSOz3KTQlxLQxD8RBubOOF2tauOOU+MY/tcnq\n",
       "hcSVby1Mb7iSFarQp24zTh3dW4EV1I/9GWRKdGg7Mccalf5TLvf6W5m+/ALsVXaauSlk7d48ikL2\n",
       "8E890tFxKDdZp+5lD1HgpzLL9p8ZWnYR+TC+ezSmmpPY0RtlDYhFZM8NzTPAtLRGQ4OSqt0Xnq/q\n",
       "TGINnx6+QD0YZEdZyfGeSe/xhXPTIPfOODizByabGujd5xpM7h6I21quZ/oyinjaIBoiQejePM5J\n",
       "99KMoiC/F6oPEV4MxqQ+uvpVZtYF/3hiD/zzj+YJpeHBY793OmNnldEKTDSu4mKYlaMQPM3dFDXF\n",
       "nIPTyTP9AiXgLrQoYhL7MzOHKPCP6rcPczGZuTLPONhLf/RXuOOkrSRnnHu6btiwW2uRH9XFisHk\n",
       "f2Ns3U2a9dkzi8rcaftqtiNRj39lrowT2HImBT/aeddQDoVbXZAeIzdKTERBIcuecOR2ULXF5tUu\n",
       "DpnKjL6u5oCYyBhSR5v9n/3VcZV6BQ2YZC4/GGf1qZaOGWz5B7nQ6P9e/QWDqAIomjbzYIi5SP5N\n",
       "c1KI5Ufes6+nCMt1+VFlw7+x4dLXpg4jMQAAAEBBnsVFETwQ/wAe6/rGshBVS1oQeYAaxbT+upG5\n",
       "nwOdapUrB/9FjIXPerelsQCVMyC7WuBXquEE1C7L9GbOnGEdAAAAKQGe5HRD/wAfv8zUynvvFk/B\n",
       "IN4PshTSmBdl9W5C9TXmqlB03F2TJOdpAAAAIwGe5mpD/wBE2jSKYuBITvzPBiViK4J4O/V0LDJQ\n",
       "C8B5VNbBAAAJYkGa60moQWiZTAgn//61KoBSZHDjr5Wc5AAdJEXw1LaNJ4/uHHBAoaP0zNtzXln3\n",
       "saH0Oqzkh+eo8LGJ50e7Fl9V8AF9Ka7Aq0KOJriZhFRur1CyaStqQpdE9WyLtGCs+SedZcWWJELy\n",
       "zYD2FL2SIvRWXBM9pJ5msQJtjGx+P+ooVuO2nuTd7itp6eyZyjQImoHBfMsSAxfAIkOL+SOPXo24\n",
       "ViswL+hPyt9lahlgy7E5Y/cDtYmSQ80iQ7rzfLedaXHkKqlQAMMpbk99qQdWur29351qHtOlsqyX\n",
       "4fXFKtjFT5le3kxEscxuop0OBI8QrVo8NEcBflkM0dtDQ4p3V2A5DkBwMbHD81/WRD8yVQV+eIT7\n",
       "WaSvbNCUxeD3mIhPWtnH1fICS9K+8boqSYRw+llodlAf2kG/MKqR3BMfeR8neWOfY6ZrtEHmkzAl\n",
       "b6xCC2KBmnkaF72Qvdr8dRC76fNMqcU6UyXaxUednfcTpK/jsH1h0/kAqlWFSffpW4cZYwgaoYcU\n",
       "jpnJ+v8Wxa0cl8YjiWmk+oGDNtUjzD6D5akuOuTWMFTiVX55M1Bf92geRETdzIyOz7w/rlNaB4ar\n",
       "tPAsAuBxQZUFIeKE2X4HlC6XmmdNFpjxr6kd7lgTjqFieHUEWkPH6by21eZhD841we0M5fMVG1fp\n",
       "aHzFuL3+PPpxpr+QLts+cu78AgrclorSsJn8CdMIJJ96//ef7fjrGfM8b94QPpnX+x2gl7ix6ONO\n",
       "jBZJDgRggTDAW3K/5AVj8yxMaorxAlrsFbFnQvE9gV8n+HM4AslTxUskgZ2b0GGUgsycY7rNJLYV\n",
       "S35yLybLVzrgSLqXpnEGh5g87slPtGOac8Ha94qaSR1tKCui4aJAuIcIXERzOb7CxnE9nGQDc/xI\n",
       "emXKvOdzorWwEfA/w1TVW4HXu7gTrFlzR4/inaSXa/ObeEC6FhO2eRZdeyTywRU6LP78ofwKjH7Q\n",
       "841Z2c3EcO8VNuQeXlW1h6i2t3H1oXjBj7E9GxYbAj2OD/ESu0zItj0xOlTnYyo1LpwEWtmleHNu\n",
       "+zg/DA75+TlBaYFO9MTHIj3bWRl5Cl2EYxipyxfbLVUfuxVIruUXF0dO03NxRRWfnCubaIHpO3yM\n",
       "bzYI+VQ06fIAst5abKcgGt+LYKdHTQEcheCYtMAoHPDK6UYCKNi8AI/vbHd/iyGA34Wj7Pf+nP7H\n",
       "bdCQKq02Z9OO5Vp/qVoAHLF0sWDrh4jxDqp3OTZ68FHx1Bie9XVTcAwwLHC7Te017L8PvGiqxoOt\n",
       "m9XYCb1ru9ZPgn3SRoYedfGamV3D0S/x93jNJ9Gj8ew0Htlsd2DRyFjHsJCCdn2HjIhzyBGg7Ymr\n",
       "Sl1N4ZyLzBMsuWqGS//ABonMxQPSvW095fZgNdX27XCctfa1NAKbw8pNyYtdujgwy93dqFcn7DyU\n",
       "5z/uzroUKpUBSd+XKfDUmK+VeGdGX0HWZpyZ3HdmgWA0+9wpZAdrh0hkgEbwkf/sKa/AnerftNmg\n",
       "I7zymlLV3qXmZBrrKLD6scBnyWL8HqnA5o6zHWSP9REUbcmFdfxIu/wtK+HLHyju1hfCWfMFSAdT\n",
       "YfAmpSj/JjwyKdFdtjc9jlfTE3FiwNBtUqskDpf5l8cu0I2qp4WNHKYHw1urj7mjYSewDlJH7ig1\n",
       "UFteSbyVr5rprzIrDgy5g0zWSOgHn0knJdKS/K7tVJzRUPM0OmaUMfF0E4D7nNEuGhB3YBf+af93\n",
       "ltpwQVZ54vKmGjmsmql6p70dNeou7W6DFo85WrOy4Lz/OZZH0xkfuzZbnqLkHbGlpwhRoFwht2UN\n",
       "EUCO3o2SrfbeBUWeSE33jTJLqqzu4gJjo1OAwL3aISxTB/XVe1D6pJv99mQeq7Wzda4Qmi5mIKiv\n",
       "7F77HIQmbqjfHh+ZR+HBSzarGhKNxpzy2peAinnstdmxW5FvXNlErPb6uRJ1Yw8O8Lq+OFE20GS2\n",
       "CaJWbinaKPmOSrfv3lf3EGHKKZwljYmWo8CuhFdvJ2GhC0q7lAcv4cWiyAYjdvO2Qw5Wm7zV1etT\n",
       "8cJU9vw/yexRIPT0HMBXjweaVUucdWC8hHCsH9WOzhRAaAhCmSdfWo03L1Qm6Ed4gRFLz3i7Fe1+\n",
       "U4STvuH5TskOtt+a/eKdnbCs7JPa+mbAUMm0Kig1NOjIdYT+VVxUbN9FFKUvSoupm1eZf31zz20c\n",
       "8SE2XAEslmILSFO1n1a4q7UzhzNZqcIqqhxAPfm0YrgdnQi4N2pSto5YNel1Ic8mX957vHVMRV8i\n",
       "rh01AfjBtLNvh3oUEYbyD2LHSLm84Kj3woCakHDMQxhkL6aeKBAbIMZv7dpHlnyx96hjsXRnuRRR\n",
       "addCmW8r3wDPmE1Sj+vC4Qh55Lfn8xCnrNKuvoMWxSQkOcA+N5f6kpKn0PdsdrvBV1Q/89MN1K9A\n",
       "6+sWyvel4c2qZ5JknEOyDFH+LaxMbel09OFL2ULOAzXrlWShxPezTOIZkF3cx7obnbKOGsJ4cbuz\n",
       "avnMq3uak1qGeb2mBrZDVe8Pg+XdJXu33uUhS0ZuN9awWsUViNcJUd1cxy/xvAkiNvSULqluY9ox\n",
       "uI/v3bASZy1lrNWStiwoCmAvFKEw0z8612iXk8uMmtq4zSs8aFnjaVVIuGHpudtNVBvS2xzA1QAM\n",
       "ntLSR4T41nRVduwgKnDu/yWZW1HdFcTj8ksCJfYWpJ0Lyf6GtA9eIkxwXLZKMXQ5kv1sQu2DC5yD\n",
       "ZZeax6td2pQ+ahjX2wqtauCiiOwtmwraGYv9aaVKL+Z9Hdvw5QcS7AnIoB4+8qShTLl49M7+ToG1\n",
       "XCoSGvDz2X8FSV9k+JrtUdQOyE8wAy2wKxsvgsIezQ0zZa4xnpcmirhWrWhA7tUiHWv3oI0l023V\n",
       "Hzt99n7eKqHkbMOKsfY39zs4iH3dA2ykzUXTRD2ErXdmCc+UQTZrgTRCnO0oY9+p2NBsr/yxVfCE\n",
       "r8hRuc5yMjgXwRlzeS+svfAoN1dEhiPfhNSARp9Ql92Y5y/M9iHuMqeki9Kq3l25Ulw8xEupimSS\n",
       "hefjcXh3766y1t+uuFw4cyAv+knDQwRCM6J+CmEqxxnLwzRr+6DNRMpiYyBN0msSrx5RrcwPriF/\n",
       "wSysjtvOFzLKqYG1QvFUYYbMCWNHDDS5TP6cswcRUpEe8Z8x0xSNVct+bZmtOBXOdBFuczNMyph1\n",
       "ZWJauZP1fIQvxL0D9CupjL2gAAAAQkGfCUURLBD/ADPF6xogF0JhiwgWzZSH7DXA4lP3EJ+ZfGti\n",
       "uRf7nI78xYWHef6JHUUFJJ44rgB4dsWRljHUT0Ac0AAAACgBnyh0Q/8AHw1yhJ12sprSbzp052AP\n",
       "Q0+Cyrklfx/iX5rB7POEmA6ZAAAAKwGfKmpD/wBvk59iFErgWnUdgrT/nfcCnL6oMAGrW1oCXp6B\n",
       "xSOYZkMQFxAAAAHnQZsvSahBbJlMCCf//rUqgAlDtUbgC4FNOuoIFxLDpaInNDyk7oRXNW8G44yj\n",
       "8CXNdaa5Yd0JN11bn1HfSbCE7n5QQi3vl3eV3cTe27GImjWZ/2zpCnenxVxtrUhJZFcMcMSxHCgI\n",
       "U2jD/DPq/6SyEwHYPp0DqBzucK7PnPk506L/8Ps41pdzG/Qg1S0xEUtlYnbFWGrgUSgGCLhgmnZA\n",
       "TXgE/Scz+Cg3xGGOfYBUncGCT8twlSKSkPHUANWgVDE/5gAId/bB1qcGL1hGkzjkujGpUyl0fY4M\n",
       "PZxm5g0h0wb9CYaBRHKtzZLkafwa7wYatoj6UOUT2EsNiIr3EXHUsy7T1qHvDrlHbXJOHHaCg7na\n",
       "nBw8gFRjJ25ZeMAuaT2MMPb+HU0knFizdEhNrZM1fDeRy/no0bmfheXTiuxy2uYpOo1yCvFhWNOw\n",
       "oQIrQ6x8BedpNrPGa2Nvd25hHQRIeX2AUuvQjjfNRb19VBWcTn7MksvvrVlV1723xu4GTY66It6G\n",
       "EjAe38skiS2R831X93mhPcczzoyiEscXbTKL4UcMvQj7TwMHtAH/5POC67vpxjRS8szgLIadmxEF\n",
       "IIkK0veKxvQgIYh1SU97M2fUlLLs9D0IauNxZ/7zBAfeqyJWL7BqsxnhsAAAADNBn01FFSwQ/wAu\n",
       "PbDTEAnnwtKg2wpai2ovRHOsAaVhuyDIz3ihY/5riBpgZ8Dj+l7YIYEAAAAjAZ9sdEP/ABm96wyr\n",
       "gLoZrtKkk/MOV3kBiwsyuu+nZCsA1IEAAAAZAZ9uakP/ABkfHgncjPrI9o4hZlKmdxZEQQAAAQtB\n",
       "m3NJqEFsmUwIJ//+tSqAfldE21ACwmKn231rT963een8Fjf024lKoI5qzHfg+D6iJ2j7zkOq/K9Z\n",
       "1XB+AnK3ool8sP9DX/xCC0efGMjRHb4UxA/ljqhpHKlee0JhURsBHfrzG58tQn2Qf6A0tdZuuq49\n",
       "P0thFOj/P3xg+lC884UrZuMHhdVzsAr77w7FJq9p4XcUXwgSvSjCnC+vZwuLXR2QIRnyJK9PJjsO\n",
       "8p/Bggfk+4zDnRRy8xNygFVJcI4lw6f8xuha0wvuK9/2SH+HePFg4SoZtmKSkJqi6mDK9N/o00Gp\n",
       "ZVbiZcGJf5fftKgK8fGl31aVax8yaSuCQNdkTOAWJ5niqNG19/AAAAAuQZ+RRRUsEP8APYU7O4eo\n",
       "C/owF6jiQ3i9S6JxLN27sbD4dL52CSWFaNoPZ0wdsAAAAB0Bn7B0Q/8AgpSTH7shWQpK3cQs0fms\n",
       "95KfNWwXgQAAABgBn7JqQ/8AGR8eCinvyAHtJIJ6uHVAcCAAAAB3QZu0SahBbJlMCCf//rUqgAF2\n",
       "7WxI7gAbq7LYqBEYPe7Mnw6SFTcpTkOsmHTYv3/9/JFE3PXUzfpoJ/zEbMqyPmBMBymxmcQo2GDh\n",
       "+aXhom0jAlRQm6s5+yRwbp7BRtxt/lybVhXxENcaazWsdythrZBciZTAqYAAAA5cQZvXSeEKUmUw\n",
       "IJ///rUqgBtF/dE5z7TwYMATyquieNC9/a6A8TRiStmMdt1DRiL26urO635RffZJQOc++sQVT15R\n",
       "wVMh+fh7K1zvUOemE/AAcS6ENenvSMpcyWHq36tKFKCoIRhScFS+WlEI3Ed9pWTlCSA9/h0vUr39\n",
       "/fknr8afWRI0c7UemokW25dSjVbrFYnAhgnxil7IolPUBeAMBl/dsOrkUXhL7PkQ4aCh+xE1a+/4\n",
       "fQgZ5h69ugAxF+BhTBnCLl/PmGcDDc/yFTc20/3yWmh7e0aAxksbwIhgvIjtmIZq8OiH+rQG9T9s\n",
       "4wdyMZFb9UHP5dkg7uFBIj9UTS6eYA8T4Vo9PWMsJQ84c0NYEWZKqP1RU3Yvrucd8YbOT41E1tNf\n",
       "yFQgFAZnsJE+kNhrr6JUMZ9VcEz5sLXPVxvaAn9ou6eWlPqakn/51NG1kha5+JcxQdhOjwmgOc5p\n",
       "e43PLOA5v4JJ0yrU6db74dmsd0t23LZVYKLglm/p6yObJd+iejcv3tsBOA1GJFAV30CmpLWKHW8j\n",
       "cL35ktL5zzV7i8ImoN7JEXLB13WxVFTWNf6dLsYLnAIjoGehi0fpxcL6+kTZbjfaQn8tvAkZG0SS\n",
       "laPhgDis1in5Edf621Dum2lr7TbDs3xKcb8WSCzeZ85AgDW9caHjXJUXByOgPVxR7uu8bHGmQnXx\n",
       "K/oXDeGtfOMNibeXbutZi6ytpg3H2USYyLIMWer8z5WOl62f9Q8TtEVBtHo0owXnZ6mgpkixHqVn\n",
       "cegUDh2g1pqlGvPPHDFfTTokuTtnPcHngwGZBZDa6HqSDEfuK86X9ODBZCBqjh8vZBtMkjBz38qW\n",
       "sXQwPnXzlcR9ULvltfipjeh1yfQFdlzBXgstiJ/ys3/IyVI5yQftbl75QGUl7N8P+69iCQfvpOHU\n",
       "3sgrtzFL3GnqNFFUryFez/H9Ak5VpBvVb5AjR6N8/5mmQifTeKJb5dbedKohov4XyJ8VVnHbpQtT\n",
       "CwpQUHPFwaACC/A1qY2Z3Ow//AV9iZPwW/8a0X3SjJJYQx0Dx/erLArKAN3drf6rAOwuPr4vziDI\n",
       "YNqynbyOk2Bkkp7XxgKtDEWywhh1CTFDyAOMwM/3fp6Aeo8A1Tt3qTcyKQUIlERb1nI5FQkQ80zB\n",
       "OuqtrRRIwdJt+8H8c/AZhvrDn6+wSbOUxcoIPW27EiABq2T5dWgZDYSlmltz8FQA7/s/DWuGzzcd\n",
       "4nr2gkYcQtZr23ph0zjRzg4uphApwEC9vB/QosxKiSUxTROuAzgbqLzTiwBGeN4p+7Wtsg5MYeI4\n",
       "+6L75PBgp9EvQ1wqLE7jaDhkhU3M8fE7UyQGnEP9mDa35MxoiQanED4gfgjT2/SgW/IwoBlAM5NK\n",
       "SRQlZdEXsKZjwAR28/3PJz43vcG/qbSQ3zLoQzJ74zHHqGWRKTL0R/bj/YWxYSiC0Xk7iolJ6KQS\n",
       "8FthC4lRKTw9WUODDwIdmm9mWC+nZaasnNfPqvYqe6oZ42L2CGkze71VIQK8ReZtI9TVWkqKyQJn\n",
       "neTHRdZnLiIf2AFdgvdgkKL+qVGA4aXetJCHsNtO1CoCpm2x6N5NVMB1IAuqiX2JHqP3/HL/sz+h\n",
       "nXC8YpxTwCDg9Kp/IKFBP04Y/jwaCJXLtRcS6ulEbx8D5SmZlPcV6pUR6rurTBz2V+TUzu3yYaJy\n",
       "TRu518ARHr/rmeH1UNtbASjfx+ReUyrbwC0v7Rjuk0jXpyLOqm3g7Vb3KrvuWeEyNzxsoR/RON5B\n",
       "Tq1p/RVpOEDSr6CQg1B6vgb97dR0kDLz39dS/e+l/JQG7GoMlWekL/r07aNREA1COwTEneAAty82\n",
       "Hnk1ExUtvqj4YM643w+XRM0qajoaosfnOnTshT9YPLE0LUHPFM/vhCVh7BGHzXCUghDB5Yo8H2c6\n",
       "WOwH8ii5w4DSWKve5E2PWqtdo9rUBpdmmLv0FXRnTFi1wQQzfZyyQfzSwuDFMn4VcI3/AZSxfMaO\n",
       "mKZA0AH7r62Ly8veOONjHsbUqzmtXAzUisuYqoHG+2JMUr7+d0rEwZwJcoiPG+CPSHnNy77WHbpF\n",
       "afmXfcPoHBrPSad9VJzQoVWAsVEG3TW1v/IkOMgEZuirGieTd9V4fPZCaOSL7Nb7L5YJLZyOKsDL\n",
       "qW+6gpzYxflZ7koIso8/YLlGwybB2FxtNSI2P63aqM5nI9hTQ8jRTmyDvuxsMGoe/mnaJrN99QNU\n",
       "/IiJcBicdOY6dMiw4r1CmMDukO41sD+vp+PCZASF3ysZw9mA/pdHaf8oKWdLCjwMIhYbPRTXXo7Q\n",
       "RWnbBJ634ry5LYZNbZ7HQAFOQ2bprgib9kkvepaNKnGvyV8bmWW+AGWui63IUP6uCuZ8RgbOTU1K\n",
       "QUWB4vca71J2IagxPYMu3ItVDjsmSIaNytW/ZcCPqMMiMaf1AXzy8L8Im2zpsNaP/UlFFu5klfca\n",
       "qF9vqOw79dDe27BZwaTKvJTDYGleMY5w20OOcW4Oqpt+HfCpX03S48uj5OHYi6Z0Kb9AU5VI6uEw\n",
       "nDwg3IrN2iWm0UcGeyzzPgYp4VSco47MVGOw+d/WNkbsqi5anyW74qi1SX0PxngkASOnrb6jrlUp\n",
       "vwsUKfPdM6OZpfr6jU/NzH0HUmpQb/xaZT+duFNGLVnukK5XJPh88KB/EWPxVbGcfFcc9nhdbc4X\n",
       "P4F8phlQC+3oEhZgOBqjWFi3Tzn1475x/QBsj4/XFV9ESQF9W/0IZjG66bXJSl4qJSyFt5YNAUtY\n",
       "BzpNRqMFu29WSyr0nHesNR6iDmYj1Bdrw3fwgJqwr20FJpq/UAwjBF0obivOVeXPyvTTYjC3vQSa\n",
       "IDE3OoTW05wcreiqOG+SR3raLVgLzloSJDRFs3FpQTRbdRdOaBBzAeLkbkrF8JNK5OgytBRkabrU\n",
       "PPWIB5zs7/lV8ld/Ko79lNQwufDeGtgCHrMAdwdN/ibyn8DrFGCNG4HgcK8MU4marnetNVyP+sWZ\n",
       "R1mYWvvO0Imv75sS7Inb0AhXOJS0JU1rjuLenCB36R+RfJ8elA/ZI5iIKqoiM6UUnm6PMpyxkACI\n",
       "9w9/+CvF4685ZlCIODjzoe+BDoLw6NUCcdHKVV9tXf/wbflSSNu8R64slCcvRzW9ADflHODQ5TMB\n",
       "rYmRZnmbpCHq1eozQ5RpChVyzU8HEyleoBKsLxw86USP1kcC0TSLaMYQW53YXcdtPMnQrJ0on+mf\n",
       "7my2Jh/dgwtzM5N5mRpnz3ZennaLd2yWRqqr4EaxejqT19/i/cABFbaz8rUUKHdyRzNt6ih4l8RC\n",
       "+JdpMRELWQJzcywQz/xJ+UfpLLsJsBJOKjUphU9lS6orHNgAOi+H/RGojBQRpTxt/OdSt/+xyUYz\n",
       "aFBwM3rDL50dQLWksMucURi2ihZAIIbzSkEoCF0NCJPyQ9DAkyN7OvlSiuTmKovGtk+gFg8kmY3Y\n",
       "IEg81AvqvJV3FuhIwcCXuvMPJkwcZr1tVuRIO6PcIqJf4DoA0286CuUVcfyzwFI2b4WiGlti7R6s\n",
       "SQyh7m6uljKvoHrVlC76jxWQmI+5jw+WfTN7I2pCauhlb9qsE7GIhi5S+0GDlOimfTB8UE8ee7Sp\n",
       "JHxDKdt+CnD5SZkPrmz/1Ui0UZEXwkLrH4G0t6bG/g8jH2uaRwKVjz3X9yf3Mq8nEU1bMg/Fa/aL\n",
       "EIDuBvTge7fXJYPrvxK+LHf0CFbubdbOzwANnYf/0uilHlY6MgGW5qZ9Y3Lw3szf73ZC5FMY7DQ6\n",
       "iJj7KCI1u5P7hZkrNasd3Vfy5wxW2vgT/VNETmvtAzgTAEiBTBbdiRUIpuEUFnrWAJ3tl7q6UGiU\n",
       "y9CW+oShXYj0ErwQ92XzoQE7AIb2ARXkwdt+HnpdwxzhklCnMKW7VTdeR6Rg25hCtM9REaxjZuCU\n",
       "3Y8MD+ksb8tJ8Rl+cwoBkJvw9lXkTK6MxYTXJYYLK9aBmTJc3siSeLZU3qirWzmQ9Mu5GjFxxSV8\n",
       "NwqpMk2kJBHu1aRw/Sf33xoXxDke5NeQGHtRkIa5TY5mSBiwffStva22LzNu0uOVtT8W43WoPfJo\n",
       "64f0GhWlXGzmOT3rIaQH5J5uklTS+fg0j+RRBH+OYWWvv/2Gs9GciiGWg1yPOm7CEkc7NzEBox+U\n",
       "ckoDNNsa/uaDf0yOupgiYLK9n8eeXiyjqUNJM+htHTprVliy93p5AEXiMFJSqsSGa+WvuD0zHllM\n",
       "mcxMr9Hn4cVuGTsKfkqSjFCaQPzWGbHss0O1JqS0gfvVzWTaCOwu3nbpwYW1zS+Eu4cAqpNxmZ7E\n",
       "LCxaSP0rQWTB0Kx5NdoaLon3mdig90SDdx175HTqcAAvx/+3ox7Jiypu7/7kduAh7yk6gfb+yevp\n",
       "vtHhZvqV5BgZ/rlshPFtsaL9girMbqTnbQE354CG5niAIxe8wZjhjyQwzOBGtOd4Ko4Q8L+bloXa\n",
       "3Ec/wJDlQDCA0TTCYWTgPjjZbpFFPvNuYp4gKo0uHiB4hcpIBJs0Ll4DCoYIWypK50ul4eIh9t94\n",
       "SLT8XGMOuCWiU/j2AdXreQikaGj3pH56zjnfKwvlGML8yQzhWCikrBaiSMigqCHnXB02q+U/U6qt\n",
       "RX3FDPw9nbLd1HOgIAL/m7Kk+LSE+tZXSp7iGdrtLOyScwMssAL5H1pQVn0Bk5vaFa4Fqh0DBBRI\n",
       "t2KdW0TCgACFpsyOaoGV4wBPLCxrpcFkv4q2WgrxtGH0296F8rAFrmcCtWcf3m3YhnUsDwY70Nkm\n",
       "ZabVpj6DzJa1cQImE6Rr3R3d4PFMQkgxTU5h9tZa/OGW/3KdtDKczelS/dNMMSqoZ2T76KJ8Ic0z\n",
       "JVQnNzOgM1U/Gif+j3M+MKxOAodDERTfneSeS8uaCytIWiwxPxFwntevLlLr9I73fgSZ6pwXPjeT\n",
       "iUNvMl8P259MgwaTkNTZQt1aCQAAAHBBn/ZCH/8AZQRv6q/YgcJiLZzhdpzZIg3gZVcYb0bN6cEm\n",
       "SGDG9SGjeNiyeuB67gP6b52ABvwsK8aQmpIVd3hRwzTSmy35otTCA5s/+Nn/TN4frohzu8htbTSv\n",
       "yxMTEkP+EjGREm+Q1EbpjC/bI6VgAAABFAGeFWkQ/wBE1yTGehSojtrifPA+ZXNeuVmsFvdB5W2f\n",
       "AzVfBAVe4RHwA4ZTPSZftCjMymX5iK81aqPXSdY0eAzdtooRhOp0EOtuvpNQngZ2993gN0+7Xf7N\n",
       "pFkNsv1Fr96wjdx/PmPjn5pL/4qQVVBJP8ua38zKWxLpySvw1ZGO446CA4JieO3GFzD7TzpT20Mb\n",
       "VyETF3p5tRY0fau4sfOJEyaKUVvaaFMaR/jvTt4unH3THbayhdmZFfgWndGFezFAk79UizsG4Nvb\n",
       "qfsN11ISpgPJyTCsJkHMjMtngz/7FwcAK79hurpM5csIUKHPbU3pG2EjUb3lb29jucR9TQQ8gvzE\n",
       "9JchBslNgnNSN0w29IsdiQAACrxBmhtJqEFomUwIJ//+tSqACydOgLLOADU9Po9Io1ZGFQmNlPRD\n",
       "HxO72iAeMvYN5/keoRSSqElBNo0e7dmlPaTAz2xWtsfWGDYWmDQwBb/+cIKsVLTZ7Q+uhrhK6Ivc\n",
       "JlrdkeJgu4KymiwmzRe7RMzm6q0uk33+ypivEWDEe6y2HGhXz43NRwWWfHOMlDLI3XbfEvC8oYSe\n",
       "4Z1GphkbU+C3NyO/8eXI/lleQut5tx/ba1RlxyrVe6WIecXkz5aWj+xjTL+MzqS7t8rN8RJaxZbU\n",
       "DQsEt/3zZ9JGNV+ohKkjeLbIccQtBx5NkDhWDJV1FCOJywCniH3jo094YFMfYSC9igGbF2sqxIEK\n",
       "vh5LL3VuloKRSD+vDMdU1r2tY7una1+SfE6Xw+BmI1m7MIaWMzIWfy/Lw8ZfprN/KqJvsoGQENLQ\n",
       "rSGRLaM6W4cxE1dANYp4EULX9zT0SPleS3hgP1v8/H+ncdyqnRfeqhBXiobUZq7PQegq2LFr8ZEv\n",
       "bleatYRh1Y5OwJsXUVr857Tzyihx05jkQtPq012FcDFChtD5yDpdxZ/rghCW75iyAsITvepHReC8\n",
       "dnoJAEJbM/GBESanvnpJzThDoJoanDXkuZfzZ1dUK/EhwjVF7DrrBbOhRrvW95O8rTP8meUhrt63\n",
       "XSZWILfN+4ho6P+Hpg9vyW8PKo32UDWap5wV3K9LtKqnOaARdWLurktsRrXVBQNl8IEresIcdi4M\n",
       "nrhYxKnco2IazAjLsvLryt7g6aAupqG5WGFdyd4pzvbG4GynBGkwjdCjagpkjri8P1pV8T4NXSC1\n",
       "V5kK4jXHdE2NkfI13/3yglndIRHiwdl1JV30bx1BIECKICU62QYwy2sHHGXBaaWIql5HCdSK/sjj\n",
       "DPFJynyqcJC6t7p9w9Kaqm0BoavKWlpGgcNy8nKy/gUvyWm6fQ6r08I7kD0mZp4giTMFbvWtfWa8\n",
       "guMEoZ96qMrRGh1i9ZjBld7a/NoUhOd9kOpSwoaJOnHtJjCw8a37FHxH9954/6twiU+YXGAm+W2O\n",
       "7gvZu/+1VVBigYs6DU/nEi464wwBj339POEvD9bXFPv+hrUo98DALZ3DEJpxn8Y+Wq4wVsggIFqI\n",
       "/cO/2qVU9437bDUY8Bky3FL5Uj4VthLuClyGoQa03mySBqTz3LFeC+4tttLn/YBLZSIAOga6yyXc\n",
       "/ylfQ/FoZkhqEvTYjcIQVUG8iOMGuWvueeSxl+qzwwAlh205h1gXQ5d5/DdkBKzY8VSk27zOtOBI\n",
       "k/+WtIxJhNqzA/vBmInJoUIyO40QfpZk9rFSaMOiBqMfQSpqjbZ1VhVs0XOGkufOKds/080KGl4D\n",
       "6PQSE6X0CziYbNJjy69dXThcZEJ4d2i7X9WxCUaT1vHZnN57Q6rYpfTENdRUxxA6b39DHYU5s8Oo\n",
       "h1Y1VMRfxeM2ZH8OpZGcbsbhrP3PF2ThN/HMU7vNWemTLGO7h9NWFChjfWPSioQHLuwUXU90tQE+\n",
       "GrrYgq/YROX7R1OQfYVXK9HGJHNitTCtzBNlGhRShN1c2ckHkwccj+/B7+yKIcfPtZH4Aamp+JEj\n",
       "zozLku5wOKFRM4v6BpR8aadwxVZEvhU3ovrv014NXjSFmgg1rVSQfjUsebrVqMcuP8eHPv0lqRYO\n",
       "YTpDIYsdE0tD/dVUtDifq5znNpw4snHTvGSuuUFYb7oI1mfeerjPZZ1E9bSOnE6fu3JPPMivrWNI\n",
       "80RrWOE5wMue0DPMGuyIbfzRtZkSRiiloPDY7ZT0IURMpLpYn67dDEiBwgi2U9B1YTxqpSoeUWAi\n",
       "uzdj0IN0OnLLv3C5AKnktGiNR3H+uN4OafnlPxbJTpg6/sWhXUWwnXTOlF/TNx7Mveb9SBon0ATm\n",
       "To2nxbbhKZquhmeAsL0EZES6Sefg1D3NdPk1voKBLZ2+JWsnWd53a+cOZeYfPVrJJ3JlX9on9kGB\n",
       "YtECjYLwY7+Q+yaOciPQvBKdEHNb5bYpx3kWwjfvzVhu+J0PS68W1Fzezp0tJk5kvna46cQ6TTLW\n",
       "YfNudCuoZ+8d47Cvxk+KGLg5trAgpDkv6uld7Y1xZRJvQ4Av8BNod+eUFurschVf9OgNPiNyjhDA\n",
       "VqZYOM4L7eVZ9dV4sKAR6+Tdew4Bo4slrliYbj7gnzt+RoC81+I819AEIXJ/9hOThZrROHRTtufJ\n",
       "fTrwr/Vb5S0eVZDdPWe7KxDsETIsh7Ttqseqd09K7U6ylr+RcZiXHkSuY1BNd+0om9uRUE/m5wcZ\n",
       "ScYJmaEc+AI3clsTVTUj5Q4kBRULlK2/K3vK5aC0Yg5OHj9U2DX53eF6jXoM1P08oVdb28pYtWQu\n",
       "rw8GLAd6Iwo88acfuh7UnTLa4phWZAs6cz92nVE3pBDH3jSCmDbmwEvKA3qDf/UzBR7FhHz0qj5k\n",
       "od28Ixv1zRVLwOUsU+COSND+NZhczfF/GCXcak+CuoupApmOCH22KBG42/z4gUzFm0CU319zyoED\n",
       "xMM2CHcxeLRYQk53ZqtDDsWsG6CvF3pfUFGNEqUtSl4nnzXYCDDirqToFHN+kcXcy71nwt17kF1U\n",
       "Xu/YPe7sv2OGXfuUkqerC1EcGJt2624cM/X9VCE7WcJ+H/Y5ZBeHBc1/m1opx4sfRuIgu+VnR7Qu\n",
       "aYcjDQndoJNOuc2Gg6F+Qj0xeHSGgXN71A5cwPgUWcKwdkHUE0iz6pTIQjiUP65YBurnbDGQwpIq\n",
       "7+1yj/GAQAbF3JAllF/iYlOh+FvNvGavQyj9LksYDFOCnfTBjKif6WEPimAW519aOKOF8G76/6IR\n",
       "SLDmlqtRiFi5ap3bdRf5blHWXzfJKx9mOsNfpSqlI0pFevIwzNGJh/XCz8cGRg3pdAy3PFzLvUo+\n",
       "JRLI8Xk52JH3Tj155MNrs3OPEJPkIv6V9BwWt/FpKNJpX9vn5p8tjnWCCmW+OuxLQ27dBClw6MxM\n",
       "ChPm0HVx6mGrxZUVO/k9TLF84I69txfSwceS/jdgo8/hGEWiuDZ2fpoB2V0nsm5MwyNiCZnlbjhp\n",
       "RVsgud85dfLIzwtTYPfoGREE8KtZxuy+twm/IRqPHgvNaD0ZiUqokJujs6jHj58oJKUzFBKd75SL\n",
       "1vx6stvTklN1szYHpqmZGyB9Qx448pEr5R9oELvswvsn+HKd7NVTn22eaNs3xsnAQ/RTPFOWI+s+\n",
       "d3+jv9LLpQvRNXJRPoYbhdfKAwBxJah7tMbh/2V34MHb0Yu7t9AvYHt1RDu+0JySxvr6tcWnKwRD\n",
       "w1roFW4Wr92JFb9YL+U1jLePrXisd90vv9swBt4tKds+9Jkv1LL5QP1YAijnK+DWrWYtgx1W2/wf\n",
       "ezw9jgI9G8hsDUcHZEo4M9SX4vfMS2aA7ADq+74ml8cyDW4rOVv6ACmQ+q1BJ6S85tjWmZ+goppf\n",
       "tOf2QRrqy9Ed8br+fiXoDb09+M8SsxH5Z80V0xB04M1I7jIO3f1QmKw+zOe1VwJUkBpGpg9KYbBX\n",
       "W/tP0zIDxBB+2yhUHVwNnqsJEuXfKonekehmbrEeFXUGAuwMqh2KG4g3zNOdVkoIwayZ6nkIQ0WA\n",
       "XPTx5SDEk0I/FxZ6NfqsT+hd/Ppj/P+DV7PLkd7uS5ZzPiuSQT1/3+vB9r8zuUbapweuJAc3EUU2\n",
       "AI18IfncEzAM7IMa+hBcQctb5K4XpDl9J9gav6oeBnkAAABuQZ45RREsEP8ALj2w0xAJWy/ZDCqy\n",
       "NyLk4wAAiBtyOGAAHtRgcSVNOqFnyWa01ie12x7c7NwJfOBTvSh0rh2NKFp39AkjjU5HTt0fFEyV\n",
       "6c/4it0FQt8cz3rFhzCI/YGDN7ynLzL3oY6CV/hLUoAAAAAoAZ5YdEP/ABkbpVuyMTlpUjtglAU7\n",
       "PdXM0KmIcsZ/N346bDTzcm3FgQAAAJABnlpqQ/8AGR8eEwWUairAZ1c4ARk945uCX+NzjwHLKPqt\n",
       "tz28GD48fIQUiJhyrmbAiMVvTTcb0ZfFyLqA9JwD6FLhUrmCFpELW7N6HoHzz/ZYvaE/LEYcdjWU\n",
       "XWWnYzwVV8dGgLRhz0IUFgjvUpqk8Ek7jSek+c3YUSgwmrBaJTv8IzMHMvYm+ps8/w5E2IAAAAbJ\n",
       "QZpfSahBbJlMCCX//rUqgBhdzMQCVwzfmm/oZIdrl+eKG8R0qEBYQ1m4E5qpHim5GSSko2oEUoLx\n",
       "eJdm1o+sUFvWCUZawv8Um0Kll2wd6FxHHlCSMeM5Ke101p1sP0aIZyWBa3L2JUgV1fUHDYpaQseU\n",
       "8rUEY8EagXM3l2qcKIRPtkESgozJ2SmyW+WZGVehCOC4lKggwk9PSdVzqTXw5Xw5Cteha+X4dE2g\n",
       "RSZIWIdkuwRaITo7jbFjeZKTAZlZyg6/GC63jaWsQLbPFqEcHAkLyFprMdZTUlOLCvDJLew5DX0x\n",
       "waPdRjxpFfGDa2TZY5ZCNv12X/2BgV4BZpf3pu4G0d5NfQEFXuNyw9vxMfxdfh6OotRS8Vo9kMHk\n",
       "1Xif+awS2lC47GiW3QT8H7Ycx+TzbfXiIFHsmQmiKhUccaSTK28QaubN5M+a0lUeEnNEleVq+mwm\n",
       "QlqfUJEkC3Zpd0HOu/Qecr23VLZdc2AOo8xC1mawk6i31vz+UkPIbHEhPv3rqfAV011ZcZf0MhCu\n",
       "3JJmovj0jAqoP+uAMES0v/4l/FEYKx0Cl1wBEeRBEa9iZfVYWzCWQlJHAa+8qhGWIfBHnY8iwNXN\n",
       "T43ksm2EI+b+POmqw6q6IzfP0NqSJbIKc74jBJXRi7F78PdRwPkkNuBjo1DH/XGgN/7bAPR1v6tJ\n",
       "TY0Rsz1j/Hsj9aKjzH7WofJM7S1egDu6TVPOvn3uHpxSX1or4i0g8SC7XiLG1SgqfkaiSeNVnDuY\n",
       "xnMUSKjwJk3pH9DmYiKF7J1zwPKqFMZBKrhVWVoxg6rdUizswN5MpKBik0K46tfDS2RkjBhq1OoS\n",
       "jfOOiJNrv5OdEZ1Lwndfsedit8VLFpoVAwQm56gHEH9yl14YhXeYBQ/5kmD1GRwmzSQJS3Gyq7wa\n",
       "pGvi304egY4belMZvdBWPRDdTUghHTK0JreL5wMj4zmsPZaWmaox85hQsr5g/uS28pTeUbOAKlbR\n",
       "eiSDCVbWRVvmbbdh9WokuiGC0w//cHnUwLGGsCGjZbq6Ysnzs3TVEZyXXnJi0xrLySPSgaPDXiT9\n",
       "bB0gC0OCQ9oy9y361EJUJ6o8usgXRSnYNFzhwwu6aNm6Ddw9Iyx72iWinwyfgQzaz3vGl+ZLSjgD\n",
       "ZouVH5iXbRzT1wjTS3Z23AkcNpl9joNoKk6zbJEUOXV69AsO6A/3Qp+Rtl3mZJj8s27xIHTymQMp\n",
       "lB6Ij0JaiSGAOX3QAZ9aGqdIZeF2yKEhzhvSc4Q+K28GZzddy6BDQLxUMBb7MgJodvIXEuYrn+8s\n",
       "huETIbQIUw49RLY1+kmYEbFpRTiN+uGP7wloZHalQE/WZwidZU7CueVvrt1+UpvwJrxKJ82Kblbo\n",
       "gMEfPiEzNEZkkAAxVzvZZ53Xn3J6CN0kcP7uh+nztmMISDlCIKQOV2Ldvsar/1o6lrJXqbUBQwvO\n",
       "w0naJwuTS+VIWDFqb0kE69erfkREXQaO2KPoiwjvziVnvQFrHcyDNdLuCAMElVUN8fI+cfA/ubM3\n",
       "KXg4F3UWJ0aLHtRqymna/IxwQ5g6DWReEgnD9b+8f0fhEzQdm0B97FZvWAII5Nz8Cs2bckcdR8VW\n",
       "TuGgat01WS/vxH9n+yzKI4kjSFPQTTvmZlh7qzaffIuEOV/SOdiQtEbd5C7qh6c6b3Idj5AlpkWx\n",
       "B0IByiGAV/wKDUMf/ThnuGgH396hUijy+Lp6C6fLzgUuy+0j6P4PCVflGYbUi5tRqreip67drBuv\n",
       "U4Wc7DBZ+5tubvq5ZlNbeH2Cfc8yCeaON+gWnUDijVXkP2fc8weJ1NmLaCPpz4iMw4dle9oq52ST\n",
       "jb9MAqLzmjo8SBvxJDGOpz7yRAfHy/2VqbsgvdgoxFlMvj6gZawVOaP6plYRIDh55UoRxo2DqFsC\n",
       "HL/bHU5k1FDTBBP+dlVg9PU+7y8zIsla6JpOUXFYgVTIXgNGV+58ZkQkaioFJewHwZx1nTtsnnBm\n",
       "CKlz/iYVPyfcDwqB+gc05oFBnxthtjR4K0am7SMXZX0zLmbFr0UgyJzmVHnpIL15A2AN9nsWajTV\n",
       "0ehg5Nabe5JfaN09sc7pIZXgvBCL74Vt2Hc4D7zTSk8JkDMhHm2JwnZMImiF6q2aRHQ23Q1OnmS7\n",
       "O5jJep1qDubnCbP7Rt0lnZSAjPWpjjLtB7EJ4tsXdF0eZ8v2gkSESgWFC5IqvbshoYX/g8erfVEU\n",
       "BWw4QrJixRmwDW8boEnOYOdxEDMWJfJbljPXwHtrhvn8RGnBCcoCVO2jMf7ZnVTKgKTsNWVX+Qg8\n",
       "JMk+gGEalkJMRkjDzFXJutEwuyoX3reuVU6BAAAATEGefUUVLBD/AC49sUc8762ypMCNeMpAGzQ+\n",
       "pvAA6AQhlyulVOXCsF6OxyMESz9aePM6y16XQbnAZS0SeuBBZlB7D0+zmyn71XLMEnsAAAAyAZ6c\n",
       "dEP/ADsfmaycLnSor3bdzfidkD4qpF+p4tsCT/vFDpwPe11iU4zUFgPo7gIPg44AAAAdAZ6eakP/\n",
       "ABkfHhDD0+tGwO7LhEHfC/Prqqz2KWMAAAF3QZqDSahBbJlMCH///qmWCvCaoAON6qv0ptvbxdjV\n",
       "uaZddFejSmLYjLsc7j0E4fBv3f1BoNpPBq27ig63+MWPapdggDHPO4a6y3hFMcUEWrXBr+7U6etL\n",
       "DeCIsuEJ0Lq2cERSStR4qOhJXTMU1vQuUgGgB37d0TAD//hrNaK6Bd2CltY179B24QdgdwjP3O3i\n",
       "FN13iGu7N5i3qiejeNG3xQNsRFUEPdkVEUfUM/uA+MIMMNh5PSTIZL/ociVLlb4/SBtadwh2LKC6\n",
       "bWKGj5+Cn6BjIbkWWwhOQxpgVANfnk+4b4j4ohKF6oWSRblmwM3jnKknu6GI6v3h6ZuYHU4K4hx7\n",
       "D7BkMj12uVsIHd2f5uS7leezuznCshMZlYF6qDwLV7z1Bw/h0Y9/nvnCGBBA/FKyG+P9vAcGAZKX\n",
       "NzG5P3E4aN41uehvWzkBHOrQhMs+ITIkUPD568wjl+Rg+xIrhglKegQXoCTxTyN6W9q7jzqZN7tv\n",
       "hLuhAAAAPUGeoUUVLBD/AGMbXVdsqXgRxKdBs3ous/WOx8u6ABpG4V5tBQzcnkdDogRfHUD72L+T\n",
       "SXWFtcISILUCfXwAAAAYAZ7AdEP/ABkbpQ4r/OlPiHuTbISA6bsbAAAAOQGewmpD/wDKZPAC2Yx5\n",
       "OcaXxdJsByiWvUkcbB9BtpeUeZFdVOFS1p5FpuiTWAt4w/qO6KVARJx+gAAAB9Ztb292AAAAbG12\n",
       "aGQAAAAAAAAAAAAAAAAAAAPoAABOIAABAAABAAAAAAAAAAAAAAAAAQAAAAAAAAAAAAAAAAAAAAEA\n",
       "AAAAAAAAAAAAAAAAAEAAAAAAAAAAAAAAAAAAAAAAAAAAAAAAAAAAAAAAAAACAAAHAHRyYWsAAABc\n",
       "dGtoZAAAAAMAAAAAAAAAAAAAAAEAAAAAAABOIAAAAAAAAAAAAAAAAAAAAAAAAQAAAAAAAAAAAAAA\n",
       "AAAAAAEAAAAAAAAAAAAAAAAAAEAAAAABsAAAASAAAAAAACRlZHRzAAAAHGVsc3QAAAAAAAAAAQAA\n",
       "TiAAABAAAAEAAAAABnhtZGlhAAAAIG1kaGQAAAAAAAAAAAAAAAAAACgAAAMgAFXEAAAAAAAtaGRs\n",
       "cgAAAAAAAAAAdmlkZQAAAAAAAAAAAAAAAFZpZGVvSGFuZGxlcgAAAAYjbWluZgAAABR2bWhkAAAA\n",
       "AQAAAAAAAAAAAAAAJGRpbmYAAAAcZHJlZgAAAAAAAAABAAAADHVybCAAAAABAAAF43N0YmwAAACz\n",
       "c3RzZAAAAAAAAAABAAAAo2F2YzEAAAAAAAAAAQAAAAAAAAAAAAAAAAAAAAABsAEgAEgAAABIAAAA\n",
       "AAAAAAEAAAAAAAAAAAAAAAAAAAAAAAAAAAAAAAAAAAAAAAAAAAAY//8AAAAxYXZjQwFkABX/4QAY\n",
       "Z2QAFazZQbCWhAAAAwAEAAADACg8WLZYAQAGaOvjyyLAAAAAHHV1aWRraEDyXyRPxbo5pRvPAyPz\n",
       "AAAAAAAAABhzdHRzAAAAAAAAAAEAAABkAAAIAAAAABRzdHNzAAAAAAAAAAEAAAABAAADKGN0dHMA\n",
       "AAAAAAAAYwAAAAEAABAAAAAAAQAAKAAAAAABAAAQAAAAAAEAAAAAAAAAAQAACAAAAAABAAAoAAAA\n",
       "AAEAABAAAAAAAQAAAAAAAAABAAAIAAAAAAEAACgAAAAAAQAAEAAAAAABAAAAAAAAAAEAAAgAAAAA\n",
       "AQAAEAAAAAABAAAYAAAAAAEAAAgAAAAAAQAAKAAAAAABAAAQAAAAAAEAAAAAAAAAAQAACAAAAAAB\n",
       "AAAoAAAAAAEAABAAAAAAAQAAAAAAAAABAAAIAAAAAAEAACgAAAAAAQAAEAAAAAABAAAAAAAAAAEA\n",
       "AAgAAAAAAQAAKAAAAAABAAAQAAAAAAEAAAAAAAAAAQAACAAAAAABAAAoAAAAAAEAABAAAAAAAQAA\n",
       "AAAAAAABAAAIAAAAAAEAACgAAAAAAQAAEAAAAAABAAAAAAAAAAEAAAgAAAAAAQAAKAAAAAABAAAQ\n",
       "AAAAAAEAAAAAAAAAAQAACAAAAAABAAAgAAAAAAEAABAAAAAAAQAAAAAAAAABAAAYAAAAAAEAAAgA\n",
       "AAAAAQAAEAAAAAABAAAoAAAAAAEAABAAAAAAAQAAAAAAAAABAAAIAAAAAAEAACgAAAAAAQAAEAAA\n",
       "AAABAAAAAAAAAAEAAAgAAAAAAQAAKAAAAAABAAAQAAAAAAEAAAAAAAAAAQAACAAAAAABAAAoAAAA\n",
       "AAEAABAAAAAAAQAAAAAAAAABAAAIAAAAAAIAABAAAAAAAQAAKAAAAAABAAAQAAAAAAEAAAAAAAAA\n",
       "AQAACAAAAAABAAAoAAAAAAEAABAAAAAAAQAAAAAAAAABAAAIAAAAAAEAACgAAAAAAQAAEAAAAAAB\n",
       "AAAAAAAAAAEAAAgAAAAAAQAAKAAAAAABAAAQAAAAAAEAAAAAAAAAAQAACAAAAAABAAAQAAAAAAEA\n",
       "ACAAAAAAAQAAEAAAAAABAAAAAAAAAAEAACgAAAAAAQAAEAAAAAABAAAAAAAAAAEAAAgAAAAAAQAA\n",
       "KAAAAAABAAAQAAAAAAEAAAAAAAAAAQAACAAAAAABAAAoAAAAAAEAABAAAAAAAQAAAAAAAAABAAAI\n",
       "AAAAABxzdHNjAAAAAAAAAAEAAAABAAAAZAAAAAEAAAGkc3RzegAAAAAAAAAAAAAAZAAAJfcAAAXz\n",
       "AAAAQQAAACcAAAAkAAAGIQAAANMAAAArAAAAKgAABgUAAABlAAAAHgAAACYAAAC7AAARKwAAAsgA\n",
       "AAHwAAAALgAAACIAAAAbAAACTAAAAC0AAAAaAAAAIQAAAv4AAAAuAAAAIAAAAC8AAAUvAAABxQAA\n",
       "ACUAAAAgAAAJAgAAAIQAAAAiAAAAOAAABjEAAABqAAAALwAAACMAAAeIAAAAVgAAADUAAAAgAAAP\n",
       "hAAAAnIAAAA4AAABfgAAADEAABXqAAACrgAAADMAAAAqAAAAGgAAAvEAAAAzAAAAHAAAAC4AAATF\n",
       "AAAAdQAAACUAAAAtAAAEdAAAADkAAAAlAAAAJwAAAKEAAAazAAADHgAAAEQAAAAtAAAAJwAACWYA\n",
       "AABGAAAALAAAAC8AAAHrAAAANwAAACcAAAAdAAABDwAAADIAAAAhAAAAHAAAAHsAAA5gAAAAdAAA\n",
       "ARgAAArAAAAAcgAAACwAAACUAAAGzQAAAFAAAAA2AAAAIQAAAXsAAABBAAAAHAAAAD0AAAAUc3Rj\n",
       "bwAAAAAAAAABAAAALAAAAGJ1ZHRhAAAAWm1ldGEAAAAAAAAAIWhkbHIAAAAAAAAAAG1kaXJhcHBs\n",
       "AAAAAAAAAAAAAAAALWlsc3QAAAAlqXRvbwAAAB1kYXRhAAAAAQAAAABMYXZmNTYuNDAuMTAx\n",
       "\">\n",
       "  Your browser does not support the video tag.\n",
       "</video>"
      ],
      "text/plain": [
       "<matplotlib.animation.FuncAnimation at 0x7f1eea729860>"
      ]
     },
     "execution_count": 14,
     "metadata": {},
     "output_type": "execute_result"
    }
   ],
   "source": [
    "anim"
   ]
  },
  {
   "cell_type": "markdown",
   "metadata": {},
   "source": [
    "After a while, the pile looks pretty random.\n",
    "\n",
    "Here's a plot of the number of cells toppled after each `step`.  "
   ]
  },
  {
   "cell_type": "code",
   "execution_count": 15,
   "metadata": {
    "collapsed": false
   },
   "outputs": [
    {
     "data": {
      "image/png": "[encoded data removed]",
      "text/plain": [
       "<matplotlib.figure.Figure at 0x7f1eea77a7f0>"
      ]
     },
     "metadata": {},
     "output_type": "display_data"
    }
   ],
   "source": [
    "thinkplot.plot(pile.toppled_seq)"
   ]
  },
  {
   "cell_type": "markdown",
   "metadata": {},
   "source": [
    "The following figure shows the progression of the pile from ordered to apparently random."
   ]
  },
  {
   "cell_type": "code",
   "execution_count": 16,
   "metadata": {
    "collapsed": false
   },
   "outputs": [
    {
     "name": "stdout",
     "output_type": "stream",
     "text": [
      "(332, 53336)\n"
     ]
    },
    {
     "data": {
      "image/png": "[encoded data removed]",
      "text/plain": [
       "<matplotlib.figure.Figure at 0x7f1eea2730f0>"
      ]
     },
     "metadata": {},
     "output_type": "display_data"
    }
   ],
   "source": [
    "pile = SandPile(n=20, level=10)\n",
    "print(pile.run())\n",
    "viewer = SandPileViewer(pile)\n",
    "\n",
    "thinkplot.preplot(cols=3)\n",
    "viewer.draw()\n",
    "\n",
    "thinkplot.subplot(2)\n",
    "for i in range(200):\n",
    "    viewer.step()\n",
    "viewer.draw()\n",
    "\n",
    "thinkplot.subplot(3)\n",
    "for i in range(200):\n",
    "    viewer.step()\n",
    "viewer.draw()\n",
    "\n",
    "plt.savefig('chap08-1.pdf')"
   ]
  },
  {
   "cell_type": "markdown",
   "metadata": {},
   "source": [
    "## Long tailed distributions"
   ]
  },
  {
   "cell_type": "markdown",
   "metadata": {},
   "source": [
    "If the sand pile is in a critical state, we expect quantities like the duration of an avalanche, `T`, and the number of cells affected, `S`, to have long-tailed distributions.\n",
    "\n",
    "Following Bak, Tang, and Wiesenseld, we start with a 50x50 array and plot the PMFs of `S` and `T` on a log-log scale."
   ]
  },
  {
   "cell_type": "code",
   "execution_count": 17,
   "metadata": {
    "collapsed": false,
    "scrolled": true
   },
   "outputs": [
    {
     "data": {
      "image/png": "[encoded data removed]",
      "text/plain": [
       "<matplotlib.figure.Figure at 0x7f1ef5565860>"
      ]
     },
     "metadata": {},
     "output_type": "display_data"
    }
   ],
   "source": [
    "pile2 = SandPile(n=50, level=30)\n",
    "pile2.run()\n",
    "viewer = SandPileViewer(pile2)\n",
    "viewer.draw()"
   ]
  },
  {
   "cell_type": "markdown",
   "metadata": {},
   "source": [
    "Now we run the pile for many time steps and keep track of the durations and number of cells affected."
   ]
  },
  {
   "cell_type": "code",
   "execution_count": 18,
   "metadata": {
    "collapsed": false,
    "scrolled": true
   },
   "outputs": [
    {
     "name": "stdout",
     "output_type": "stream",
     "text": [
      "CPU times: user 3min, sys: 60 ms, total: 3min\n",
      "Wall time: 3min\n"
     ]
    }
   ],
   "source": [
    "iters = 100000\n",
    "%time res = [pile2.drop_and_run() for _ in range(iters)]"
   ]
  },
  {
   "cell_type": "markdown",
   "metadata": {},
   "source": [
    "And extract the results into two NumPy arrays."
   ]
  },
  {
   "cell_type": "code",
   "execution_count": 19,
   "metadata": {
    "collapsed": false
   },
   "outputs": [],
   "source": [
    "T, S = np.transpose(res)"
   ]
  },
  {
   "cell_type": "markdown",
   "metadata": {},
   "source": [
    "A large majority of drops have duration 1 and no toppled cells, so we'll filter those out."
   ]
  },
  {
   "cell_type": "code",
   "execution_count": 20,
   "metadata": {
    "collapsed": true
   },
   "outputs": [],
   "source": [
    "T = T[T>1]\n",
    "S = S[S>0]"
   ]
  },
  {
   "cell_type": "markdown",
   "metadata": {},
   "source": [
    "The distributions of `T` and `S` have many small values and a few very large ones.\n",
    "\n",
    "Here are the histograms on linear axes, showing only small values."
   ]
  },
  {
   "cell_type": "code",
   "execution_count": 21,
   "metadata": {
    "collapsed": false
   },
   "outputs": [
    {
     "data": {
      "image/png": "[encoded data removed]",
      "text/plain": [
       "<matplotlib.figure.Figure at 0x7f1eea767438>"
      ]
     },
     "metadata": {},
     "output_type": "display_data"
    }
   ],
   "source": [
    "thinkplot.preplot(cols=2)\n",
    "\n",
    "histT = Hist(T)\n",
    "thinkplot.Pdf(histT, label='T')\n",
    "thinkplot.config(xlabel='Avalanche duration',\n",
    "                 ylabel='Number',\n",
    "                 xlim=[1, 50], loc='upper right')\n",
    "\n",
    "thinkplot.subplot(2)\n",
    "\n",
    "histS = Hist(S)\n",
    "thinkplot.Pdf(histS, label='S')\n",
    "thinkplot.config(xlabel='Avalanche size',\n",
    "                 ylabel='Number',\n",
    "                 xlim=[1, 50])\n",
    "\n",
    "plt.savefig('chap08-2.pdf')"
   ]
  },
  {
   "cell_type": "markdown",
   "metadata": {},
   "source": [
    "To see whether these distributions follow a power law, we plot the histograms on a log-log scale."
   ]
  },
  {
   "cell_type": "code",
   "execution_count": 22,
   "metadata": {
    "collapsed": false
   },
   "outputs": [
    {
     "data": {
      "image/png": "[encoded data removed]",
      "text/plain": [
       "<matplotlib.figure.Figure at 0x7f1ee1bd5be0>"
      ]
     },
     "metadata": {},
     "output_type": "display_data"
    }
   ],
   "source": [
    "thinkplot.preplot(cols=2)\n",
    "\n",
    "x = 9000\n",
    "thinkplot.plot([1, x], [x, 1], color='gray', linewidth=3)\n",
    "thinkplot.Pdf(histT, label='T', linewidth=2)\n",
    "thinkplot.config(xlabel='Avalanche duration',\n",
    "                 xlim=[1, 1000],\n",
    "                 ylabel='Number',\n",
    "                 xscale='log',\n",
    "                 yscale='log',\n",
    "                 loc='upper right')\n",
    "\n",
    "thinkplot.subplot(2)\n",
    "\n",
    "x = 5700\n",
    "thinkplot.plot([1, x], [x, 1], color='gray', linewidth=3)\n",
    "thinkplot.Pdf(histS, label='S', linewidth=1)\n",
    "thinkplot.config(xlabel='Avalanche size',\n",
    "                 xlim=[1, 5600],\n",
    "                 ylabel='Number',\n",
    "                 xscale='log',\n",
    "                 yscale='log')\n",
    "\n",
    "plt.savefig('chap08-3.pdf')"
   ]
  },
  {
   "cell_type": "markdown",
   "metadata": {},
   "source": [
    "The gray line has slope -1.  The distribution of avalanche duration is approximately straight between 1 and 100, but then drops off.  The distribution of size follows a power law more closely and over a greater range, but it also seems to drop off for values above a few hundred."
   ]
  },
  {
   "cell_type": "markdown",
   "metadata": {},
   "source": [
    "**Exercise:** Try running the model longer to see if you can get a less noisy plot of the distributions of `T` and `S`."
   ]
  },
  {
   "cell_type": "markdown",
   "metadata": {},
   "source": [
    "## Fractals\n",
    "\n",
    "If the sand pile is in a critical state, we expect to see fractal geometry.\n",
    "\n",
    "To estimate the fractal dimension, I'll start with a bigger pile and a higher initial level."
   ]
  },
  {
   "cell_type": "code",
   "execution_count": 23,
   "metadata": {
    "collapsed": false
   },
   "outputs": [
    {
     "name": "stdout",
     "output_type": "stream",
     "text": [
      "CPU times: user 19.6 s, sys: 4 ms, total: 19.6 s\n",
      "Wall time: 19.6 s\n"
     ]
    },
    {
     "data": {
      "text/plain": [
       "(28379, 211320220)"
      ]
     },
     "execution_count": 23,
     "metadata": {},
     "output_type": "execute_result"
    }
   ],
   "source": [
    "pile3 = SandPile(n=131, level=22)\n",
    "%time pile3.run()"
   ]
  },
  {
   "cell_type": "markdown",
   "metadata": {},
   "source": [
    "The initial state sure looks like a fractal."
   ]
  },
  {
   "cell_type": "code",
   "execution_count": 24,
   "metadata": {
    "collapsed": false
   },
   "outputs": [
    {
     "data": {
      "image/png": "[encoded data removed]",
      "text/plain": [
       "<matplotlib.figure.Figure at 0x7f1ee185a630>"
      ]
     },
     "metadata": {},
     "output_type": "display_data"
    }
   ],
   "source": [
    "viewer3 = SandPileViewer(pile3)\n",
    "viewer3.draw()"
   ]
  },
  {
   "cell_type": "markdown",
   "metadata": {},
   "source": [
    "Since it contains four different levels (0, 1, 2, and 3), we can extract 4 binary patterns."
   ]
  },
  {
   "cell_type": "code",
   "execution_count": 25,
   "metadata": {
    "collapsed": false
   },
   "outputs": [],
   "source": [
    "def draw_four(viewer, vals=range(4)):\n",
    "    thinkplot.preplot(rows=2, cols=2)\n",
    "    a = viewer.viewee.array\n",
    "    \n",
    "    for i, val in enumerate(vals):\n",
    "        thinkplot.subplot(i+1)\n",
    "        viewer.draw_array(a==vals[i], vmax=1)"
   ]
  },
  {
   "cell_type": "markdown",
   "metadata": {},
   "source": [
    "Here's what they look like:"
   ]
  },
  {
   "cell_type": "code",
   "execution_count": 26,
   "metadata": {
    "collapsed": false
   },
   "outputs": [
    {
     "data": {
      "image/png": "[encoded data removed]",
      "text/plain": [
       "<matplotlib.figure.Figure at 0x7f1ee89cee80>"
      ]
     },
     "metadata": {},
     "output_type": "display_data"
    }
   ],
   "source": [
    "draw_four(viewer3)\n",
    "plt.savefig('chap08-4.pdf')"
   ]
  },
  {
   "cell_type": "markdown",
   "metadata": {},
   "source": [
    "Now we can apply a box-counting algorithm to each level.\n",
    "\n",
    "`count_cells` starts with a single cell in the middle, gradually increases the size of the box, and counts the number of cells in each box."
   ]
  },
  {
   "cell_type": "code",
   "execution_count": 27,
   "metadata": {
    "collapsed": true
   },
   "outputs": [],
   "source": [
    "def count_cells(a):\n",
    "    \"\"\"Counts the number of cells in boxes with increasing size.\n",
    "    \n",
    "    a: NumPy array\n",
    "    \n",
    "    returns: list of (i, i**2, cell count) tuples\n",
    "    \"\"\"\n",
    "    n, m = a.shape\n",
    "    end = min(n, m)\n",
    "    \n",
    "    res = []\n",
    "    for i in range(1, end, 2):\n",
    "        top = (n-i) // 2\n",
    "        left = (m-i) // 2\n",
    "        box = a[top:top+i, left:left+i]\n",
    "        total = np.sum(box)\n",
    "        res.append((i, i**2, total))\n",
    "        \n",
    "    return np.transpose(res)"
   ]
  },
  {
   "cell_type": "markdown",
   "metadata": {},
   "source": [
    "`box_count` takes a pile and a value, extracts the cells that have the given value, calls `count_cells`, and estimates the fractal dimension.\n",
    "\n",
    "If `plot` is `True`, it also generates a graph of cell count versus box size on a log-log scale."
   ]
  },
  {
   "cell_type": "code",
   "execution_count": 28,
   "metadata": {
    "collapsed": true
   },
   "outputs": [],
   "source": [
    "from scipy.stats import linregress\n",
    "\n",
    "def box_count(pile, val=0, plot=False):\n",
    "    \"\"\"Estimates the fractal dimension by box counting.\n",
    "    \n",
    "    pile: SandPile\n",
    "    val: which value from the pile to count\n",
    "    plot: boolean, whether to generate a plot\n",
    "    \n",
    "    returns: estimated fractal dimension\n",
    "    \"\"\"\n",
    "    res = count_cells(pile.array==val)\n",
    "    steps, steps2, cells = res\n",
    "    \n",
    "    # select the range where we have a nonzero number of cells\n",
    "    legit = np.nonzero(cells)\n",
    "    steps = steps[legit]\n",
    "    steps2 = steps2[legit]\n",
    "    cells = cells[legit]\n",
    "\n",
    "    if plot:\n",
    "        thinkplot.preplot(3)\n",
    "        thinkplot.plot(steps, steps2, linestyle='dashed')\n",
    "        thinkplot.plot(steps, cells, label='val=%d' % val)\n",
    "        thinkplot.plot(steps, steps, linestyle='dashed')\n",
    "\n",
    "        thinkplot.config(xscale='log', yscale='log',\n",
    "                         xlim=[1, 200], loc='upper left',\n",
    "                         xlabel='box size', ylabel='cell count')\n",
    "    \n",
    "    params = linregress(np.log(steps), np.log(cells))\n",
    "    return params[0]"
   ]
  },
  {
   "cell_type": "markdown",
   "metadata": {},
   "source": [
    "Finally `box_count_four` applies the box counting algorithm for each value in the sand pile."
   ]
  },
  {
   "cell_type": "code",
   "execution_count": 29,
   "metadata": {
    "collapsed": false
   },
   "outputs": [],
   "source": [
    "def box_count_four(pile, vals=range(4)):\n",
    "    \"\"\"Applies box counting to each value in the pile.\n",
    "    \n",
    "    pile: SandPile\n",
    "    vals: list of values to check\n",
    "    \"\"\"\n",
    "    thinkplot.preplot(rows=2, cols=2)\n",
    "    \n",
    "    dims = []\n",
    "    for i, val in enumerate(vals):\n",
    "        thinkplot.subplot(i+1)\n",
    "        dim = box_count(pile, val, plot=True)\n",
    "        dims.append(dim)\n",
    "        \n",
    "    return dims"
   ]
  },
  {
   "cell_type": "markdown",
   "metadata": {},
   "source": [
    "Here are the results:"
   ]
  },
  {
   "cell_type": "code",
   "execution_count": 30,
   "metadata": {
    "collapsed": false
   },
   "outputs": [
    {
     "data": {
      "image/png": "[encoded data removed]",
      "text/plain": [
       "<matplotlib.figure.Figure at 0x7f1ee0a6d9b0>"
      ]
     },
     "metadata": {},
     "output_type": "display_data"
    }
   ],
   "source": [
    "dims = box_count_four(pile3)\n",
    "plt.savefig('chap08-5.pdf')"
   ]
  },
  {
   "cell_type": "markdown",
   "metadata": {},
   "source": [
    "The lines are reasonably straight, which indicates that we are running the algorithm over a valid range of box sizes.  Here are the estimated slopes:"
   ]
  },
  {
   "cell_type": "code",
   "execution_count": 31,
   "metadata": {
    "collapsed": false
   },
   "outputs": [
    {
     "name": "stdout",
     "output_type": "stream",
     "text": [
      "0  1.871\n",
      "1  3.502\n",
      "2  1.781\n",
      "3  2.084\n"
     ]
    }
   ],
   "source": [
    "for i, dim in enumerate(dims):\n",
    "    print('%d  %0.3f' % (i, dim))"
   ]
  },
  {
   "cell_type": "markdown",
   "metadata": {},
   "source": [
    "The fractal dimension for values 0, 1, and 2 seems to be clearly non-integer, which indicates that the image is fractal.\n",
    "\n",
    "Strictly, the fractal dimension for value 3 is indistinguishable from 2, but given the results for the other values, the apparent curvature of the line, and the appearance of the pattern, it seems likely that it is also fractal. "
   ]
  },
  {
   "cell_type": "markdown",
   "metadata": {},
   "source": [
    "**Exercise:**  Choose a different value of `n` and/or `level` and run this analysis again.  Are the estimated fractal dimensions consistent?"
   ]
  },
  {
   "cell_type": "markdown",
   "metadata": {},
   "source": [
    "## Spectral density"
   ]
  },
  {
   "cell_type": "markdown",
   "metadata": {},
   "source": [
    "Suppose the sandpile made a little click each time a cell toppled.  What would it sound like?\n",
    "\n",
    "`toppled_seq` contains the number of cells that toppled during each time step.  We can use Welch's algorithm to estimate its [power spectral density](https://en.wikipedia.org/wiki/Spectral_density)."
   ]
  },
  {
   "cell_type": "code",
   "execution_count": 32,
   "metadata": {
    "collapsed": false
   },
   "outputs": [
    {
     "data": {
      "text/plain": [
       "1436026"
      ]
     },
     "execution_count": 32,
     "metadata": {},
     "output_type": "execute_result"
    }
   ],
   "source": [
    "signal = pile2.toppled_seq\n",
    "len(signal)"
   ]
  },
  {
   "cell_type": "code",
   "execution_count": 33,
   "metadata": {
    "collapsed": false
   },
   "outputs": [],
   "source": [
    "from scipy.signal import welch\n",
    "\n",
    "nperseg = 2048\n",
    "freqs, powers = welch(signal, nperseg=nperseg, fs=nperseg)"
   ]
  },
  {
   "cell_type": "markdown",
   "metadata": {},
   "source": [
    "And here's what it looks like."
   ]
  },
  {
   "cell_type": "code",
   "execution_count": 34,
   "metadata": {
    "collapsed": false
   },
   "outputs": [
    {
     "data": {
      "image/png": "[encoded data removed]",
      "text/plain": [
       "<matplotlib.figure.Figure at 0x7f1ee1c760b8>"
      ]
     },
     "metadata": {},
     "output_type": "display_data"
    }
   ],
   "source": [
    "x = nperseg\n",
    "ys = np.array([x**1.58, 1]) / 2.7e3\n",
    "thinkplot.plot([1, x], ys, color='gray', linewidth=1)\n",
    "\n",
    "thinkplot.plot(freqs, powers)\n",
    "thinkplot.config(xlabel='frequency', xscale='log', xlim=[1, 1200],\n",
    "                 ylabel='power', yscale='log', ylim=[1e-5, 5])\n",
    "\n",
    "plt.savefig('chap08-6.pdf')"
   ]
  },
  {
   "cell_type": "markdown",
   "metadata": {},
   "source": [
    "The slope of the line is -1.58, which indicates that this spectrum is pink noise with parameter $\\beta=1.58$."
   ]
  },
  {
   "cell_type": "markdown",
   "metadata": {},
   "source": [
    "**Exercise:**  Choose a different value of `nperseg` and run this analysis again.  What are the pros and cons of larger segment lengths?  Modify the code to run the model longer and see if you can get a less noisy estimate of the spectrum."
   ]
  },
  {
   "cell_type": "markdown",
   "metadata": {},
   "source": [
    "## Exercises"
   ]
  },
  {
   "cell_type": "markdown",
   "metadata": {},
   "source": [
    "**Exercise:** To test whether the distributions of `T` and `S` are heavy-tailed, we plotted their histograms on a log-log scale, which is what Bak, Tang and Wiesenfeld show in their paper.  But as we saw in Chapter 4, this visualization can obscure the shape of the distribution.  Using the same data, make a plot that shows the CDFs of `S` and `T`.  What can you say about the shape of these distributions?  Do they follow a power law?  Are they heavy tailed?\n",
    "\n",
    "You might find it helpful to plot the CDFs on a log-x scale and on a log-log scale."
   ]
  },
  {
   "cell_type": "code",
   "execution_count": 39,
   "metadata": {
    "collapsed": false
   },
   "outputs": [
    {
     "data": {
      "image/png": "[encoded data removed]",
      "text/plain": [
       "<matplotlib.figure.Figure at 0x7f1ee18549e8>"
      ]
     },
     "metadata": {},
     "output_type": "display_data"
    }
   ],
   "source": [
    "#A la homework 1\n",
    "s_cdf = Cdf(S)\n",
    "thinkplot.Cdf(s_cdf)\n",
    "thinkplot.config(xscale = \"log\", xlabel = \"size\")"
   ]
  },
  {
   "cell_type": "code",
   "execution_count": 40,
   "metadata": {
    "collapsed": false
   },
   "outputs": [
    {
     "data": {
      "image/png": "[encoded data removed]",
      "text/plain": [
       "<matplotlib.figure.Figure at 0x7f1ee1bd9be0>"
      ]
     },
     "metadata": {},
     "output_type": "display_data"
    }
   ],
   "source": [
    "thinkplot.Cdf(s_cdf, complement = True)\n",
    "thinkplot.config(xscale = \"log\", yscale = \"log\", xlabel = \"size\")"
   ]
  },
  {
   "cell_type": "code",
   "execution_count": 41,
   "metadata": {
    "collapsed": false
   },
   "outputs": [
    {
     "data": {
      "image/png": "[encoded data removed]",
      "text/plain": [
       "<matplotlib.figure.Figure at 0x7f1ee1b066a0>"
      ]
     },
     "metadata": {},
     "output_type": "display_data"
    }
   ],
   "source": [
    "t_cdf = Cdf(T)\n",
    "thinkplot.Cdf(t_cdf)\n",
    "thinkplot.config(xscale = \"log\", xlabel = \"size\")"
   ]
  },
  {
   "cell_type": "code",
   "execution_count": 42,
   "metadata": {
    "collapsed": false
   },
   "outputs": [
    {
     "data": {
      "image/png": "[encoded data removed]",
      "text/plain": [
       "<matplotlib.figure.Figure at 0x7f1eecc97c50>"
      ]
     },
     "metadata": {},
     "output_type": "display_data"
    }
   ],
   "source": [
    "thinkplot.Cdf(t_cdf, complement = True)\n",
    "thinkplot.config(xscale = \"log\", yscale = \"log\", xlabel = \"size\")"
   ]
  },
  {
   "cell_type": "markdown",
   "metadata": {},
   "source": [
    "Neither of these look especially linear on a log log scale, which doesn't make them very powerlaw-ish. Looking at them on a log x scale, they still look kinda heavy tailed with that taper."
   ]
  },
  {
   "cell_type": "markdown",
   "metadata": {},
   "source": [
    "**Exercise:** In Section 8.5 we showed that the initial configuration of the sand pile model produces fractal patterns.  But after we drop a large number of random grains, the patterns look more random.\n",
    "\n",
    "Starting with the example in Section 8.5, run the sand pile model for a while and then compute fractal dimensions for each of the 4 levels.  Is the sand pile model fractal in steady state?"
   ]
  },
  {
   "cell_type": "code",
   "execution_count": 47,
   "metadata": {
    "collapsed": false
   },
   "outputs": [],
   "source": [
    "for step in range(10000):\n",
    "    pile3.drop_and_run()"
   ]
  },
  {
   "cell_type": "code",
   "execution_count": 48,
   "metadata": {
    "collapsed": false
   },
   "outputs": [
    {
     "name": "stdout",
     "output_type": "stream",
     "text": [
      "[1.9332214680106623, 2.1472255481647098, 1.8583556425560412, 2.0083020180638527]\n"
     ]
    },
    {
     "data": {
      "image/png": "[encoded data removed]",
      "text/plain": [
       "<matplotlib.figure.Figure at 0x7f1ee032e4a8>"
      ]
     },
     "metadata": {},
     "output_type": "display_data"
    }
   ],
   "source": [
    "sandmensions = box_count_four(pile3)\n",
    "print(sandmensions)"
   ]
  },
  {
   "cell_type": "markdown",
   "metadata": {
    "collapsed": false
   },
   "source": [
    "Welp, that took a minute. Looks like they all are ~2, but not close enought to tell. Level 3 looks the most fractal, level 1 and 4 look very not."
   ]
  },
  {
   "cell_type": "code",
   "execution_count": 36,
   "metadata": {
    "collapsed": false
   },
   "outputs": [],
   "source": [
    "# Solution goes here"
   ]
  },
  {
   "cell_type": "code",
   "execution_count": 37,
   "metadata": {
    "collapsed": true
   },
   "outputs": [],
   "source": [
    "# Solution goes here"
   ]
  },
  {
   "cell_type": "markdown",
   "metadata": {},
   "source": [
    "**Exercise:** Another version of the sand pile model, called the \"single source\" model, starts from a different initial condition: instead of all cells at the same level, all cells are set to 0 except the center cell, which is set to a very large value.\n",
    "\n",
    "Write a function that creates a `SandPile` object, sets up the single source initial condition, and runs until the pile reaches equilibrium.  Does the results appear to be fractal?\n",
    "\n",
    "You can read more about this version of the sand pile model at http://math.cmu.edu/~wes/sandgallery.html"
   ]
  },
  {
   "cell_type": "code",
   "execution_count": 38,
   "metadata": {
    "collapsed": true
   },
   "outputs": [],
   "source": [
    "# Solution goes here"
   ]
  },
  {
   "cell_type": "code",
   "execution_count": 39,
   "metadata": {
    "collapsed": false
   },
   "outputs": [],
   "source": [
    "# Solution goes here"
   ]
  },
  {
   "cell_type": "code",
   "execution_count": 40,
   "metadata": {
    "collapsed": false
   },
   "outputs": [],
   "source": [
    "# Solution goes here"
   ]
  },
  {
   "cell_type": "code",
   "execution_count": 41,
   "metadata": {
    "collapsed": false
   },
   "outputs": [],
   "source": [
    "# Solution goes here"
   ]
  },
  {
   "cell_type": "code",
   "execution_count": 42,
   "metadata": {
    "collapsed": false
   },
   "outputs": [],
   "source": [
    "# Solution goes here"
   ]
  },
  {
   "cell_type": "code",
   "execution_count": 43,
   "metadata": {
    "collapsed": false
   },
   "outputs": [],
   "source": [
    "# Solution goes here"
   ]
  },
  {
   "cell_type": "code",
   "execution_count": 44,
   "metadata": {
    "collapsed": true
   },
   "outputs": [],
   "source": [
    "# Solution goes here"
   ]
  }
 ],
 "metadata": {
  "anaconda-cloud": {},
  "kernelspec": {
   "display_name": "Python [Root]",
   "language": "python",
   "name": "Python [Root]"
  },
  "language_info": {
   "codemirror_mode": {
    "name": "ipython",
    "version": 3
   },
   "file_extension": ".py",
   "mimetype": "text/x-python",
   "name": "python",
   "nbconvert_exporter": "python",
   "pygments_lexer": "ipython3",
   "version": "3.5.2"
  }
 },
 "nbformat": 4,
 "nbformat_minor": 0
}
