{
 "cells": [
  {
   "cell_type": "markdown",
   "metadata": {},
   "source": [
    "# Cellular automata\n",
    "\n",
    "Code examples from [Think Complexity, 2nd edition](http://greenteapress.com/wp/complexity2), Chapter 5\n",
    "\n",
    "Copyright 2016 Allen Downey, [MIT License](http://opensource.org/licenses/MIT)"
   ]
  },
  {
   "cell_type": "code",
   "execution_count": 1,
   "metadata": {
    "collapsed": true
   },
   "outputs": [],
   "source": [
    "from __future__ import print_function, division\n",
    "\n",
    "%matplotlib inline\n",
    "%precision 3\n",
    "\n",
    "import warnings\n",
    "warnings.filterwarnings('ignore')\n",
    "\n",
    "import numpy as np\n",
    "import matplotlib.pyplot as plt\n",
    "\n",
    "import thinkplot"
   ]
  },
  {
   "cell_type": "code",
   "execution_count": 2,
   "metadata": {
    "collapsed": true
   },
   "outputs": [],
   "source": [
    "from thinkstats2 import RandomSeed\n",
    "RandomSeed(17)"
   ]
  },
  {
   "cell_type": "markdown",
   "metadata": {},
   "source": [
    "## Zero-dimensional CA"
   ]
  },
  {
   "cell_type": "markdown",
   "metadata": {},
   "source": [
    "Here's a simple implementation of the 0-D CA I mentioned in the book, with one cell."
   ]
  },
  {
   "cell_type": "code",
   "execution_count": 3,
   "metadata": {
    "collapsed": false
   },
   "outputs": [
    {
     "name": "stdout",
     "output_type": "stream",
     "text": [
      "[ 0.  0.  0.  0.  0.  0.  0.  0.  0.  0.]\n"
     ]
    }
   ],
   "source": [
    "n = 10\n",
    "x = np.zeros(n)\n",
    "print(x)"
   ]
  },
  {
   "cell_type": "markdown",
   "metadata": {},
   "source": [
    "To get the state of the cell in the next time step, we increment the current state mod 2."
   ]
  },
  {
   "cell_type": "code",
   "execution_count": 4,
   "metadata": {
    "collapsed": false
   },
   "outputs": [
    {
     "data": {
      "text/plain": [
       "1.000"
      ]
     },
     "execution_count": 4,
     "metadata": {},
     "output_type": "execute_result"
    }
   ],
   "source": [
    "x[1] = (x[0] + 1) % 2\n",
    "x[1]"
   ]
  },
  {
   "cell_type": "markdown",
   "metadata": {},
   "source": [
    "Filling in the rest of the array."
   ]
  },
  {
   "cell_type": "code",
   "execution_count": 5,
   "metadata": {
    "collapsed": false
   },
   "outputs": [
    {
     "name": "stdout",
     "output_type": "stream",
     "text": [
      "[ 0.  1.  0.  1.  0.  1.  0.  1.  0.  1.]\n"
     ]
    }
   ],
   "source": [
    "for i in range(2, 10):\n",
    "    x[i] = (x[i-1] + 1) % 2\n",
    "    \n",
    "print(x)"
   ]
  },
  {
   "cell_type": "markdown",
   "metadata": {},
   "source": [
    "So the behavior of this CA is simple: it blinks."
   ]
  },
  {
   "cell_type": "markdown",
   "metadata": {},
   "source": [
    "## One-dimensional CA"
   ]
  },
  {
   "cell_type": "markdown",
   "metadata": {},
   "source": [
    "Just as we used a 1-D array to show the state of a single cell over time, we'll use a 2-D array to show the state of a 1-D CA over time, with one column per cell and one row per timestep."
   ]
  },
  {
   "cell_type": "code",
   "execution_count": 6,
   "metadata": {
    "collapsed": false
   },
   "outputs": [
    {
     "name": "stdout",
     "output_type": "stream",
     "text": [
      "[[0 0 0 0 0 1 0 0 0 0 0]\n",
      " [0 0 0 0 0 0 0 0 0 0 0]\n",
      " [0 0 0 0 0 0 0 0 0 0 0]\n",
      " [0 0 0 0 0 0 0 0 0 0 0]\n",
      " [0 0 0 0 0 0 0 0 0 0 0]]\n"
     ]
    }
   ],
   "source": [
    "rows = 5\n",
    "cols = 11\n",
    "array = np.zeros((rows, cols), dtype=np.int8)\n",
    "array[0, 5] = 1\n",
    "print(array)"
   ]
  },
  {
   "cell_type": "markdown",
   "metadata": {},
   "source": [
    "To plot the array I use `plt.imshow`"
   ]
  },
  {
   "cell_type": "code",
   "execution_count": 7,
   "metadata": {
    "collapsed": false
   },
   "outputs": [],
   "source": [
    "def plot_ca(array):\n",
    "    cmap = plt.get_cmap('Blues')\n",
    "    plt.imshow(array, interpolation='none', cmap=cmap)"
   ]
  },
  {
   "cell_type": "markdown",
   "metadata": {},
   "source": [
    "Here's what it looks like after we initialize the first row."
   ]
  },
  {
   "cell_type": "code",
   "execution_count": 8,
   "metadata": {
    "collapsed": false
   },
   "outputs": [
    {
     "data": {
      "image/png": "[encoded data removed]",
      "text/plain": [
       "<matplotlib.figure.Figure at 0x7fc92aaa3588>"
      ]
     },
     "metadata": {},
     "output_type": "display_data"
    }
   ],
   "source": [
    "plot_ca(array)"
   ]
  },
  {
   "cell_type": "markdown",
   "metadata": {},
   "source": [
    "And here's the function that fills in the next row.  The rule for this CA is to take the sum of a cell and its two neighbors mod 2."
   ]
  },
  {
   "cell_type": "code",
   "execution_count": 9,
   "metadata": {
    "collapsed": true
   },
   "outputs": [],
   "source": [
    "def step(array, i):\n",
    "    rows, cols = array.shape\n",
    "    for j in range(1, cols):\n",
    "        array[i, j] = sum(array[i-1, j-1:j+2]) % 2"
   ]
  },
  {
   "cell_type": "markdown",
   "metadata": {},
   "source": [
    "Here's the second row."
   ]
  },
  {
   "cell_type": "code",
   "execution_count": 10,
   "metadata": {
    "collapsed": false
   },
   "outputs": [
    {
     "data": {
      "image/png": "[encoded data removed]",
      "text/plain": [
       "<matplotlib.figure.Figure at 0x7fc921667eb8>"
      ]
     },
     "metadata": {},
     "output_type": "display_data"
    }
   ],
   "source": [
    "step(array, 1)\n",
    "plot_ca(array)"
   ]
  },
  {
   "cell_type": "markdown",
   "metadata": {},
   "source": [
    "And here's what it looks like with the rest of the cells filled in."
   ]
  },
  {
   "cell_type": "code",
   "execution_count": 11,
   "metadata": {
    "collapsed": false
   },
   "outputs": [
    {
     "data": {
      "image/png": "[encoded data removed]",
      "text/plain": [
       "<matplotlib.figure.Figure at 0x7fc921612390>"
      ]
     },
     "metadata": {},
     "output_type": "display_data"
    }
   ],
   "source": [
    "for i in range(1, rows):\n",
    "    step(array, i)\n",
    "\n",
    "plot_ca(array)"
   ]
  },
  {
   "cell_type": "markdown",
   "metadata": {},
   "source": [
    "For a simple set of rules, the behavior is more interesting than you might expect."
   ]
  },
  {
   "cell_type": "markdown",
   "metadata": {},
   "source": [
    "**Exercise:** Modify this code to increase the number of rows and columns and see what this CA does after more time steps."
   ]
  },
  {
   "cell_type": "code",
   "execution_count": 18,
   "metadata": {
    "collapsed": false
   },
   "outputs": [
    {
     "data": {
      "image/png": "[encoded data removed]",
      "text/plain": [
       "<matplotlib.figure.Figure at 0x7fc921b4cf28>"
      ]
     },
     "metadata": {},
     "output_type": "display_data"
    }
   ],
   "source": [
    "rows2 = 20\n",
    "cols2 = 41\n",
    "array2 = np.zeros((rows2, cols2), dtype=np.int8)\n",
    "array2[0, 20] = 1\n",
    "\n",
    "for i in range(1, rows2):\n",
    "    step(array2, i)\n",
    "\n",
    "plot_ca(array2)"
   ]
  },
  {
   "cell_type": "markdown",
   "metadata": {},
   "source": [
    "## Cross correlation"
   ]
  },
  {
   "cell_type": "markdown",
   "metadata": {},
   "source": [
    "We can step the CA through time more quickly using \"cross correlation\".  To see how it works, the first step is to replace the slice operator with array multiplication.\n",
    "\n",
    "This window selects the first three elements of an array:"
   ]
  },
  {
   "cell_type": "code",
   "execution_count": 19,
   "metadata": {
    "collapsed": false
   },
   "outputs": [
    {
     "name": "stdout",
     "output_type": "stream",
     "text": [
      "[1 1 1 0 0 0 0 0 0 0 0]\n",
      "[0 1 0 0 0 1 0 0 0 1 0]\n",
      "[0 1 0 0 0 0 0 0 0 0 0]\n"
     ]
    }
   ],
   "source": [
    "window = np.zeros(cols, dtype=np.int8)\n",
    "window[:3] = 1\n",
    "print(window)\n",
    "print(array[4])\n",
    "print(window * array[4])"
   ]
  },
  {
   "cell_type": "markdown",
   "metadata": {},
   "source": [
    "Then we can use `sum` and the modulus operator to compute the state of the first cell during the next timestep."
   ]
  },
  {
   "cell_type": "code",
   "execution_count": 20,
   "metadata": {
    "collapsed": false
   },
   "outputs": [
    {
     "data": {
      "text/plain": [
       "1"
      ]
     },
     "execution_count": 20,
     "metadata": {},
     "output_type": "execute_result"
    }
   ],
   "source": [
    "sum(window * array[4]) % 2"
   ]
  },
  {
   "cell_type": "markdown",
   "metadata": {},
   "source": [
    "To compute the state of the next cell, we shift the window to the right."
   ]
  },
  {
   "cell_type": "code",
   "execution_count": 21,
   "metadata": {
    "collapsed": false
   },
   "outputs": [
    {
     "name": "stdout",
     "output_type": "stream",
     "text": [
      "[0 1 1 1 0 0 0 0 0 0 0]\n"
     ]
    }
   ],
   "source": [
    "window = np.roll(window, 1)\n",
    "print(window)"
   ]
  },
  {
   "cell_type": "markdown",
   "metadata": {},
   "source": [
    "And repeat the multiply-sum-modulus operations."
   ]
  },
  {
   "cell_type": "code",
   "execution_count": 22,
   "metadata": {
    "collapsed": false
   },
   "outputs": [
    {
     "data": {
      "text/plain": [
       "1"
      ]
     },
     "execution_count": 22,
     "metadata": {},
     "output_type": "execute_result"
    }
   ],
   "source": [
    "sum(window * array[4]) % 2"
   ]
  },
  {
   "cell_type": "markdown",
   "metadata": {},
   "source": [
    "Now we can rewrite `step` using these operations."
   ]
  },
  {
   "cell_type": "code",
   "execution_count": 23,
   "metadata": {
    "collapsed": true
   },
   "outputs": [],
   "source": [
    "def step2(array, i):\n",
    "    rows, cols = array.shape\n",
    "    window = np.zeros(cols)\n",
    "    window[:3] = 1\n",
    "    for j in range(1, cols):\n",
    "        array[i, j] = sum(window * array[i-1]) % 2\n",
    "        window = np.roll(window, 1)"
   ]
  },
  {
   "cell_type": "markdown",
   "metadata": {},
   "source": [
    "And we can confirm that we get the same result."
   ]
  },
  {
   "cell_type": "code",
   "execution_count": 24,
   "metadata": {
    "collapsed": false
   },
   "outputs": [
    {
     "data": {
      "image/png": "[encoded data removed]",
      "text/plain": [
       "<matplotlib.figure.Figure at 0x7fc921b62da0>"
      ]
     },
     "metadata": {},
     "output_type": "display_data"
    }
   ],
   "source": [
    "for i in range(1, rows):\n",
    "    step2(array, i)\n",
    "\n",
    "plot_ca(array)"
   ]
  },
  {
   "cell_type": "markdown",
   "metadata": {},
   "source": [
    "That sequence of operations is called a \"sliding dot product\" or \"cross correlation\", and NumPy provides a function that computes it.  So we can replace the `for` loop with `np.correlate`.  The parameter `mode='same'` means that the result has the same length as `array[i]`. "
   ]
  },
  {
   "cell_type": "code",
   "execution_count": 25,
   "metadata": {
    "collapsed": true
   },
   "outputs": [],
   "source": [
    "def step3(array, i):\n",
    "    window = np.array([1, 1, 1])\n",
    "    array[i] = np.correlate(array[i-1], window, mode='same') % 2"
   ]
  },
  {
   "cell_type": "markdown",
   "metadata": {},
   "source": [
    "And the result is the same."
   ]
  },
  {
   "cell_type": "code",
   "execution_count": 26,
   "metadata": {
    "collapsed": false
   },
   "outputs": [
    {
     "data": {
      "image/png": "[encoded data removed]",
      "text/plain": [
       "<matplotlib.figure.Figure at 0x7fc9213b3b00>"
      ]
     },
     "metadata": {},
     "output_type": "display_data"
    }
   ],
   "source": [
    "for i in range(1, rows):\n",
    "    step3(array, i)\n",
    "\n",
    "plot_ca(array)"
   ]
  },
  {
   "cell_type": "markdown",
   "metadata": {},
   "source": [
    "So that's good enough for a CA that only depends on the total number of \"on\" cells, but for more general CAs, we need a table that maps from the configuration of the neighborhood to the future state of the center cell.\n",
    "\n",
    "The following function makes the table by interpreting the Rule number in binary."
   ]
  },
  {
   "cell_type": "code",
   "execution_count": 27,
   "metadata": {
    "collapsed": true
   },
   "outputs": [],
   "source": [
    "def make_table(rule):\n",
    "    \"\"\"Make the table for a given CA rule.\n",
    "    \n",
    "    rule: int 0-255\n",
    "    \n",
    "    returns: array of 8 0s and 1s\n",
    "    \"\"\"\n",
    "    rule = np.array([rule], dtype=np.uint8)\n",
    "    table = np.unpackbits(rule)[::-1]\n",
    "    return table"
   ]
  },
  {
   "cell_type": "markdown",
   "metadata": {},
   "source": [
    "Here's what it looks like as an array:"
   ]
  },
  {
   "cell_type": "code",
   "execution_count": 28,
   "metadata": {
    "collapsed": false
   },
   "outputs": [
    {
     "name": "stdout",
     "output_type": "stream",
     "text": [
      "[0 1 1 0 1 0 0 1]\n"
     ]
    }
   ],
   "source": [
    "table = make_table(150)\n",
    "print(table)"
   ]
  },
  {
   "cell_type": "markdown",
   "metadata": {},
   "source": [
    "If we correlate the row with the window `[4, 2, 1]`, it treats each neighborhood as a binary number between 000 and 111."
   ]
  },
  {
   "cell_type": "code",
   "execution_count": 29,
   "metadata": {
    "collapsed": false
   },
   "outputs": [
    {
     "name": "stdout",
     "output_type": "stream",
     "text": [
      "[0 0 0 0 0 1 0 0 0 0 0]\n",
      "[0 0 0 0 1 2 4 0 0 0 0]\n"
     ]
    }
   ],
   "source": [
    "window = [4, 2, 1]\n",
    "corr = np.correlate(array[0], window, mode='same')\n",
    "print(array[0])\n",
    "print(corr)"
   ]
  },
  {
   "cell_type": "markdown",
   "metadata": {},
   "source": [
    "Now we can use the result from `np.correlate` as an index into the table; the result is the next row of the array."
   ]
  },
  {
   "cell_type": "code",
   "execution_count": 30,
   "metadata": {
    "collapsed": false
   },
   "outputs": [
    {
     "name": "stdout",
     "output_type": "stream",
     "text": [
      "[0 0 0 0 1 1 1 0 0 0 0]\n"
     ]
    }
   ],
   "source": [
    "array[1] = table[corr]\n",
    "print(array[1])"
   ]
  },
  {
   "cell_type": "markdown",
   "metadata": {},
   "source": [
    "We can wrap up that code in a function:"
   ]
  },
  {
   "cell_type": "code",
   "execution_count": 31,
   "metadata": {
    "collapsed": true
   },
   "outputs": [],
   "source": [
    "def step4(array, i):\n",
    "    window = np.array([4, 2, 1])\n",
    "    corr = np.correlate(array[i-1], window, mode='same')\n",
    "    array[i] = table[corr]"
   ]
  },
  {
   "cell_type": "markdown",
   "metadata": {},
   "source": [
    "And test it again."
   ]
  },
  {
   "cell_type": "code",
   "execution_count": 32,
   "metadata": {
    "collapsed": false
   },
   "outputs": [
    {
     "data": {
      "image/png": "[encoded data removed]",
      "text/plain": [
       "<matplotlib.figure.Figure at 0x7fc9216452b0>"
      ]
     },
     "metadata": {},
     "output_type": "display_data"
    }
   ],
   "source": [
    "for i in range(1, rows):\n",
    "    step4(array, i)\n",
    "\n",
    "plot_ca(array)"
   ]
  },
  {
   "cell_type": "markdown",
   "metadata": {},
   "source": [
    "How did I know that Rule 150 is the same as the previous CA?  I wrote out the table and converted it to binary."
   ]
  },
  {
   "cell_type": "markdown",
   "metadata": {
    "collapsed": true
   },
   "source": [
    "## The Cell1D object"
   ]
  },
  {
   "cell_type": "markdown",
   "metadata": {},
   "source": [
    "`Cell1D.py` provides a `Cell1D` class that encapsulates the code from the previous section.\n",
    "\n",
    "Here's an example that runs a Rule 50 CA for 10 steps."
   ]
  },
  {
   "cell_type": "code",
   "execution_count": 86,
   "metadata": {
    "collapsed": false
   },
   "outputs": [],
   "source": [
    "from Cell1D import Cell1D, Cell1DViewer"
   ]
  },
  {
   "cell_type": "code",
   "execution_count": 34,
   "metadata": {
    "collapsed": false
   },
   "outputs": [],
   "source": [
    "rule = 50\n",
    "n = 10\n",
    "ca = Cell1D(rule, n)\n",
    "ca.start_single()\n",
    "ca.loop(n-1)"
   ]
  },
  {
   "cell_type": "markdown",
   "metadata": {},
   "source": [
    "We can display the results:"
   ]
  },
  {
   "cell_type": "code",
   "execution_count": 35,
   "metadata": {
    "collapsed": false
   },
   "outputs": [
    {
     "data": {
      "image/png": "[encoded data removed]",
      "text/plain": [
       "<matplotlib.figure.Figure at 0x7fc92129b710>"
      ]
     },
     "metadata": {},
     "output_type": "display_data"
    }
   ],
   "source": [
    "viewer = Cell1DViewer(ca)\n",
    "viewer.draw()\n",
    "\n",
    "plt.savefig('chap05-1.pdf')"
   ]
  },
  {
   "cell_type": "markdown",
   "metadata": {},
   "source": [
    "Here's the Rule 50 table."
   ]
  },
  {
   "cell_type": "code",
   "execution_count": 36,
   "metadata": {
    "collapsed": false
   },
   "outputs": [
    {
     "name": "stdout",
     "output_type": "stream",
     "text": [
      "[0 1 0 0 1 1 0 0]\n"
     ]
    }
   ],
   "source": [
    "print(ca.table)"
   ]
  },
  {
   "cell_type": "markdown",
   "metadata": {},
   "source": [
    "Another example:"
   ]
  },
  {
   "cell_type": "code",
   "execution_count": 37,
   "metadata": {
    "collapsed": true
   },
   "outputs": [],
   "source": [
    "rule = 150\n",
    "n = 5\n",
    "ca = Cell1D(rule, n)\n",
    "ca.start_single()\n",
    "ca.loop(n-1)"
   ]
  },
  {
   "cell_type": "code",
   "execution_count": 38,
   "metadata": {
    "collapsed": false
   },
   "outputs": [
    {
     "data": {
      "image/png": "[encoded data removed]",
      "text/plain": [
       "<matplotlib.figure.Figure at 0x7fc9212c9710>"
      ]
     },
     "metadata": {},
     "output_type": "display_data"
    }
   ],
   "source": [
    "viewer = Cell1DViewer(ca)\n",
    "viewer.draw()\n",
    "\n",
    "plt.savefig('chap05-2.pdf')"
   ]
  },
  {
   "cell_type": "markdown",
   "metadata": {},
   "source": [
    "And one more example showing recursive structure."
   ]
  },
  {
   "cell_type": "code",
   "execution_count": 39,
   "metadata": {
    "collapsed": true
   },
   "outputs": [],
   "source": [
    "rule = 18\n",
    "n = 64\n",
    "ca = Cell1D(rule, n)\n",
    "ca.start_single()\n",
    "ca.loop(n-1)"
   ]
  },
  {
   "cell_type": "code",
   "execution_count": 40,
   "metadata": {
    "collapsed": false
   },
   "outputs": [
    {
     "data": {
      "image/png": "[encoded data removed]",
      "text/plain": [
       "<matplotlib.figure.Figure at 0x7fc920fc2c50>"
      ]
     },
     "metadata": {},
     "output_type": "display_data"
    }
   ],
   "source": [
    "viewer = Cell1DViewer(ca)\n",
    "viewer.draw()\n",
    "\n",
    "plt.savefig('chap05-3.pdf')"
   ]
  },
  {
   "cell_type": "markdown",
   "metadata": {},
   "source": [
    "Rule 30 generates a sequence of bits that is indistinguishable from random:"
   ]
  },
  {
   "cell_type": "code",
   "execution_count": 41,
   "metadata": {
    "collapsed": true
   },
   "outputs": [],
   "source": [
    "rule = 30\n",
    "n = 100\n",
    "ca = Cell1D(rule, n)\n",
    "ca.start_single()\n",
    "ca.loop(n-1)"
   ]
  },
  {
   "cell_type": "code",
   "execution_count": 42,
   "metadata": {
    "collapsed": false
   },
   "outputs": [
    {
     "data": {
      "image/png": "[encoded data removed]",
      "text/plain": [
       "<matplotlib.figure.Figure at 0x7fc92138f908>"
      ]
     },
     "metadata": {},
     "output_type": "display_data"
    }
   ],
   "source": [
    "viewer = Cell1DViewer(ca)\n",
    "viewer.draw()\n",
    "\n",
    "plt.savefig('chap05-4.pdf')"
   ]
  },
  {
   "cell_type": "markdown",
   "metadata": {},
   "source": [
    "And Rule 110 is Turing complete!"
   ]
  },
  {
   "cell_type": "code",
   "execution_count": 43,
   "metadata": {
    "collapsed": true
   },
   "outputs": [],
   "source": [
    "rule = 110\n",
    "n = 100\n",
    "ca = Cell1D(rule, n)\n",
    "ca.start_single()\n",
    "ca.loop(n-1)"
   ]
  },
  {
   "cell_type": "code",
   "execution_count": 44,
   "metadata": {
    "collapsed": false
   },
   "outputs": [
    {
     "data": {
      "image/png": "[encoded data removed]",
      "text/plain": [
       "<matplotlib.figure.Figure at 0x7fc920f66668>"
      ]
     },
     "metadata": {},
     "output_type": "display_data"
    }
   ],
   "source": [
    "viewer = Cell1DViewer(ca)\n",
    "viewer.draw()\n",
    "\n",
    "plt.savefig('chap05-5.pdf')"
   ]
  },
  {
   "cell_type": "markdown",
   "metadata": {},
   "source": [
    "Heres a longer run that has some spaceships."
   ]
  },
  {
   "cell_type": "code",
   "execution_count": 45,
   "metadata": {
    "collapsed": true
   },
   "outputs": [],
   "source": [
    "rule = 110\n",
    "n = 600\n",
    "ca = Cell1D(rule, n)\n",
    "ca.start_random()\n",
    "ca.loop(n-1)"
   ]
  },
  {
   "cell_type": "code",
   "execution_count": 46,
   "metadata": {
    "collapsed": false
   },
   "outputs": [
    {
     "data": {
      "image/png": "[encoded data removed]",
      "text/plain": [
       "<matplotlib.figure.Figure at 0x7fc920f9b7b8>"
      ]
     },
     "metadata": {},
     "output_type": "display_data"
    }
   ],
   "source": [
    "viewer = Cell1DViewer(ca)\n",
    "viewer.draw()\n",
    "\n",
    "plt.savefig('chap05-6.pdf')"
   ]
  },
  {
   "cell_type": "markdown",
   "metadata": {},
   "source": [
    "## Exercises"
   ]
  },
  {
   "cell_type": "markdown",
   "metadata": {},
   "source": [
    "**Exercise:** This exercise asks you to experiment with Rule 110 and see how\n",
    "many spaceships you can find.\n",
    "\n",
    "1. Read the [Wikipedia page about Rule 110](https://en.wikipedia.org/wiki/Rule_110), which describes its background pattern and spaceships.\n",
    "\n",
    "2. Create a Rule 110 CA with an initial condition that yields the\n",
    "  stable background pattern.  Note that the CA class provides\n",
    "`start_string`, which allow you to initialize the state of\n",
    "the array using a string of `1`s and `0`s.\n",
    "\n",
    "3. Modify the initial condition by adding different patterns in the\n",
    "  center of the row and see which ones yield spaceships.  You might\n",
    "  want to enumerate all possible patterns of $n$ bits, for some\n",
    "  reasonable value of $n$.  For each spaceship, can you find the\n",
    "  period and rate of translation?  What is the biggest spaceship you\n",
    "  can find?\n",
    "\n",
    "4. What happens when spaceships collide?"
   ]
  },
  {
   "cell_type": "code",
   "execution_count": 85,
   "metadata": {
    "collapsed": false
   },
   "outputs": [
    {
     "data": {
      "image/png": "[encoded data removed]",
      "text/plain": [
       "<matplotlib.figure.Figure at 0x7fc921b2cf28>"
      ]
     },
     "metadata": {},
     "output_type": "display_data"
    }
   ],
   "source": [
    "from Cell1D import Wrap1D\n",
    "rule = 110\n",
    "n = 2\n",
    "ca = Cell1D(rule, n, n+1)\n",
    "ca.start_string(\"0001001101111100010011011111\")\n",
    "ca.loop(n-1)\n",
    "viewer = Cell1DViewer(ca)\n",
    "viewer.draw()"
   ]
  },
  {
   "cell_type": "code",
   "execution_count": 90,
   "metadata": {
    "collapsed": false
   },
   "outputs": [
    {
     "data": {
      "image/png": "[encoded data removed]",
      "text/plain": [
       "<matplotlib.figure.Figure at 0x7fc920fab198>"
      ]
     },
     "metadata": {},
     "output_type": "display_data"
    }
   ],
   "source": [
    "stable = \"00010011011111\"\n",
    "start = (stable * 3) + \"111\" + (stable * 3)\n",
    "n = len(start)-1\n",
    "ca = Cell1D(rule, n, n+1)\n",
    "ca.start_string(start)\n",
    "ca.loop(n-1)\n",
    "viewer = Cell1DViewer(ca)\n",
    "viewer.draw() #Messed up around edges"
   ]
  },
  {
   "cell_type": "code",
   "execution_count": 91,
   "metadata": {
    "collapsed": false
   },
   "outputs": [
    {
     "data": {
      "image/png": "[encoded data removed]",
      "text/plain": [
       "<matplotlib.figure.Figure at 0x7fc9213d4780>"
      ]
     },
     "metadata": {},
     "output_type": "display_data"
    }
   ],
   "source": [
    "start = (stable * 3) + \"1001111\" + (stable * 3)\n",
    "n = len(start)-1\n",
    "ca = Cell1D(rule, n, n+1)\n",
    "ca.start_string(start)\n",
    "ca.loop(n-1)\n",
    "viewer = Cell1DViewer(ca)\n",
    "viewer.draw()"
   ]
  },
  {
   "cell_type": "code",
   "execution_count": 92,
   "metadata": {
    "collapsed": false
   },
   "outputs": [
    {
     "data": {
      "image/png": "[encoded data removed]",
      "text/plain": [
       "<matplotlib.figure.Figure at 0x7fc921b5b5f8>"
      ]
     },
     "metadata": {},
     "output_type": "display_data"
    }
   ],
   "source": [
    "start = (stable * 3) + \"0001110111\" + (stable * 3)\n",
    "n = len(start)-1\n",
    "ca = Cell1D(rule, n, n+1)\n",
    "ca.start_string(start)\n",
    "ca.loop(n-1)\n",
    "viewer = Cell1DViewer(ca)\n",
    "viewer.draw()"
   ]
  },
  {
   "cell_type": "code",
   "execution_count": 93,
   "metadata": {
    "collapsed": false
   },
   "outputs": [
    {
     "data": {
      "image/png": "[encoded data removed]",
      "text/plain": [
       "<matplotlib.figure.Figure at 0x7fc920fb4518>"
      ]
     },
     "metadata": {},
     "output_type": "display_data"
    }
   ],
   "source": [
    "start = (stable * 3) + \"0001110111\" + (stable * 2) + \"111\"+ (stable * 3)\n",
    "n = len(start)-1\n",
    "ca = Cell1D(rule, n, n+1)\n",
    "ca.start_string(start)\n",
    "ca.loop(n-1)\n",
    "viewer = Cell1DViewer(ca)\n",
    "viewer.draw()"
   ]
  },
  {
   "cell_type": "code",
   "execution_count": 45,
   "metadata": {
    "collapsed": false
   },
   "outputs": [],
   "source": [
    "# Solution goes here"
   ]
  },
  {
   "cell_type": "code",
   "execution_count": 46,
   "metadata": {
    "collapsed": false
   },
   "outputs": [],
   "source": [
    "# Solution goes here"
   ]
  },
  {
   "cell_type": "markdown",
   "metadata": {},
   "source": [
    "**Exercise:** The goal of this exercise is to implement a Turing machine.\n",
    "\n",
    "1. Read about Turing machines at http://en.wikipedia.org/wiki/Turing_machine.\n",
    "\n",
    "2. Write a class called `Turing` that implements a Turing machine.  For the action table, use the rules for a 3-state busy beaver.\n",
    "\n",
    "3. Write a class named `TuringDrawer` that generates an image that represents the state of the tape and the position and state of the head.  For one example of what that might look like, see http://mathworld.wolfram.com/TuringMachine.html.\n"
   ]
  },
  {
   "cell_type": "code",
   "execution_count": 69,
   "metadata": {
    "collapsed": false
   },
   "outputs": [],
   "source": [
    "#This is pretty clearly inspired by Allan's solution to this problem. \n",
    "#I was really stuck, so I worked myself through his implementation, this is the prouct of that.\n",
    "\n",
    "import numpy\n",
    "class Turing:\n",
    "    \n",
    "    def __init__(self, table, rows=15, cols=None):\n",
    "        \n",
    "        self.ROWS = rows\n",
    "        self.COLS = rows if cols is None else cols\n",
    "        self.head = numpy.zeros(self.ROWS, dtype=np.int64)\n",
    "        self.head[0] = self.COLS//2 #middle\n",
    "        self.table = table\n",
    "        self.next = 1\n",
    "        self.tape = numpy.zeros((self.ROWS, self.COLS), dtype=np.int8)\n",
    "        self.state = \"A\"\n",
    "        \n",
    "    def step(self):\n",
    "        if self.state == 'HALT':\n",
    "            raise StopIteration\n",
    "            \n",
    "        tape = self.tape\n",
    "        i = self.next\n",
    "        tape[i] = tape[i-1]\n",
    "        head = self.head[i-1]\n",
    "        symbol = tape[i-1, head]\n",
    "        print(symbol, self.state, end=': ')\n",
    "        new_symbol, move, self.state = self.table[symbol, self.state]\n",
    "        print(new_symbol, move, self.state)\n",
    "        \n",
    "        tape[i, head] = new_symbol\n",
    "        if move == \"RIGHT\":\n",
    "            head += 1\n",
    "        else: # move == 'LEFT'\n",
    "            head -= 1\n",
    "        self.head[i] = head\n",
    "        self.next += 1\n",
    "        \n",
    "    def loop(self, steps=1):\n",
    "        \"\"\"Executes the given number of time steps.\"\"\"\n",
    "        for i in range(steps):\n",
    "            try:\n",
    "                self.step()\n",
    "            except StopIteration:\n",
    "                break\n",
    "        \n",
    "    def getArray(self):\n",
    "        return self.tape\n",
    "    \n",
    "    def getHead(self):\n",
    "        return self.head"
   ]
  },
  {
   "cell_type": "code",
   "execution_count": 70,
   "metadata": {
    "collapsed": false
   },
   "outputs": [
    {
     "data": {
      "text/plain": [
       "{(0, 'A'): (1, 'RIGHT', 'B'),\n",
       " (0, 'B'): (1, 'LEFT', 'A'),\n",
       " (0, 'C'): (1, 'LEFT', 'B'),\n",
       " (1, 'A'): (1, 'LEFT', 'C'),\n",
       " (1, 'B'): (1, 'RIGHT', 'B'),\n",
       " (1, 'C'): (1, 'RIGHT', 'HALT')}"
      ]
     },
     "execution_count": 70,
     "metadata": {},
     "output_type": "execute_result"
    }
   ],
   "source": [
    "table = {}\n",
    "table[0, 'A'] = 1, 'RIGHT', 'B' \n",
    "table[0, 'B'] = 1, 'LEFT', 'A' \n",
    "table[0, 'C'] = 1, 'LEFT', 'B'\n",
    "table[1, 'A'] = 1, 'LEFT', 'C' \n",
    "table[1, 'B'] = 1, 'RIGHT', 'B' \n",
    "table[1, 'C'] = 1, 'RIGHT', 'HALT'\n",
    "\n",
    "table"
   ]
  },
  {
   "cell_type": "code",
   "execution_count": 77,
   "metadata": {
    "collapsed": false
   },
   "outputs": [
    {
     "name": "stdout",
     "output_type": "stream",
     "text": [
      "0 A: 1 RIGHT B\n",
      "0 B: 1 LEFT A\n",
      "1 A: 1 LEFT C\n",
      "0 C: 1 LEFT B\n",
      "0 B: 1 LEFT A\n",
      "0 A: 1 RIGHT B\n",
      "1 B: 1 RIGHT B\n",
      "1 B: 1 RIGHT B\n",
      "1 B: 1 RIGHT B\n",
      "1 B: 1 RIGHT B\n",
      "0 B: 1 LEFT A\n",
      "1 A: 1 LEFT C\n",
      "1 C: 1 RIGHT HALT\n"
     ]
    }
   ],
   "source": [
    "turing = Turing(table, 15)\n",
    "turing.loop(14)"
   ]
  },
  {
   "cell_type": "code",
   "execution_count": 78,
   "metadata": {
    "collapsed": false
   },
   "outputs": [],
   "source": [
    "%matplotlib notebook\n",
    "import matplotlib.pyplot as plt\n",
    "    \n",
    "def vis(turing):\n",
    "    array = turing.getArray()\n",
    "    head = turing.getHead()\n",
    "    for i in range(array.shape[1]):\n",
    "        array[i,head[i]]=2\n",
    "    plt.imshow(array,interpolation=\"None\")"
   ]
  },
  {
   "cell_type": "code",
   "execution_count": 79,
   "metadata": {
    "collapsed": false
   },
   "outputs": [
    {
     "data": {
      "application/javascript": [
       "/* Put everything inside the global mpl namespace */\n",
       "window.mpl = {};\n",
       "\n",
       "mpl.get_websocket_type = function() {\n",
       "    if (typeof(WebSocket) !== 'undefined') {\n",
       "        return WebSocket;\n",
       "    } else if (typeof(MozWebSocket) !== 'undefined') {\n",
       "        return MozWebSocket;\n",
       "    } else {\n",
       "        alert('Your browser does not have WebSocket support.' +\n",
       "              'Please try Chrome, Safari or Firefox ≥ 6. ' +\n",
       "              'Firefox 4 and 5 are also supported but you ' +\n",
       "              'have to enable WebSockets in about:config.');\n",
       "    };\n",
       "}\n",
       "\n",
       "mpl.figure = function(figure_id, websocket, ondownload, parent_element) {\n",
       "    this.id = figure_id;\n",
       "\n",
       "    this.ws = websocket;\n",
       "\n",
       "    this.supports_binary = (this.ws.binaryType != undefined);\n",
       "\n",
       "    if (!this.supports_binary) {\n",
       "        var warnings = document.getElementById(\"mpl-warnings\");\n",
       "        if (warnings) {\n",
       "            warnings.style.display = 'block';\n",
       "            warnings.textContent = (\n",
       "                \"This browser does not support binary websocket messages. \" +\n",
       "                    \"Performance may be slow.\");\n",
       "        }\n",
       "    }\n",
       "\n",
       "    this.imageObj = new Image();\n",
       "\n",
       "    this.context = undefined;\n",
       "    this.message = undefined;\n",
       "    this.canvas = undefined;\n",
       "    this.rubberband_canvas = undefined;\n",
       "    this.rubberband_context = undefined;\n",
       "    this.format_dropdown = undefined;\n",
       "\n",
       "    this.image_mode = 'full';\n",
       "\n",
       "    this.root = $('<div/>');\n",
       "    this._root_extra_style(this.root)\n",
       "    this.root.attr('style', 'display: inline-block');\n",
       "\n",
       "    $(parent_element).append(this.root);\n",
       "\n",
       "    this._init_header(this);\n",
       "    this._init_canvas(this);\n",
       "    this._init_toolbar(this);\n",
       "\n",
       "    var fig = this;\n",
       "\n",
       "    this.waiting = false;\n",
       "\n",
       "    this.ws.onopen =  function () {\n",
       "            fig.send_message(\"supports_binary\", {value: fig.supports_binary});\n",
       "            fig.send_message(\"send_image_mode\", {});\n",
       "            fig.send_message(\"refresh\", {});\n",
       "        }\n",
       "\n",
       "    this.imageObj.onload = function() {\n",
       "            if (fig.image_mode == 'full') {\n",
       "                // Full images could contain transparency (where diff images\n",
       "                // almost always do), so we need to clear the canvas so that\n",
       "                // there is no ghosting.\n",
       "                fig.context.clearRect(0, 0, fig.canvas.width, fig.canvas.height);\n",
       "            }\n",
       "            fig.context.drawImage(fig.imageObj, 0, 0);\n",
       "        };\n",
       "\n",
       "    this.imageObj.onunload = function() {\n",
       "        this.ws.close();\n",
       "    }\n",
       "\n",
       "    this.ws.onmessage = this._make_on_message_function(this);\n",
       "\n",
       "    this.ondownload = ondownload;\n",
       "}\n",
       "\n",
       "mpl.figure.prototype._init_header = function() {\n",
       "    var titlebar = $(\n",
       "        '<div class=\"ui-dialog-titlebar ui-widget-header ui-corner-all ' +\n",
       "        'ui-helper-clearfix\"/>');\n",
       "    var titletext = $(\n",
       "        '<div class=\"ui-dialog-title\" style=\"width: 100%; ' +\n",
       "        'text-align: center; padding: 3px;\"/>');\n",
       "    titlebar.append(titletext)\n",
       "    this.root.append(titlebar);\n",
       "    this.header = titletext[0];\n",
       "}\n",
       "\n",
       "\n",
       "\n",
       "mpl.figure.prototype._canvas_extra_style = function(canvas_div) {\n",
       "\n",
       "}\n",
       "\n",
       "\n",
       "mpl.figure.prototype._root_extra_style = function(canvas_div) {\n",
       "\n",
       "}\n",
       "\n",
       "mpl.figure.prototype._init_canvas = function() {\n",
       "    var fig = this;\n",
       "\n",
       "    var canvas_div = $('<div/>');\n",
       "\n",
       "    canvas_div.attr('style', 'position: relative; clear: both; outline: 0');\n",
       "\n",
       "    function canvas_keyboard_event(event) {\n",
       "        return fig.key_event(event, event['data']);\n",
       "    }\n",
       "\n",
       "    canvas_div.keydown('key_press', canvas_keyboard_event);\n",
       "    canvas_div.keyup('key_release', canvas_keyboard_event);\n",
       "    this.canvas_div = canvas_div\n",
       "    this._canvas_extra_style(canvas_div)\n",
       "    this.root.append(canvas_div);\n",
       "\n",
       "    var canvas = $('<canvas/>');\n",
       "    canvas.addClass('mpl-canvas');\n",
       "    canvas.attr('style', \"left: 0; top: 0; z-index: 0; outline: 0\")\n",
       "\n",
       "    this.canvas = canvas[0];\n",
       "    this.context = canvas[0].getContext(\"2d\");\n",
       "\n",
       "    var rubberband = $('<canvas/>');\n",
       "    rubberband.attr('style', \"position: absolute; left: 0; top: 0; z-index: 1;\")\n",
       "\n",
       "    var pass_mouse_events = true;\n",
       "\n",
       "    canvas_div.resizable({\n",
       "        start: function(event, ui) {\n",
       "            pass_mouse_events = false;\n",
       "        },\n",
       "        resize: function(event, ui) {\n",
       "            fig.request_resize(ui.size.width, ui.size.height);\n",
       "        },\n",
       "        stop: function(event, ui) {\n",
       "            pass_mouse_events = true;\n",
       "            fig.request_resize(ui.size.width, ui.size.height);\n",
       "        },\n",
       "    });\n",
       "\n",
       "    function mouse_event_fn(event) {\n",
       "        if (pass_mouse_events)\n",
       "            return fig.mouse_event(event, event['data']);\n",
       "    }\n",
       "\n",
       "    rubberband.mousedown('button_press', mouse_event_fn);\n",
       "    rubberband.mouseup('button_release', mouse_event_fn);\n",
       "    // Throttle sequential mouse events to 1 every 20ms.\n",
       "    rubberband.mousemove('motion_notify', mouse_event_fn);\n",
       "\n",
       "    rubberband.mouseenter('figure_enter', mouse_event_fn);\n",
       "    rubberband.mouseleave('figure_leave', mouse_event_fn);\n",
       "\n",
       "    canvas_div.on(\"wheel\", function (event) {\n",
       "        event = event.originalEvent;\n",
       "        event['data'] = 'scroll'\n",
       "        if (event.deltaY < 0) {\n",
       "            event.step = 1;\n",
       "        } else {\n",
       "            event.step = -1;\n",
       "        }\n",
       "        mouse_event_fn(event);\n",
       "    });\n",
       "\n",
       "    canvas_div.append(canvas);\n",
       "    canvas_div.append(rubberband);\n",
       "\n",
       "    this.rubberband = rubberband;\n",
       "    this.rubberband_canvas = rubberband[0];\n",
       "    this.rubberband_context = rubberband[0].getContext(\"2d\");\n",
       "    this.rubberband_context.strokeStyle = \"#000000\";\n",
       "\n",
       "    this._resize_canvas = function(width, height) {\n",
       "        // Keep the size of the canvas, canvas container, and rubber band\n",
       "        // canvas in synch.\n",
       "        canvas_div.css('width', width)\n",
       "        canvas_div.css('height', height)\n",
       "\n",
       "        canvas.attr('width', width);\n",
       "        canvas.attr('height', height);\n",
       "\n",
       "        rubberband.attr('width', width);\n",
       "        rubberband.attr('height', height);\n",
       "    }\n",
       "\n",
       "    // Set the figure to an initial 600x600px, this will subsequently be updated\n",
       "    // upon first draw.\n",
       "    this._resize_canvas(600, 600);\n",
       "\n",
       "    // Disable right mouse context menu.\n",
       "    $(this.rubberband_canvas).bind(\"contextmenu\",function(e){\n",
       "        return false;\n",
       "    });\n",
       "\n",
       "    function set_focus () {\n",
       "        canvas.focus();\n",
       "        canvas_div.focus();\n",
       "    }\n",
       "\n",
       "    window.setTimeout(set_focus, 100);\n",
       "}\n",
       "\n",
       "mpl.figure.prototype._init_toolbar = function() {\n",
       "    var fig = this;\n",
       "\n",
       "    var nav_element = $('<div/>')\n",
       "    nav_element.attr('style', 'width: 100%');\n",
       "    this.root.append(nav_element);\n",
       "\n",
       "    // Define a callback function for later on.\n",
       "    function toolbar_event(event) {\n",
       "        return fig.toolbar_button_onclick(event['data']);\n",
       "    }\n",
       "    function toolbar_mouse_event(event) {\n",
       "        return fig.toolbar_button_onmouseover(event['data']);\n",
       "    }\n",
       "\n",
       "    for(var toolbar_ind in mpl.toolbar_items) {\n",
       "        var name = mpl.toolbar_items[toolbar_ind][0];\n",
       "        var tooltip = mpl.toolbar_items[toolbar_ind][1];\n",
       "        var image = mpl.toolbar_items[toolbar_ind][2];\n",
       "        var method_name = mpl.toolbar_items[toolbar_ind][3];\n",
       "\n",
       "        if (!name) {\n",
       "            // put a spacer in here.\n",
       "            continue;\n",
       "        }\n",
       "        var button = $('<button/>');\n",
       "        button.addClass('ui-button ui-widget ui-state-default ui-corner-all ' +\n",
       "                        'ui-button-icon-only');\n",
       "        button.attr('role', 'button');\n",
       "        button.attr('aria-disabled', 'false');\n",
       "        button.click(method_name, toolbar_event);\n",
       "        button.mouseover(tooltip, toolbar_mouse_event);\n",
       "\n",
       "        var icon_img = $('<span/>');\n",
       "        icon_img.addClass('ui-button-icon-primary ui-icon');\n",
       "        icon_img.addClass(image);\n",
       "        icon_img.addClass('ui-corner-all');\n",
       "\n",
       "        var tooltip_span = $('<span/>');\n",
       "        tooltip_span.addClass('ui-button-text');\n",
       "        tooltip_span.html(tooltip);\n",
       "\n",
       "        button.append(icon_img);\n",
       "        button.append(tooltip_span);\n",
       "\n",
       "        nav_element.append(button);\n",
       "    }\n",
       "\n",
       "    var fmt_picker_span = $('<span/>');\n",
       "\n",
       "    var fmt_picker = $('<select/>');\n",
       "    fmt_picker.addClass('mpl-toolbar-option ui-widget ui-widget-content');\n",
       "    fmt_picker_span.append(fmt_picker);\n",
       "    nav_element.append(fmt_picker_span);\n",
       "    this.format_dropdown = fmt_picker[0];\n",
       "\n",
       "    for (var ind in mpl.extensions) {\n",
       "        var fmt = mpl.extensions[ind];\n",
       "        var option = $(\n",
       "            '<option/>', {selected: fmt === mpl.default_extension}).html(fmt);\n",
       "        fmt_picker.append(option)\n",
       "    }\n",
       "\n",
       "    // Add hover states to the ui-buttons\n",
       "    $( \".ui-button\" ).hover(\n",
       "        function() { $(this).addClass(\"ui-state-hover\");},\n",
       "        function() { $(this).removeClass(\"ui-state-hover\");}\n",
       "    );\n",
       "\n",
       "    var status_bar = $('<span class=\"mpl-message\"/>');\n",
       "    nav_element.append(status_bar);\n",
       "    this.message = status_bar[0];\n",
       "}\n",
       "\n",
       "mpl.figure.prototype.request_resize = function(x_pixels, y_pixels) {\n",
       "    // Request matplotlib to resize the figure. Matplotlib will then trigger a resize in the client,\n",
       "    // which will in turn request a refresh of the image.\n",
       "    this.send_message('resize', {'width': x_pixels, 'height': y_pixels});\n",
       "}\n",
       "\n",
       "mpl.figure.prototype.send_message = function(type, properties) {\n",
       "    properties['type'] = type;\n",
       "    properties['figure_id'] = this.id;\n",
       "    this.ws.send(JSON.stringify(properties));\n",
       "}\n",
       "\n",
       "mpl.figure.prototype.send_draw_message = function() {\n",
       "    if (!this.waiting) {\n",
       "        this.waiting = true;\n",
       "        this.ws.send(JSON.stringify({type: \"draw\", figure_id: this.id}));\n",
       "    }\n",
       "}\n",
       "\n",
       "\n",
       "mpl.figure.prototype.handle_save = function(fig, msg) {\n",
       "    var format_dropdown = fig.format_dropdown;\n",
       "    var format = format_dropdown.options[format_dropdown.selectedIndex].value;\n",
       "    fig.ondownload(fig, format);\n",
       "}\n",
       "\n",
       "\n",
       "mpl.figure.prototype.handle_resize = function(fig, msg) {\n",
       "    var size = msg['size'];\n",
       "    if (size[0] != fig.canvas.width || size[1] != fig.canvas.height) {\n",
       "        fig._resize_canvas(size[0], size[1]);\n",
       "        fig.send_message(\"refresh\", {});\n",
       "    };\n",
       "}\n",
       "\n",
       "mpl.figure.prototype.handle_rubberband = function(fig, msg) {\n",
       "    var x0 = msg['x0'];\n",
       "    var y0 = fig.canvas.height - msg['y0'];\n",
       "    var x1 = msg['x1'];\n",
       "    var y1 = fig.canvas.height - msg['y1'];\n",
       "    x0 = Math.floor(x0) + 0.5;\n",
       "    y0 = Math.floor(y0) + 0.5;\n",
       "    x1 = Math.floor(x1) + 0.5;\n",
       "    y1 = Math.floor(y1) + 0.5;\n",
       "    var min_x = Math.min(x0, x1);\n",
       "    var min_y = Math.min(y0, y1);\n",
       "    var width = Math.abs(x1 - x0);\n",
       "    var height = Math.abs(y1 - y0);\n",
       "\n",
       "    fig.rubberband_context.clearRect(\n",
       "        0, 0, fig.canvas.width, fig.canvas.height);\n",
       "\n",
       "    fig.rubberband_context.strokeRect(min_x, min_y, width, height);\n",
       "}\n",
       "\n",
       "mpl.figure.prototype.handle_figure_label = function(fig, msg) {\n",
       "    // Updates the figure title.\n",
       "    fig.header.textContent = msg['label'];\n",
       "}\n",
       "\n",
       "mpl.figure.prototype.handle_cursor = function(fig, msg) {\n",
       "    var cursor = msg['cursor'];\n",
       "    switch(cursor)\n",
       "    {\n",
       "    case 0:\n",
       "        cursor = 'pointer';\n",
       "        break;\n",
       "    case 1:\n",
       "        cursor = 'default';\n",
       "        break;\n",
       "    case 2:\n",
       "        cursor = 'crosshair';\n",
       "        break;\n",
       "    case 3:\n",
       "        cursor = 'move';\n",
       "        break;\n",
       "    }\n",
       "    fig.rubberband_canvas.style.cursor = cursor;\n",
       "}\n",
       "\n",
       "mpl.figure.prototype.handle_message = function(fig, msg) {\n",
       "    fig.message.textContent = msg['message'];\n",
       "}\n",
       "\n",
       "mpl.figure.prototype.handle_draw = function(fig, msg) {\n",
       "    // Request the server to send over a new figure.\n",
       "    fig.send_draw_message();\n",
       "}\n",
       "\n",
       "mpl.figure.prototype.handle_image_mode = function(fig, msg) {\n",
       "    fig.image_mode = msg['mode'];\n",
       "}\n",
       "\n",
       "mpl.figure.prototype.updated_canvas_event = function() {\n",
       "    // Called whenever the canvas gets updated.\n",
       "    this.send_message(\"ack\", {});\n",
       "}\n",
       "\n",
       "// A function to construct a web socket function for onmessage handling.\n",
       "// Called in the figure constructor.\n",
       "mpl.figure.prototype._make_on_message_function = function(fig) {\n",
       "    return function socket_on_message(evt) {\n",
       "        if (evt.data instanceof Blob) {\n",
       "            /* FIXME: We get \"Resource interpreted as Image but\n",
       "             * transferred with MIME type text/plain:\" errors on\n",
       "             * Chrome.  But how to set the MIME type?  It doesn't seem\n",
       "             * to be part of the websocket stream */\n",
       "            evt.data.type = \"image/png\";\n",
       "\n",
       "            /* Free the memory for the previous frames */\n",
       "            if (fig.imageObj.src) {\n",
       "                (window.URL || window.webkitURL).revokeObjectURL(\n",
       "                    fig.imageObj.src);\n",
       "            }\n",
       "\n",
       "            fig.imageObj.src = (window.URL || window.webkitURL).createObjectURL(\n",
       "                evt.data);\n",
       "            fig.updated_canvas_event();\n",
       "            fig.waiting = false;\n",
       "            return;\n",
       "        }\n",
       "        else if (typeof evt.data === 'string' && evt.data.slice(0, 21) == \"data:image/png;base64\") {\n",
       "            fig.imageObj.src = evt.data;\n",
       "            fig.updated_canvas_event();\n",
       "            fig.waiting = false;\n",
       "            return;\n",
       "        }\n",
       "\n",
       "        var msg = JSON.parse(evt.data);\n",
       "        var msg_type = msg['type'];\n",
       "\n",
       "        // Call the  \"handle_{type}\" callback, which takes\n",
       "        // the figure and JSON message as its only arguments.\n",
       "        try {\n",
       "            var callback = fig[\"handle_\" + msg_type];\n",
       "        } catch (e) {\n",
       "            console.log(\"No handler for the '\" + msg_type + \"' message type: \", msg);\n",
       "            return;\n",
       "        }\n",
       "\n",
       "        if (callback) {\n",
       "            try {\n",
       "                // console.log(\"Handling '\" + msg_type + \"' message: \", msg);\n",
       "                callback(fig, msg);\n",
       "            } catch (e) {\n",
       "                console.log(\"Exception inside the 'handler_\" + msg_type + \"' callback:\", e, e.stack, msg);\n",
       "            }\n",
       "        }\n",
       "    };\n",
       "}\n",
       "\n",
       "// from http://stackoverflow.com/questions/1114465/getting-mouse-location-in-canvas\n",
       "mpl.findpos = function(e) {\n",
       "    //this section is from http://www.quirksmode.org/js/events_properties.html\n",
       "    var targ;\n",
       "    if (!e)\n",
       "        e = window.event;\n",
       "    if (e.target)\n",
       "        targ = e.target;\n",
       "    else if (e.srcElement)\n",
       "        targ = e.srcElement;\n",
       "    if (targ.nodeType == 3) // defeat Safari bug\n",
       "        targ = targ.parentNode;\n",
       "\n",
       "    // jQuery normalizes the pageX and pageY\n",
       "    // pageX,Y are the mouse positions relative to the document\n",
       "    // offset() returns the position of the element relative to the document\n",
       "    var x = e.pageX - $(targ).offset().left;\n",
       "    var y = e.pageY - $(targ).offset().top;\n",
       "\n",
       "    return {\"x\": x, \"y\": y};\n",
       "};\n",
       "\n",
       "/*\n",
       " * return a copy of an object with only non-object keys\n",
       " * we need this to avoid circular references\n",
       " * http://stackoverflow.com/a/24161582/3208463\n",
       " */\n",
       "function simpleKeys (original) {\n",
       "  return Object.keys(original).reduce(function (obj, key) {\n",
       "    if (typeof original[key] !== 'object')\n",
       "        obj[key] = original[key]\n",
       "    return obj;\n",
       "  }, {});\n",
       "}\n",
       "\n",
       "mpl.figure.prototype.mouse_event = function(event, name) {\n",
       "    var canvas_pos = mpl.findpos(event)\n",
       "\n",
       "    if (name === 'button_press')\n",
       "    {\n",
       "        this.canvas.focus();\n",
       "        this.canvas_div.focus();\n",
       "    }\n",
       "\n",
       "    var x = canvas_pos.x;\n",
       "    var y = canvas_pos.y;\n",
       "\n",
       "    this.send_message(name, {x: x, y: y, button: event.button,\n",
       "                             step: event.step,\n",
       "                             guiEvent: simpleKeys(event)});\n",
       "\n",
       "    /* This prevents the web browser from automatically changing to\n",
       "     * the text insertion cursor when the button is pressed.  We want\n",
       "     * to control all of the cursor setting manually through the\n",
       "     * 'cursor' event from matplotlib */\n",
       "    event.preventDefault();\n",
       "    return false;\n",
       "}\n",
       "\n",
       "mpl.figure.prototype._key_event_extra = function(event, name) {\n",
       "    // Handle any extra behaviour associated with a key event\n",
       "}\n",
       "\n",
       "mpl.figure.prototype.key_event = function(event, name) {\n",
       "\n",
       "    // Prevent repeat events\n",
       "    if (name == 'key_press')\n",
       "    {\n",
       "        if (event.which === this._key)\n",
       "            return;\n",
       "        else\n",
       "            this._key = event.which;\n",
       "    }\n",
       "    if (name == 'key_release')\n",
       "        this._key = null;\n",
       "\n",
       "    var value = '';\n",
       "    if (event.ctrlKey && event.which != 17)\n",
       "        value += \"ctrl+\";\n",
       "    if (event.altKey && event.which != 18)\n",
       "        value += \"alt+\";\n",
       "    if (event.shiftKey && event.which != 16)\n",
       "        value += \"shift+\";\n",
       "\n",
       "    value += 'k';\n",
       "    value += event.which.toString();\n",
       "\n",
       "    this._key_event_extra(event, name);\n",
       "\n",
       "    this.send_message(name, {key: value,\n",
       "                             guiEvent: simpleKeys(event)});\n",
       "    return false;\n",
       "}\n",
       "\n",
       "mpl.figure.prototype.toolbar_button_onclick = function(name) {\n",
       "    if (name == 'download') {\n",
       "        this.handle_save(this, null);\n",
       "    } else {\n",
       "        this.send_message(\"toolbar_button\", {name: name});\n",
       "    }\n",
       "};\n",
       "\n",
       "mpl.figure.prototype.toolbar_button_onmouseover = function(tooltip) {\n",
       "    this.message.textContent = tooltip;\n",
       "};\n",
       "mpl.toolbar_items = [[\"Home\", \"Reset original view\", \"fa fa-home icon-home\", \"home\"], [\"Back\", \"Back to  previous view\", \"fa fa-arrow-left icon-arrow-left\", \"back\"], [\"Forward\", \"Forward to next view\", \"fa fa-arrow-right icon-arrow-right\", \"forward\"], [\"\", \"\", \"\", \"\"], [\"Pan\", \"Pan axes with left mouse, zoom with right\", \"fa fa-arrows icon-move\", \"pan\"], [\"Zoom\", \"Zoom to rectangle\", \"fa fa-square-o icon-check-empty\", \"zoom\"], [\"\", \"\", \"\", \"\"], [\"Download\", \"Download plot\", \"fa fa-floppy-o icon-save\", \"download\"]];\n",
       "\n",
       "mpl.extensions = [\"eps\", \"jpeg\", \"pdf\", \"png\", \"ps\", \"raw\", \"svg\", \"tif\"];\n",
       "\n",
       "mpl.default_extension = \"png\";var comm_websocket_adapter = function(comm) {\n",
       "    // Create a \"websocket\"-like object which calls the given IPython comm\n",
       "    // object with the appropriate methods. Currently this is a non binary\n",
       "    // socket, so there is still some room for performance tuning.\n",
       "    var ws = {};\n",
       "\n",
       "    ws.close = function() {\n",
       "        comm.close()\n",
       "    };\n",
       "    ws.send = function(m) {\n",
       "        //console.log('sending', m);\n",
       "        comm.send(m);\n",
       "    };\n",
       "    // Register the callback with on_msg.\n",
       "    comm.on_msg(function(msg) {\n",
       "        //console.log('receiving', msg['content']['data'], msg);\n",
       "        // Pass the mpl event to the overriden (by mpl) onmessage function.\n",
       "        ws.onmessage(msg['content']['data'])\n",
       "    });\n",
       "    return ws;\n",
       "}\n",
       "\n",
       "mpl.mpl_figure_comm = function(comm, msg) {\n",
       "    // This is the function which gets called when the mpl process\n",
       "    // starts-up an IPython Comm through the \"matplotlib\" channel.\n",
       "\n",
       "    var id = msg.content.data.id;\n",
       "    // Get hold of the div created by the display call when the Comm\n",
       "    // socket was opened in Python.\n",
       "    var element = $(\"#\" + id);\n",
       "    var ws_proxy = comm_websocket_adapter(comm)\n",
       "\n",
       "    function ondownload(figure, format) {\n",
       "        window.open(figure.imageObj.src);\n",
       "    }\n",
       "\n",
       "    var fig = new mpl.figure(id, ws_proxy,\n",
       "                           ondownload,\n",
       "                           element.get(0));\n",
       "\n",
       "    // Call onopen now - mpl needs it, as it is assuming we've passed it a real\n",
       "    // web socket which is closed, not our websocket->open comm proxy.\n",
       "    ws_proxy.onopen();\n",
       "\n",
       "    fig.parent_element = element.get(0);\n",
       "    fig.cell_info = mpl.find_output_cell(\"<div id='\" + id + \"'></div>\");\n",
       "    if (!fig.cell_info) {\n",
       "        console.error(\"Failed to find cell for figure\", id, fig);\n",
       "        return;\n",
       "    }\n",
       "\n",
       "    var output_index = fig.cell_info[2]\n",
       "    var cell = fig.cell_info[0];\n",
       "\n",
       "};\n",
       "\n",
       "mpl.figure.prototype.handle_close = function(fig, msg) {\n",
       "    fig.root.unbind('remove')\n",
       "\n",
       "    // Update the output cell to use the data from the current canvas.\n",
       "    fig.push_to_output();\n",
       "    var dataURL = fig.canvas.toDataURL();\n",
       "    // Re-enable the keyboard manager in IPython - without this line, in FF,\n",
       "    // the notebook keyboard shortcuts fail.\n",
       "    IPython.keyboard_manager.enable()\n",
       "    $(fig.parent_element).html('<img src=\"' + dataURL + '\">');\n",
       "    fig.close_ws(fig, msg);\n",
       "}\n",
       "\n",
       "mpl.figure.prototype.close_ws = function(fig, msg){\n",
       "    fig.send_message('closing', msg);\n",
       "    // fig.ws.close()\n",
       "}\n",
       "\n",
       "mpl.figure.prototype.push_to_output = function(remove_interactive) {\n",
       "    // Turn the data on the canvas into data in the output cell.\n",
       "    var dataURL = this.canvas.toDataURL();\n",
       "    this.cell_info[1]['text/html'] = '<img src=\"' + dataURL + '\">';\n",
       "}\n",
       "\n",
       "mpl.figure.prototype.updated_canvas_event = function() {\n",
       "    // Tell IPython that the notebook contents must change.\n",
       "    IPython.notebook.set_dirty(true);\n",
       "    this.send_message(\"ack\", {});\n",
       "    var fig = this;\n",
       "    // Wait a second, then push the new image to the DOM so\n",
       "    // that it is saved nicely (might be nice to debounce this).\n",
       "    setTimeout(function () { fig.push_to_output() }, 1000);\n",
       "}\n",
       "\n",
       "mpl.figure.prototype._init_toolbar = function() {\n",
       "    var fig = this;\n",
       "\n",
       "    var nav_element = $('<div/>')\n",
       "    nav_element.attr('style', 'width: 100%');\n",
       "    this.root.append(nav_element);\n",
       "\n",
       "    // Define a callback function for later on.\n",
       "    function toolbar_event(event) {\n",
       "        return fig.toolbar_button_onclick(event['data']);\n",
       "    }\n",
       "    function toolbar_mouse_event(event) {\n",
       "        return fig.toolbar_button_onmouseover(event['data']);\n",
       "    }\n",
       "\n",
       "    for(var toolbar_ind in mpl.toolbar_items){\n",
       "        var name = mpl.toolbar_items[toolbar_ind][0];\n",
       "        var tooltip = mpl.toolbar_items[toolbar_ind][1];\n",
       "        var image = mpl.toolbar_items[toolbar_ind][2];\n",
       "        var method_name = mpl.toolbar_items[toolbar_ind][3];\n",
       "\n",
       "        if (!name) { continue; };\n",
       "\n",
       "        var button = $('<button class=\"btn btn-default\" href=\"#\" title=\"' + name + '\"><i class=\"fa ' + image + ' fa-lg\"></i></button>');\n",
       "        button.click(method_name, toolbar_event);\n",
       "        button.mouseover(tooltip, toolbar_mouse_event);\n",
       "        nav_element.append(button);\n",
       "    }\n",
       "\n",
       "    // Add the status bar.\n",
       "    var status_bar = $('<span class=\"mpl-message\" style=\"text-align:right; float: right;\"/>');\n",
       "    nav_element.append(status_bar);\n",
       "    this.message = status_bar[0];\n",
       "\n",
       "    // Add the close button to the window.\n",
       "    var buttongrp = $('<div class=\"btn-group inline pull-right\"></div>');\n",
       "    var button = $('<button class=\"btn btn-mini btn-primary\" href=\"#\" title=\"Stop Interaction\"><i class=\"fa fa-power-off icon-remove icon-large\"></i></button>');\n",
       "    button.click(function (evt) { fig.handle_close(fig, {}); } );\n",
       "    button.mouseover('Stop Interaction', toolbar_mouse_event);\n",
       "    buttongrp.append(button);\n",
       "    var titlebar = this.root.find($('.ui-dialog-titlebar'));\n",
       "    titlebar.prepend(buttongrp);\n",
       "}\n",
       "\n",
       "mpl.figure.prototype._root_extra_style = function(el){\n",
       "    var fig = this\n",
       "    el.on(\"remove\", function(){\n",
       "\tfig.close_ws(fig, {});\n",
       "    });\n",
       "}\n",
       "\n",
       "mpl.figure.prototype._canvas_extra_style = function(el){\n",
       "    // this is important to make the div 'focusable\n",
       "    el.attr('tabindex', 0)\n",
       "    // reach out to IPython and tell the keyboard manager to turn it's self\n",
       "    // off when our div gets focus\n",
       "\n",
       "    // location in version 3\n",
       "    if (IPython.notebook.keyboard_manager) {\n",
       "        IPython.notebook.keyboard_manager.register_events(el);\n",
       "    }\n",
       "    else {\n",
       "        // location in version 2\n",
       "        IPython.keyboard_manager.register_events(el);\n",
       "    }\n",
       "\n",
       "}\n",
       "\n",
       "mpl.figure.prototype._key_event_extra = function(event, name) {\n",
       "    var manager = IPython.notebook.keyboard_manager;\n",
       "    if (!manager)\n",
       "        manager = IPython.keyboard_manager;\n",
       "\n",
       "    // Check for shift+enter\n",
       "    if (event.shiftKey && event.which == 13) {\n",
       "        this.canvas_div.blur();\n",
       "        event.shiftKey = false;\n",
       "        // Send a \"J\" for go to next cell\n",
       "        event.which = 74;\n",
       "        event.keyCode = 74;\n",
       "        manager.command_mode();\n",
       "        manager.handle_keydown(event);\n",
       "    }\n",
       "}\n",
       "\n",
       "mpl.figure.prototype.handle_save = function(fig, msg) {\n",
       "    fig.ondownload(fig, null);\n",
       "}\n",
       "\n",
       "\n",
       "mpl.find_output_cell = function(html_output) {\n",
       "    // Return the cell and output element which can be found *uniquely* in the notebook.\n",
       "    // Note - this is a bit hacky, but it is done because the \"notebook_saving.Notebook\"\n",
       "    // IPython event is triggered only after the cells have been serialised, which for\n",
       "    // our purposes (turning an active figure into a static one), is too late.\n",
       "    var cells = IPython.notebook.get_cells();\n",
       "    var ncells = cells.length;\n",
       "    for (var i=0; i<ncells; i++) {\n",
       "        var cell = cells[i];\n",
       "        if (cell.cell_type === 'code'){\n",
       "            for (var j=0; j<cell.output_area.outputs.length; j++) {\n",
       "                var data = cell.output_area.outputs[j];\n",
       "                if (data.data) {\n",
       "                    // IPython >= 3 moved mimebundle to data attribute of output\n",
       "                    data = data.data;\n",
       "                }\n",
       "                if (data['text/html'] == html_output) {\n",
       "                    return [cell, data, j];\n",
       "                }\n",
       "            }\n",
       "        }\n",
       "    }\n",
       "}\n",
       "\n",
       "// Register the function which deals with the matplotlib target/channel.\n",
       "// The kernel may be null if the page has been refreshed.\n",
       "if (IPython.notebook.kernel != null) {\n",
       "    IPython.notebook.kernel.comm_manager.register_target('matplotlib', mpl.mpl_figure_comm);\n",
       "}\n"
      ],
      "text/plain": [
       "<IPython.core.display.Javascript object>"
      ]
     },
     "metadata": {},
     "output_type": "display_data"
    },
    {
     "data": {
      "text/html": [
       "<img src=\"data:image/png;base64,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\">"
      ],
      "text/plain": [
       "<IPython.core.display.HTML object>"
      ]
     },
     "metadata": {},
     "output_type": "display_data"
    }
   ],
   "source": [
    "vis(turing)"
   ]
  },
  {
   "cell_type": "markdown",
   "metadata": {},
   "source": [
    "**Exercise:** This exercise asks you to implement and test several PRNGs.\n",
    "For testing, you will need to install \n",
    "`DieHarder`, which you can download from \n",
    "https://www.phy.duke.edu/~rgb/General/dieharder.php, or it\n",
    "might be available as a package for your operating system.\n",
    "\n",
    "1. Write a program that implements one of the linear congruential\n",
    "generators described at http://en.wikipedia.org/wiki/Linear_congruential_generator}.\n",
    "Test it using `DieHarder`.\n",
    "\n",
    "2. Read the documentation of Python's `random` module.\n",
    "What PRNG does it use?  Test it.\n",
    "\n",
    "3. Implement a Rule 30 CA with a few hundred cells,\n",
    "run it for as many time steps as you can in a reasonable amount\n",
    "of time, and output the center column as a sequence of bits.\n",
    "Test it.\n"
   ]
  },
  {
   "cell_type": "code",
   "execution_count": 82,
   "metadata": {
    "collapsed": false
   },
   "outputs": [
    {
     "data": {
      "text/plain": [
       "[4940593,\n",
       " 2157912,\n",
       " 2596479,\n",
       " 423590,\n",
       " 6583757,\n",
       " 6855668,\n",
       " 3795227,\n",
       " 8346946,\n",
       " 6289513,\n",
       " 178832,\n",
       " 959415,\n",
       " 2798558,\n",
       " 8252165,\n",
       " 3098924,\n",
       " 6671955,\n",
       " 4749946,\n",
       " 8277409,\n",
       " 3033032,\n",
       " 8349935,\n",
       " 1618198,\n",
       " 2170941,\n",
       " 4175460,\n",
       " 1799051,\n",
       " 5986226,\n",
       " 2515673,\n",
       " 2331904,\n",
       " 7990823,\n",
       " 5271118,\n",
       " 5117301,\n",
       " 1696668,\n",
       " 5953731,\n",
       " 3667178,\n",
       " 5781521,\n",
       " 6464056,\n",
       " 8270687,\n",
       " 5368710,\n",
       " 314029,\n",
       " 4051156,\n",
       " 2358779,\n",
       " 6181410,\n",
       " 1297737,\n",
       " 7040880,\n",
       " 800919,\n",
       " 1910974,\n",
       " 4538341,\n",
       " 2850316,\n",
       " 7791411,\n",
       " 5140314,\n",
       " 5841537,\n",
       " 4062376,\n",
       " 2358735,\n",
       " 3286518,\n",
       " 1013021,\n",
       " 6482756,\n",
       " 5474411,\n",
       " 543890,\n",
       " 2635705,\n",
       " 5917152,\n",
       " 4555527,\n",
       " 1106734,\n",
       " 6515285,\n",
       " 6559868,\n",
       " 3796387,\n",
       " 780746,\n",
       " 68849,\n",
       " 4216600,\n",
       " 7391295,\n",
       " 3760230,\n",
       " 4267917,\n",
       " 3081652,\n",
       " 2757339,\n",
       " 5850882,\n",
       " 6529577,\n",
       " 7349328,\n",
       " 2477431,\n",
       " 2858398,\n",
       " 2659525,\n",
       " 4436716,\n",
       " 2357267,\n",
       " 7365690,\n",
       " 5240673,\n",
       " 6926728,\n",
       " 6591151,\n",
       " 6789846,\n",
       " 1690109,\n",
       " 2236452,\n",
       " 2596171,\n",
       " 5325170,\n",
       " 4590745,\n",
       " 2948800,\n",
       " 2955239,\n",
       " 7165966,\n",
       " 1359669,\n",
       " 4869468,\n",
       " 3474051,\n",
       " 8117930,\n",
       " 4579793,\n",
       " 3804152,\n",
       " 8346911,\n",
       " 3986758]"
      ]
     },
     "execution_count": 82,
     "metadata": {},
     "output_type": "execute_result"
    }
   ],
   "source": [
    "def lcg(seed, modulus=8388608, a=65793, c=4282663):\n",
    "    return (seed * a + c) % modulus\n",
    "\n",
    "def lcg_series(seed, n, result=None):\n",
    "    if result==None:\n",
    "        result = []\n",
    "    if n == 0:\n",
    "        return result\n",
    "    else:\n",
    "        result.append(lcg(seed))\n",
    "        return lcg_series(result[-1],n-1,result)\n",
    "    \n",
    "lcg_series(10,100)"
   ]
  },
  {
   "cell_type": "code",
   "execution_count": 84,
   "metadata": {
    "collapsed": false
   },
   "outputs": [
    {
     "data": {
      "text/plain": [
       "[0.342222356185256,\n",
       " 0.9319070283799147,\n",
       " 0.08724677617848975,\n",
       " 0.5020002585892119,\n",
       " 0.07642125974189129,\n",
       " 0.38157448356936174,\n",
       " 0.25533938423461244,\n",
       " 0.09421629938066678,\n",
       " 0.8737656604551054,\n",
       " 0.6748777702811821,\n",
       " 0.7572863721831345,\n",
       " 0.03977297687897863,\n",
       " 0.7799789902224443,\n",
       " 0.9858526026917613,\n",
       " 0.9429995725481886,\n",
       " 0.02301727230321937,\n",
       " 0.42228022330762127,\n",
       " 0.8464850658147249,\n",
       " 0.09092932240623741,\n",
       " 0.8317475929450002,\n",
       " 0.8832588373063713,\n",
       " 0.6996911526252216,\n",
       " 0.3614460911565983,\n",
       " 0.6016438900608964,\n",
       " 0.4248490133088201,\n",
       " 0.372517704691568,\n",
       " 0.2771185523462695,\n",
       " 0.43892963320903,\n",
       " 0.15084634439452704,\n",
       " 0.5083399962152115,\n",
       " 0.03360501547562611,\n",
       " 0.7460318857600737,\n",
       " 0.7313254303259563,\n",
       " 0.7511989522409491,\n",
       " 0.2457564729232954,\n",
       " 0.6509741724999947,\n",
       " 0.1252475818881369,\n",
       " 0.4759296285626078,\n",
       " 0.18324648758912487,\n",
       " 0.28260757141186343,\n",
       " 0.37552928618294557,\n",
       " 0.9865075900006309,\n",
       " 0.2372406823812263,\n",
       " 0.8870255157748919,\n",
       " 0.40417917885455157,\n",
       " 0.3893596055979568,\n",
       " 0.2320520824482426,\n",
       " 0.3780450797085596,\n",
       " 0.6394987169817954,\n",
       " 0.009941746900646309,\n",
       " 0.5048966382562884,\n",
       " 0.554878961205124,\n",
       " 0.6837572821612483,\n",
       " 0.5829896245009716,\n",
       " 0.5153871850884911,\n",
       " 0.09951603813441989,\n",
       " 0.883766903740519,\n",
       " 0.9620455144606606,\n",
       " 0.9539033457872387,\n",
       " 0.8626443386417589,\n",
       " 0.9240348613909134,\n",
       " 0.9057472862443228,\n",
       " 0.23692402618097208,\n",
       " 0.8261649442068087,\n",
       " 0.9977041787897077,\n",
       " 0.8634395144738471,\n",
       " 0.7655095399148061,\n",
       " 0.02690767949683781,\n",
       " 0.8073087534405003,\n",
       " 0.08511682786135111,\n",
       " 0.5198866659449665,\n",
       " 0.19949171722955084,\n",
       " 0.16843092020178552,\n",
       " 0.1055901146610706,\n",
       " 0.8055428529000968,\n",
       " 0.36736744973909674,\n",
       " 0.5648488820659237,\n",
       " 0.4435553057586761,\n",
       " 0.6815425922511236,\n",
       " 0.03585832566078018,\n",
       " 0.16330890903630313,\n",
       " 0.5772128104759194,\n",
       " 0.49589417755453014,\n",
       " 0.31492579231464857,\n",
       " 0.6270190703448799,\n",
       " 0.6115684655480772,\n",
       " 0.9519681356442163,\n",
       " 0.6033554055122727,\n",
       " 0.19023593567677655,\n",
       " 0.0004205348451788993,\n",
       " 0.31153569050807406,\n",
       " 0.19717799064345531,\n",
       " 0.4619385105293873,\n",
       " 0.5194326690795704,\n",
       " 0.49700445755881173,\n",
       " 0.4497411349506113,\n",
       " 0.7157159710860365,\n",
       " 0.2622584058446654,\n",
       " 0.8396129817872,\n",
       " 0.3910573463121967]"
      ]
     },
     "execution_count": 84,
     "metadata": {},
     "output_type": "execute_result"
    }
   ],
   "source": [
    "import random\n",
    "#Mersenne Twisters\n",
    "[random.random() for x in range(100)]"
   ]
  },
  {
   "cell_type": "code",
   "execution_count": 92,
   "metadata": {
    "collapsed": false
   },
   "outputs": [],
   "source": [
    "ca = Cell1D(30, 10000, 20000)\n",
    "ca.start_single()\n",
    "ca.loop(1999)"
   ]
  },
  {
   "cell_type": "code",
   "execution_count": 94,
   "metadata": {
    "collapsed": false
   },
   "outputs": [],
   "source": [
    "center = ca.array[:, 10000]"
   ]
  },
  {
   "cell_type": "code",
   "execution_count": 100,
   "metadata": {
    "collapsed": false
   },
   "outputs": [],
   "source": [
    "bits=np.split(center,8)"
   ]
  },
  {
   "cell_type": "code",
   "execution_count": 101,
   "metadata": {
    "collapsed": false
   },
   "outputs": [
    {
     "data": {
      "text/plain": [
       "array([220, 197, 147, ...,   0,   0,   0], dtype=uint8)"
      ]
     },
     "execution_count": 101,
     "metadata": {},
     "output_type": "execute_result"
    }
   ],
   "source": [
    "decs=np.packbits(bits)\n",
    "decs"
   ]
  },
  {
   "cell_type": "code",
   "execution_count": null,
   "metadata": {
    "collapsed": true
   },
   "outputs": [],
   "source": []
  }
 ],
 "metadata": {
  "anaconda-cloud": {},
  "kernelspec": {
   "display_name": "Python [Root]",
   "language": "python",
   "name": "Python [Root]"
  },
  "language_info": {
   "codemirror_mode": {
    "name": "ipython",
    "version": 3
   },
   "file_extension": ".py",
   "mimetype": "text/x-python",
   "name": "python",
   "nbconvert_exporter": "python",
   "pygments_lexer": "ipython3",
   "version": "3.5.2"
  }
 },
 "nbformat": 4,
 "nbformat_minor": 0
}
